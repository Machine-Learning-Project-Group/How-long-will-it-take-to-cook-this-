{
 "cells": [
  {
   "cell_type": "markdown",
   "id": "heavy-opposition",
   "metadata": {},
   "source": [
    "# A Title"
   ]
  },
  {
   "cell_type": "markdown",
   "id": "framed-frame",
   "metadata": {},
   "source": [
    "### Imports"
   ]
  },
  {
   "cell_type": "code",
   "execution_count": 1,
   "id": "electric-hungarian",
   "metadata": {},
   "outputs": [],
   "source": [
    "import numpy as np\n",
    "import pandas as pd\n",
    "from sklearn.metrics import accuracy_score\n",
    "import matplotlib.pyplot as plt"
   ]
  },
  {
   "cell_type": "markdown",
   "id": "statewide-diary",
   "metadata": {},
   "source": [
    "## 1R model"
   ]
  },
  {
   "cell_type": "code",
   "execution_count": 2,
   "id": "impossible-cooler",
   "metadata": {},
   "outputs": [],
   "source": [
    "from models.model_1R import n_1R, predict_1R"
   ]
  },
  {
   "cell_type": "code",
   "execution_count": 3,
   "id": "musical-working",
   "metadata": {},
   "outputs": [
    {
     "name": "stdout",
     "output_type": "stream",
     "text": [
      "predicting using steps\n"
     ]
    }
   ],
   "source": [
    "model = n_1R(\"data/recipe_train.csv\", rule='steps')\n",
    "predict_1R(\"data/recipe_test.csv\", model)"
   ]
  }
 ],
 "metadata": {
  "kernelspec": {
   "display_name": "Python 3",
   "language": "python",
   "name": "python3"
  },
  "language_info": {
   "codemirror_mode": {
    "name": "ipython",
    "version": 3
   },
   "file_extension": ".py",
   "mimetype": "text/x-python",
   "name": "python",
   "nbconvert_exporter": "python",
   "pygments_lexer": "ipython3",
   "version": "3.6.8"
  }
 },
 "nbformat": 4,
 "nbformat_minor": 5
}
