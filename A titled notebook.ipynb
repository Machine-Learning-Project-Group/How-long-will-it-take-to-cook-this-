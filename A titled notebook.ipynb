{
 "cells": [
  {
   "cell_type": "markdown",
   "id": "juvenile-advocate",
   "metadata": {},
   "source": [
    "# A Title"
   ]
  },
  {
   "cell_type": "markdown",
   "id": "clinical-plastic",
   "metadata": {},
   "source": [
    "### Imports"
   ]
  },
  {
   "cell_type": "code",
   "execution_count": 1,
   "id": "informative-stranger",
   "metadata": {},
   "outputs": [],
   "source": [
    "import numpy as np\n",
    "import pandas as pd\n",
    "from sklearn.metrics import accuracy_score\n",
    "import matplotlib.pyplot as plt"
   ]
  },
  {
   "cell_type": "markdown",
   "id": "lesbian-hebrew",
   "metadata": {},
   "source": [
    "## Train test split"
   ]
  },
  {
   "cell_type": "code",
   "execution_count": 4,
   "id": "sustainable-bristol",
   "metadata": {},
   "outputs": [],
   "source": [
    "from sklearn.model_selection import KFold"
   ]
  },
  {
   "cell_type": "code",
   "execution_count": 23,
   "id": "premier-sound",
   "metadata": {},
   "outputs": [
    {
     "name": "stdout",
     "output_type": "stream",
     "text": [
      "created training set containing 1600 instances\n",
      "created test set containing 400 instances\n"
     ]
    }
   ],
   "source": [
    "X = pd.read_csv(\"data/recipe_train.csv\", header=0)\n",
    "\n",
    "# change split scale here\n",
    "kf = KFold(n_splits=20, shuffle=True)\n",
    "kf.get_n_splits(X)\n",
    "\n",
    "for a, b in kf.split(X):\n",
    "\n",
    "    kf = KFold(n_splits=5, shuffle=True)\n",
    "    kf.get_n_splits(b)\n",
    "\n",
    "    for c, d in kf.split(b):\n",
    "        \n",
    "        train_small = X.iloc[c]\n",
    "        test_small = X.iloc[d]\n",
    "\n",
    "        train_small.to_csv(\"data/train_small.csv\", index=False)\n",
    "        test_small.to_csv(\"data/test_small.csv\", index=False)\n",
    "        \n",
    "        print(f\"created training set containing {len(train_small.index)} instances\")\n",
    "        print(f\"created test set containing {len(test_small.index)} instances\")\n",
    "        \n",
    "        break\n",
    "    break"
   ]
  },
  {
   "cell_type": "markdown",
   "id": "biological-housing",
   "metadata": {},
   "source": [
    "## 1R model"
   ]
  },
  {
   "cell_type": "code",
   "execution_count": 2,
   "id": "faced-advance",
   "metadata": {},
   "outputs": [],
   "source": [
    "from models.model_1R import n_1R, predict_1R"
   ]
  },
  {
   "cell_type": "code",
   "execution_count": 3,
   "id": "planned-baseline",
   "metadata": {},
   "outputs": [
    {
     "name": "stdout",
     "output_type": "stream",
     "text": [
      "predicting using steps\n"
     ]
    }
   ],
   "source": [
    "model = n_1R(\"data/recipe_train.csv\", rule='steps')\n",
    "predict_1R(\"data/recipe_test.csv\", model)"
   ]
  }
 ],
 "metadata": {
  "kernelspec": {
   "display_name": "Python 3",
   "language": "python",
   "name": "python3"
  },
  "language_info": {
   "codemirror_mode": {
    "name": "ipython",
    "version": 3
   },
   "file_extension": ".py",
   "mimetype": "text/x-python",
   "name": "python",
   "nbconvert_exporter": "python",
   "pygments_lexer": "ipython3",
   "version": "3.6.8"
  }
 },
 "nbformat": 4,
 "nbformat_minor": 5
}
