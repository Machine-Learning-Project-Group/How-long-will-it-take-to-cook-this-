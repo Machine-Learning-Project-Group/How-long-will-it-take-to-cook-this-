{
 "cells": [
  {
   "cell_type": "markdown",
   "id": "protecting-collins",
   "metadata": {},
   "source": [
    "# A Title"
   ]
  },
  {
   "cell_type": "markdown",
   "id": "featured-gardening",
   "metadata": {},
   "source": [
    "### Imports"
   ]
  },
  {
   "cell_type": "code",
   "execution_count": 5,
   "id": "golden-diameter",
   "metadata": {},
   "outputs": [],
   "source": [
    "import numpy as np\n",
    "import pandas as pd\n",
    "from sklearn.metrics import accuracy_score\n",
    "import matplotlib.pyplot as plt"
   ]
  },
  {
   "cell_type": "markdown",
   "id": "therapeutic-nation",
   "metadata": {},
   "source": [
    "## 1R model"
   ]
  },
  {
   "cell_type": "code",
   "execution_count": 2,
   "id": "agricultural-astrology",
   "metadata": {},
   "outputs": [],
   "source": [
    "from models.model_1R import n_steps1R, predict_1R"
   ]
  },
  {
   "cell_type": "code",
   "execution_count": 4,
   "id": "exciting-trinidad",
   "metadata": {},
   "outputs": [],
   "source": [
    "model = n_steps1R(\"data/recipe_train.csv\")\n",
    "predict_1R(\"data/recipe_test.csv\", model)"
   ]
  },
  {
   "cell_type": "code",
   "execution_count": null,
   "id": "wrapped-dating",
   "metadata": {},
   "outputs": [],
   "source": []
  }
 ],
 "metadata": {
  "kernelspec": {
   "display_name": "Python 3",
   "language": "python",
   "name": "python3"
  },
  "language_info": {
   "codemirror_mode": {
    "name": "ipython",
    "version": 3
   },
   "file_extension": ".py",
   "mimetype": "text/x-python",
   "name": "python",
   "nbconvert_exporter": "python",
   "pygments_lexer": "ipython3",
   "version": "3.6.8"
  }
 },
 "nbformat": 4,
 "nbformat_minor": 5
}
