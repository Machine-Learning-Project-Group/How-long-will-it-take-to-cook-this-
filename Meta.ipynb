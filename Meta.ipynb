{
  "nbformat": 4,
  "nbformat_minor": 5,
  "metadata": {
    "kernelspec": {
      "display_name": "Python 3",
      "language": "python",
      "name": "python3"
    },
    "language_info": {
      "codemirror_mode": {
        "name": "ipython",
        "version": 3
      },
      "file_extension": ".py",
      "mimetype": "text/x-python",
      "name": "python",
      "nbconvert_exporter": "python",
      "pygments_lexer": "ipython3",
      "version": "3.6.8"
    },
    "colab": {
      "name": "Meta.ipynb",
      "provenance": [],
      "collapsed_sections": [],
      "toc_visible": true
    }
  },
  "cells": [
    {
      "cell_type": "markdown",
      "metadata": {
        "id": "broke-electric"
      },
      "source": [
        "# Meta"
      ],
      "id": "broke-electric"
    },
    {
      "cell_type": "code",
      "metadata": {
        "colab": {
          "base_uri": "https://localhost:8080/"
        },
        "id": "DRi_azS1f3ua",
        "outputId": "bbff75e6-7072-4aaf-8156-63abedbb1212"
      },
      "source": [
        "from google.colab import drive\n",
        "drive.mount('/content/drive/')"
      ],
      "id": "DRi_azS1f3ua",
      "execution_count": 1,
      "outputs": [
        {
          "output_type": "stream",
          "text": [
            "Mounted at /content/drive/\n"
          ],
          "name": "stdout"
        }
      ]
    },
    {
      "cell_type": "code",
      "metadata": {
        "id": "_aB7jk0sf7RV"
      },
      "source": [
        "path = \"/content/drive/MyDrive/Colab Notebooks/\""
      ],
      "id": "_aB7jk0sf7RV",
      "execution_count": 2,
      "outputs": []
    },
    {
      "cell_type": "code",
      "metadata": {
        "colab": {
          "base_uri": "https://localhost:8080/"
        },
        "id": "bL0KKcvUF2YV",
        "outputId": "676b2c1c-aa7e-4845-b152-625708dd996e"
      },
      "source": [
        "!pip uninstall lightgbm\n",
        "!pip install lightgbm --install-option=--gpu --install-option=\"--opencl-include-dir=/usr/local/cuda/include/\" --install-option=\"--opencl-library=/usr/local/cuda/lib64/libOpenCL.so\""
      ],
      "id": "bL0KKcvUF2YV",
      "execution_count": null,
      "outputs": [
        {
          "output_type": "stream",
          "text": [
            "Uninstalling lightgbm-3.2.1:\n",
            "  Would remove:\n",
            "    /usr/local/lib/python3.7/dist-packages/lightgbm-3.2.1-py3.7.egg-info\n",
            "    /usr/local/lib/python3.7/dist-packages/lightgbm/*\n",
            "  Would not remove (might be manually added):\n",
            "    /usr/local/lib/python3.7/dist-packages/lightgbm/lib_lightgbm.so\n",
            "Proceed (y/n)? y\n",
            "  Successfully uninstalled lightgbm-3.2.1\n",
            "/usr/local/lib/python3.7/dist-packages/pip/_internal/commands/install.py:283: UserWarning: Disabling all use of wheels due to the use of --build-options / --global-options / --install-options.\n",
            "  cmdoptions.check_install_build_global(options)\n",
            "Collecting lightgbm\n",
            "  Using cached https://files.pythonhosted.org/packages/7a/6d/db0f5effd3f7982632111f37fcd2fa386b8407f1ff58ef30b71d65e1a444/lightgbm-3.2.1.tar.gz\n",
            "Requirement already satisfied: wheel in /usr/local/lib/python3.7/dist-packages (from lightgbm) (0.36.2)\n",
            "Requirement already satisfied: numpy in /usr/local/lib/python3.7/dist-packages (from lightgbm) (1.19.5)\n",
            "Requirement already satisfied: scipy in /usr/local/lib/python3.7/dist-packages (from lightgbm) (1.4.1)\n",
            "Requirement already satisfied: scikit-learn!=0.22.0 in /usr/local/lib/python3.7/dist-packages (from lightgbm) (0.22.2.post1)\n",
            "Requirement already satisfied: joblib>=0.11 in /usr/local/lib/python3.7/dist-packages (from scikit-learn!=0.22.0->lightgbm) (1.0.1)\n",
            "Skipping wheel build for lightgbm, due to binaries being disabled for it.\n",
            "Installing collected packages: lightgbm\n",
            "    Running setup.py install for lightgbm ... \u001b[?25l\u001b[?25hdone\n",
            "Successfully installed lightgbm-3.2.1\n"
          ],
          "name": "stdout"
        }
      ]
    },
    {
      "cell_type": "code",
      "metadata": {
        "id": "SXIbT3qoG1id"
      },
      "source": [
        "%load_ext autoreload\n",
        "%autoreload 2"
      ],
      "id": "SXIbT3qoG1id",
      "execution_count": 67,
      "outputs": []
    },
    {
      "cell_type": "code",
      "metadata": {
        "id": "level-bumper"
      },
      "source": [
        "import numpy as np\n",
        "import pandas as pd\n",
        "\n",
        "from scipy.sparse import hstack, load_npz\n",
        "\n",
        "from sklearn.model_selection import train_test_split\n",
        "from sklearn import svm\n",
        "from sklearn.linear_model import LogisticRegression\n",
        "from sklearn.naive_bayes import GaussianNB, MultinomialNB\n",
        "from sklearn.neighbors import KNeighborsClassifier\n",
        "from sklearn.tree import DecisionTreeClassifier\n",
        "from sklearn.ensemble import RandomForestClassifier\n",
        "from sklearn.preprocessing import MaxAbsScaler\n",
        "from sklearn.metrics import accuracy_score\n",
        "from sklearn.discriminant_analysis import LinearDiscriminantAnalysis\n",
        "from sklearn.decomposition import PCA\n",
        "\n",
        "import lightgbm as lgb\n",
        "#from preprocessing import cv_ize"
      ],
      "id": "level-bumper",
      "execution_count": 3,
      "outputs": []
    },
    {
      "cell_type": "code",
      "metadata": {
        "id": "vocational-mouse"
      },
      "source": [
        "X = range(0, 40000)\n",
        "Y = pd.read_csv(path+\"data/recipe_train.csv\")['duration_label']\n",
        "\n",
        "X_idx, X_t_idx, y, y_t = train_test_split(X, Y, test_size=0.2, random_state=42)"
      ],
      "id": "vocational-mouse",
      "execution_count": 4,
      "outputs": []
    },
    {
      "cell_type": "code",
      "metadata": {
        "id": "compound-ferry"
      },
      "source": [
        "X_50 = np.array(pd.read_csv(path+\"data/vec50/train_steps_doc2vec50.csv\", header=None).iloc[X_idx])\n",
        "X_t_50 = np.array(pd.read_csv(path+\"data/vec50/train_steps_doc2vec50.csv\", header=None).iloc[X_t_idx])\n",
        "\n",
        "X_100 = np.array(pd.read_csv(path+\"data/vec100/train_steps_doc2vec100.csv\", header=None).iloc[X_idx])\n",
        "X_t_100 = np.array(pd.read_csv(path+\"data/vec100/train_steps_doc2vec100.csv\", header=None).iloc[X_t_idx])"
      ],
      "id": "compound-ferry",
      "execution_count": null,
      "outputs": []
    },
    {
      "cell_type": "code",
      "metadata": {
        "id": "aKa5hjOsEEsg"
      },
      "source": [
        "X_cv = pd.read_csv(path+\"data/recipe_train.csv\", header=0).iloc[X_idx].loc[:, 'steps']\n",
        "X_t_cv = pd.read_csv(path+\"data/recipe_train.csv\", header=0).iloc[X_t_idx].loc[:, 'steps']"
      ],
      "id": "aKa5hjOsEEsg",
      "execution_count": null,
      "outputs": []
    },
    {
      "cell_type": "code",
      "metadata": {
        "colab": {
          "base_uri": "https://localhost:8080/"
        },
        "id": "hpWbLz6_CYUN",
        "outputId": "eb506d63-e9a5-4c2b-e1a2-059c57af68cf"
      },
      "source": [
        "X_cv, X_t_cv, d = cv_ize(X_cv, X_t_cv, var_thre=0)"
      ],
      "id": "hpWbLz6_CYUN",
      "execution_count": null,
      "outputs": [
        {
          "output_type": "stream",
          "text": [
            "Extracted 354464 grams.\n"
          ],
          "name": "stdout"
        }
      ]
    },
    {
      "cell_type": "code",
      "metadata": {
        "id": "2ma7B6_sEgG-"
      },
      "source": [
        "from sklearn.feature_selection import VarianceThreshold\n",
        "selector = VarianceThreshold(threshold=0.0003)\n",
        "\n",
        "X_cv = selector.fit_transform(X_cv)\n",
        "X_t_cv = selector.transform(X_t_cv)"
      ],
      "id": "2ma7B6_sEgG-",
      "execution_count": null,
      "outputs": []
    },
    {
      "cell_type": "code",
      "metadata": {
        "id": "ViBnrJS3DJn-"
      },
      "source": [
        "X_cv = X_cv.toarray().astype(np.float16)\n",
        "X_t_cv = X_t_cv.toarray().astype(np.float16)"
      ],
      "id": "ViBnrJS3DJn-",
      "execution_count": null,
      "outputs": []
    },
    {
      "cell_type": "code",
      "metadata": {
        "colab": {
          "base_uri": "https://localhost:8080/"
        },
        "id": "6s9HdqhKIZCC",
        "outputId": "71a86343-ffde-432d-b21d-7ff2b8d943ef"
      },
      "source": [
        "X_cv.shape"
      ],
      "id": "6s9HdqhKIZCC",
      "execution_count": null,
      "outputs": [
        {
          "output_type": "execute_result",
          "data": {
            "text/plain": [
              "(32000, 33469)"
            ]
          },
          "metadata": {
            "tags": []
          },
          "execution_count": 11
        }
      ]
    },
    {
      "cell_type": "code",
      "metadata": {
        "id": "WNLydgQnVdBz"
      },
      "source": [
        "X_vec = np.hstack((\n",
        "    pd.read_csv(path+\"data/vec50/train_steps_doc2vec50.csv\", header=None).values,\n",
        "    pd.read_csv(path+\"data/vec50/train_name_doc2vec50.csv\", header=None).values,\n",
        "    pd.read_csv(path+\"data/vec50/train_ingr_doc2vec50.csv\", header=None).values,\n",
        "    \n",
        "    pd.read_csv(path+\"data/vec100/train_steps_doc2vec100.csv\", header=None).values,\n",
        "    pd.read_csv(path+\"data/vec100/train_name_doc2vec100.csv\", header=None).values,\n",
        "    pd.read_csv(path+\"data/vec100/train_ingr_doc2vec100.csv\", header=None).values\n",
        "))\n"
      ],
      "id": "WNLydgQnVdBz",
      "execution_count": 5,
      "outputs": []
    },
    {
      "cell_type": "code",
      "metadata": {
        "id": "FSoIEyArtwn1"
      },
      "source": [
        "X_t_vec = X_vec[X_t_idx]\n",
        "X_vec = X_vec[X_idx]"
      ],
      "id": "FSoIEyArtwn1",
      "execution_count": 6,
      "outputs": []
    },
    {
      "cell_type": "code",
      "metadata": {
        "colab": {
          "base_uri": "https://localhost:8080/"
        },
        "id": "J697So6lXKh7",
        "outputId": "4ee4c507-a0a6-4c08-a823-23e434b0dbef"
      },
      "source": [
        "X_vec.shape"
      ],
      "id": "J697So6lXKh7",
      "execution_count": 7,
      "outputs": [
        {
          "output_type": "execute_result",
          "data": {
            "text/plain": [
              "(32000, 450)"
            ]
          },
          "metadata": {
            "tags": []
          },
          "execution_count": 7
        }
      ]
    },
    {
      "cell_type": "markdown",
      "metadata": {
        "id": "AMir-Pm7T_e-"
      },
      "source": [
        "# SVM"
      ],
      "id": "AMir-Pm7T_e-"
    },
    {
      "cell_type": "code",
      "metadata": {
        "id": "aX4N8uHGUXXW"
      },
      "source": [
        "X_small = X_vec[:9000]\n",
        "y_small = y[:9000]"
      ],
      "id": "aX4N8uHGUXXW",
      "execution_count": 42,
      "outputs": []
    },
    {
      "cell_type": "code",
      "metadata": {
        "id": "u9-3lTJAT-ll"
      },
      "source": [
        "import time\n",
        "from sklearn.multiclass import OneVsRestClassifier\n",
        "from sklearn.svm import SVC\n",
        "from sklearn.ensemble import BaggingClassifier\n",
        "\n",
        "start = time.time()\n",
        "clf = OneVsRestClassifier(SVC(kernel='linear', probability=True, class_weight='balanced'))\n",
        "clf.fit(X_small, y_small)\n",
        "end = time.time()"
      ],
      "id": "u9-3lTJAT-ll",
      "execution_count": null,
      "outputs": []
    },
    {
      "cell_type": "code",
      "metadata": {
        "colab": {
          "base_uri": "https://localhost:8080/"
        },
        "id": "BvpWJNRPWgiQ",
        "outputId": "e6eda358-6166-4b32-8c57-48a6a493058b"
      },
      "source": [
        "print(\"Single SVC\", end - start, clf.score(X_t_vec,y_t))\n",
        "#proba = clf.predict_proba(X_t_vec)"
      ],
      "id": "BvpWJNRPWgiQ",
      "execution_count": 15,
      "outputs": [
        {
          "output_type": "stream",
          "text": [
            "Single SVC 316.5651080608368 0.633\n"
          ],
          "name": "stdout"
        }
      ]
    },
    {
      "cell_type": "code",
      "metadata": {
        "id": "C9N4fP62nWqM"
      },
      "source": [
        "from sklearn.model_selection import cross_val_score\n",
        "from sklearn.model_selection import cross_validate"
      ],
      "id": "C9N4fP62nWqM",
      "execution_count": 34,
      "outputs": []
    },
    {
      "cell_type": "code",
      "metadata": {
        "colab": {
          "base_uri": "https://localhost:8080/"
        },
        "id": "3QlCaUH5WbGL",
        "outputId": "e7e9c78d-30d0-435c-bb08-ed3af2ddc323"
      },
      "source": [
        "results = []\n",
        "for c in [5000, 1000, 100, 50]:\n",
        "  for g in [1e-5, 1e-4, 1e-3, 1e-2]:\n",
        "      \n",
        "      n_estimators = 12\n",
        "      clf = OneVsRestClassifier(BaggingClassifier(SVC(kernel='rbf', gamma=g, C=c, class_weight='balanced', max_iter=2000), n_jobs=-1, max_samples=1.0 / n_estimators, n_estimators=n_estimators))\n",
        "      \n",
        "      start = time.time()\n",
        "      clf.fit(X_small, y_small)\n",
        "      end = time.time()\n",
        "      t = end-start\n",
        "      acc  = clf.score(X_t_vec, y_t)\n",
        "      #cv_results = cross_validate(clf, X_small, y_small, cv=3)\n",
        "      #t = sum(cv_results['fit_time'])/len(cv_results['fit_time'])\n",
        "      #acc = cv_results['test_score']\n",
        "      #results.append([c, g, n, t, acc])\n",
        "\n",
        "      print(f\"c: {c}, g: {g}, time:{t}, acc: {acc}\")\n",
        "\n",
        "#proba = clf.predict_proba(X_t_vec)"
      ],
      "id": "3QlCaUH5WbGL",
      "execution_count": 48,
      "outputs": [
        {
          "output_type": "stream",
          "text": [
            "c: 5000, g: 1e-05, time:8.120466232299805, acc: 0.691125\n",
            "c: 5000, g: 0.0001, time:7.488362073898315, acc: 0.69675\n",
            "c: 5000, g: 0.001, time:7.63664984703064, acc: 0.702125\n",
            "c: 5000, g: 0.01, time:9.157729148864746, acc: 0.699875\n",
            "c: 1000, g: 1e-05, time:7.842613697052002, acc: 0.68575\n",
            "c: 1000, g: 0.0001, time:7.459814548492432, acc: 0.696375\n",
            "c: 1000, g: 0.001, time:7.156241416931152, acc: 0.70525\n",
            "c: 1000, g: 0.01, time:8.962133884429932, acc: 0.70375\n",
            "c: 100, g: 1e-05, time:9.262696266174316, acc: 0.656375\n",
            "c: 100, g: 0.0001, time:7.843914747238159, acc: 0.689625\n",
            "c: 100, g: 0.001, time:7.354633808135986, acc: 0.704\n",
            "c: 100, g: 0.01, time:9.113112926483154, acc: 0.703875\n",
            "c: 50, g: 1e-05, time:9.961558103561401, acc: 0.64975\n",
            "c: 50, g: 0.0001, time:8.096490859985352, acc: 0.681\n",
            "c: 50, g: 0.001, time:7.611725330352783, acc: 0.70375\n",
            "c: 50, g: 0.01, time:9.742702722549438, acc: 0.700125\n"
          ],
          "name": "stdout"
        }
      ]
    },
    {
      "cell_type": "code",
      "metadata": {
        "id": "qp9C27ACaXUz"
      },
      "source": [
        "map = [[1e-05, 0.686], [1e-04, 0.698], [1e-03, 0.705], [1e-02, 0.702], [1e-01, 0.684]]"
      ],
      "id": "qp9C27ACaXUz",
      "execution_count": 96,
      "outputs": []
    },
    {
      "cell_type": "code",
      "metadata": {
        "id": "-UGrVzxga-NX"
      },
      "source": [
        "map = np.array(map)"
      ],
      "id": "-UGrVzxga-NX",
      "execution_count": 101,
      "outputs": []
    },
    {
      "cell_type": "code",
      "metadata": {
        "colab": {
          "base_uri": "https://localhost:8080/",
          "height": 283
        },
        "id": "l-jDqQaibA9D",
        "outputId": "cc2d6d7b-353d-4034-80b5-ff9af60b3aee"
      },
      "source": [
        "import matplotlib.pyplot as plt\n",
        "#plt.scatter(map.T[0], map.T[1])\n",
        "#plt.xscale(\"log\")\n",
        "fig, ax = plt.subplots()\n",
        "\n",
        "ax.scatter(map.T[0], map.T[1])\n",
        "ax.set_xlabel('Gamma')\n",
        "ax.set_ylabel('Accuracy')\n",
        "plt.xscale(\"log\")\n",
        "plt.show()"
      ],
      "id": "l-jDqQaibA9D",
      "execution_count": 106,
      "outputs": [
        {
          "output_type": "display_data",
          "data": {
            "image/png": "[encoded data removed]",
            "text/plain": [
              "<Figure size 432x288 with 1 Axes>"
            ]
          },
          "metadata": {
            "tags": [],
            "needs_background": "light"
          }
        }
      ]
    },
    {
      "cell_type": "code",
      "metadata": {
        "colab": {
          "base_uri": "https://localhost:8080/",
          "height": 408
        },
        "id": "tfEIoc-RGHrL",
        "outputId": "dda81d68-f963-4d4b-fcf7-7251fb80042c"
      },
      "source": [
        "for n_estimators in [20, 30, 40]:\n",
        "  #n_estimators = 24\n",
        "  clf = OneVsRestClassifier(BaggingClassifier(SVC(kernel='rbf', probability=True, gamma=0.001, C=100, class_weight='balanced', max_iter=2000), n_jobs=-1, max_samples=1.0 / n_estimators, n_estimators=n_estimators))\n",
        "  clf.fit(X_vec, y)\n",
        "  print(f\"{n_estimators}: {clf.score(X_t_vec, y_t)}\")\n",
        "#pre = clf.predict_proba(X_t_vec)"
      ],
      "id": "tfEIoc-RGHrL",
      "execution_count": 95,
      "outputs": [
        {
          "output_type": "stream",
          "text": [
            "20: 0.718625\n",
            "30: 0.712125\n"
          ],
          "name": "stdout"
        },
        {
          "output_type": "error",
          "ename": "KeyboardInterrupt",
          "evalue": "ignored",
          "traceback": [
            "\u001b[0;31m---------------------------------------------------------------------------\u001b[0m",
            "\u001b[0;31mKeyboardInterrupt\u001b[0m                         Traceback (most recent call last)",
            "\u001b[0;32m<ipython-input-95-3cb6f00159af>\u001b[0m in \u001b[0;36m<module>\u001b[0;34m()\u001b[0m\n\u001b[1;32m      3\u001b[0m   \u001b[0mclf\u001b[0m \u001b[0;34m=\u001b[0m \u001b[0mOneVsRestClassifier\u001b[0m\u001b[0;34m(\u001b[0m\u001b[0mBaggingClassifier\u001b[0m\u001b[0;34m(\u001b[0m\u001b[0mSVC\u001b[0m\u001b[0;34m(\u001b[0m\u001b[0mkernel\u001b[0m\u001b[0;34m=\u001b[0m\u001b[0;34m'rbf'\u001b[0m\u001b[0;34m,\u001b[0m \u001b[0mprobability\u001b[0m\u001b[0;34m=\u001b[0m\u001b[0;32mTrue\u001b[0m\u001b[0;34m,\u001b[0m \u001b[0mgamma\u001b[0m\u001b[0;34m=\u001b[0m\u001b[0;36m0.001\u001b[0m\u001b[0;34m,\u001b[0m \u001b[0mC\u001b[0m\u001b[0;34m=\u001b[0m\u001b[0;36m100\u001b[0m\u001b[0;34m,\u001b[0m \u001b[0mclass_weight\u001b[0m\u001b[0;34m=\u001b[0m\u001b[0;34m'balanced'\u001b[0m\u001b[0;34m,\u001b[0m \u001b[0mmax_iter\u001b[0m\u001b[0;34m=\u001b[0m\u001b[0;36m2000\u001b[0m\u001b[0;34m)\u001b[0m\u001b[0;34m,\u001b[0m \u001b[0mn_jobs\u001b[0m\u001b[0;34m=\u001b[0m\u001b[0;34m-\u001b[0m\u001b[0;36m1\u001b[0m\u001b[0;34m,\u001b[0m \u001b[0mmax_samples\u001b[0m\u001b[0;34m=\u001b[0m\u001b[0;36m1.0\u001b[0m \u001b[0;34m/\u001b[0m \u001b[0mn_estimators\u001b[0m\u001b[0;34m,\u001b[0m \u001b[0mn_estimators\u001b[0m\u001b[0;34m=\u001b[0m\u001b[0mn_estimators\u001b[0m\u001b[0;34m)\u001b[0m\u001b[0;34m)\u001b[0m\u001b[0;34m\u001b[0m\u001b[0;34m\u001b[0m\u001b[0m\n\u001b[1;32m      4\u001b[0m   \u001b[0mclf\u001b[0m\u001b[0;34m.\u001b[0m\u001b[0mfit\u001b[0m\u001b[0;34m(\u001b[0m\u001b[0mX_vec\u001b[0m\u001b[0;34m,\u001b[0m \u001b[0my\u001b[0m\u001b[0;34m)\u001b[0m\u001b[0;34m\u001b[0m\u001b[0;34m\u001b[0m\u001b[0m\n\u001b[0;32m----> 5\u001b[0;31m   \u001b[0mprint\u001b[0m\u001b[0;34m(\u001b[0m\u001b[0;34mf\"{n_estimators}: {clf.score(X_t_vec, y_t)}\"\u001b[0m\u001b[0;34m)\u001b[0m\u001b[0;34m\u001b[0m\u001b[0;34m\u001b[0m\u001b[0m\n\u001b[0m\u001b[1;32m      6\u001b[0m \u001b[0;31m#pre = clf.predict_proba(X_t_vec)\u001b[0m\u001b[0;34m\u001b[0m\u001b[0;34m\u001b[0m\u001b[0;34m\u001b[0m\u001b[0m\n",
            "\u001b[0;32m/usr/local/lib/python3.7/dist-packages/sklearn/base.py\u001b[0m in \u001b[0;36mscore\u001b[0;34m(self, X, y, sample_weight)\u001b[0m\n\u001b[1;32m    367\u001b[0m         \"\"\"\n\u001b[1;32m    368\u001b[0m         \u001b[0;32mfrom\u001b[0m \u001b[0;34m.\u001b[0m\u001b[0mmetrics\u001b[0m \u001b[0;32mimport\u001b[0m \u001b[0maccuracy_score\u001b[0m\u001b[0;34m\u001b[0m\u001b[0;34m\u001b[0m\u001b[0m\n\u001b[0;32m--> 369\u001b[0;31m         \u001b[0;32mreturn\u001b[0m \u001b[0maccuracy_score\u001b[0m\u001b[0;34m(\u001b[0m\u001b[0my\u001b[0m\u001b[0;34m,\u001b[0m \u001b[0mself\u001b[0m\u001b[0;34m.\u001b[0m\u001b[0mpredict\u001b[0m\u001b[0;34m(\u001b[0m\u001b[0mX\u001b[0m\u001b[0;34m)\u001b[0m\u001b[0;34m,\u001b[0m \u001b[0msample_weight\u001b[0m\u001b[0;34m=\u001b[0m\u001b[0msample_weight\u001b[0m\u001b[0;34m)\u001b[0m\u001b[0;34m\u001b[0m\u001b[0;34m\u001b[0m\u001b[0m\n\u001b[0m\u001b[1;32m    370\u001b[0m \u001b[0;34m\u001b[0m\u001b[0m\n\u001b[1;32m    371\u001b[0m \u001b[0;34m\u001b[0m\u001b[0m\n",
            "\u001b[0;32m/usr/local/lib/python3.7/dist-packages/sklearn/multiclass.py\u001b[0m in \u001b[0;36mpredict\u001b[0;34m(self, X)\u001b[0m\n\u001b[1;32m    318\u001b[0m             \u001b[0margmaxima\u001b[0m \u001b[0;34m=\u001b[0m \u001b[0mnp\u001b[0m\u001b[0;34m.\u001b[0m\u001b[0mzeros\u001b[0m\u001b[0;34m(\u001b[0m\u001b[0mn_samples\u001b[0m\u001b[0;34m,\u001b[0m \u001b[0mdtype\u001b[0m\u001b[0;34m=\u001b[0m\u001b[0mint\u001b[0m\u001b[0;34m)\u001b[0m\u001b[0;34m\u001b[0m\u001b[0;34m\u001b[0m\u001b[0m\n\u001b[1;32m    319\u001b[0m             \u001b[0;32mfor\u001b[0m \u001b[0mi\u001b[0m\u001b[0;34m,\u001b[0m \u001b[0me\u001b[0m \u001b[0;32min\u001b[0m \u001b[0menumerate\u001b[0m\u001b[0;34m(\u001b[0m\u001b[0mself\u001b[0m\u001b[0;34m.\u001b[0m\u001b[0mestimators_\u001b[0m\u001b[0;34m)\u001b[0m\u001b[0;34m:\u001b[0m\u001b[0;34m\u001b[0m\u001b[0;34m\u001b[0m\u001b[0m\n\u001b[0;32m--> 320\u001b[0;31m                 \u001b[0mpred\u001b[0m \u001b[0;34m=\u001b[0m \u001b[0m_predict_binary\u001b[0m\u001b[0;34m(\u001b[0m\u001b[0me\u001b[0m\u001b[0;34m,\u001b[0m \u001b[0mX\u001b[0m\u001b[0;34m)\u001b[0m\u001b[0;34m\u001b[0m\u001b[0;34m\u001b[0m\u001b[0m\n\u001b[0m\u001b[1;32m    321\u001b[0m                 \u001b[0mnp\u001b[0m\u001b[0;34m.\u001b[0m\u001b[0mmaximum\u001b[0m\u001b[0;34m(\u001b[0m\u001b[0mmaxima\u001b[0m\u001b[0;34m,\u001b[0m \u001b[0mpred\u001b[0m\u001b[0;34m,\u001b[0m \u001b[0mout\u001b[0m\u001b[0;34m=\u001b[0m\u001b[0mmaxima\u001b[0m\u001b[0;34m)\u001b[0m\u001b[0;34m\u001b[0m\u001b[0;34m\u001b[0m\u001b[0m\n\u001b[1;32m    322\u001b[0m                 \u001b[0margmaxima\u001b[0m\u001b[0;34m[\u001b[0m\u001b[0mmaxima\u001b[0m \u001b[0;34m==\u001b[0m \u001b[0mpred\u001b[0m\u001b[0;34m]\u001b[0m \u001b[0;34m=\u001b[0m \u001b[0mi\u001b[0m\u001b[0;34m\u001b[0m\u001b[0;34m\u001b[0m\u001b[0m\n",
            "\u001b[0;32m/usr/local/lib/python3.7/dist-packages/sklearn/multiclass.py\u001b[0m in \u001b[0;36m_predict_binary\u001b[0;34m(estimator, X)\u001b[0m\n\u001b[1;32m     92\u001b[0m         \u001b[0;32mreturn\u001b[0m \u001b[0mestimator\u001b[0m\u001b[0;34m.\u001b[0m\u001b[0mpredict\u001b[0m\u001b[0;34m(\u001b[0m\u001b[0mX\u001b[0m\u001b[0;34m)\u001b[0m\u001b[0;34m\u001b[0m\u001b[0;34m\u001b[0m\u001b[0m\n\u001b[1;32m     93\u001b[0m     \u001b[0;32mtry\u001b[0m\u001b[0;34m:\u001b[0m\u001b[0;34m\u001b[0m\u001b[0;34m\u001b[0m\u001b[0m\n\u001b[0;32m---> 94\u001b[0;31m         \u001b[0mscore\u001b[0m \u001b[0;34m=\u001b[0m \u001b[0mnp\u001b[0m\u001b[0;34m.\u001b[0m\u001b[0mravel\u001b[0m\u001b[0;34m(\u001b[0m\u001b[0mestimator\u001b[0m\u001b[0;34m.\u001b[0m\u001b[0mdecision_function\u001b[0m\u001b[0;34m(\u001b[0m\u001b[0mX\u001b[0m\u001b[0;34m)\u001b[0m\u001b[0;34m)\u001b[0m\u001b[0;34m\u001b[0m\u001b[0;34m\u001b[0m\u001b[0m\n\u001b[0m\u001b[1;32m     95\u001b[0m     \u001b[0;32mexcept\u001b[0m \u001b[0;34m(\u001b[0m\u001b[0mAttributeError\u001b[0m\u001b[0;34m,\u001b[0m \u001b[0mNotImplementedError\u001b[0m\u001b[0;34m)\u001b[0m\u001b[0;34m:\u001b[0m\u001b[0;34m\u001b[0m\u001b[0;34m\u001b[0m\u001b[0m\n\u001b[1;32m     96\u001b[0m         \u001b[0;31m# probabilities of the positive class\u001b[0m\u001b[0;34m\u001b[0m\u001b[0;34m\u001b[0m\u001b[0;34m\u001b[0m\u001b[0m\n",
            "\u001b[0;32m/usr/local/lib/python3.7/dist-packages/sklearn/utils/metaestimators.py\u001b[0m in \u001b[0;36m<lambda>\u001b[0;34m(*args, **kwargs)\u001b[0m\n\u001b[1;32m    114\u001b[0m \u001b[0;34m\u001b[0m\u001b[0m\n\u001b[1;32m    115\u001b[0m         \u001b[0;31m# lambda, but not partial, allows help() to work with update_wrapper\u001b[0m\u001b[0;34m\u001b[0m\u001b[0;34m\u001b[0m\u001b[0;34m\u001b[0m\u001b[0m\n\u001b[0;32m--> 116\u001b[0;31m         \u001b[0mout\u001b[0m \u001b[0;34m=\u001b[0m \u001b[0;32mlambda\u001b[0m \u001b[0;34m*\u001b[0m\u001b[0margs\u001b[0m\u001b[0;34m,\u001b[0m \u001b[0;34m**\u001b[0m\u001b[0mkwargs\u001b[0m\u001b[0;34m:\u001b[0m \u001b[0mself\u001b[0m\u001b[0;34m.\u001b[0m\u001b[0mfn\u001b[0m\u001b[0;34m(\u001b[0m\u001b[0mobj\u001b[0m\u001b[0;34m,\u001b[0m \u001b[0;34m*\u001b[0m\u001b[0margs\u001b[0m\u001b[0;34m,\u001b[0m \u001b[0;34m**\u001b[0m\u001b[0mkwargs\u001b[0m\u001b[0;34m)\u001b[0m\u001b[0;34m\u001b[0m\u001b[0;34m\u001b[0m\u001b[0m\n\u001b[0m\u001b[1;32m    117\u001b[0m         \u001b[0;31m# update the docstring of the returned function\u001b[0m\u001b[0;34m\u001b[0m\u001b[0;34m\u001b[0m\u001b[0;34m\u001b[0m\u001b[0m\n\u001b[1;32m    118\u001b[0m         \u001b[0mupdate_wrapper\u001b[0m\u001b[0;34m(\u001b[0m\u001b[0mout\u001b[0m\u001b[0;34m,\u001b[0m \u001b[0mself\u001b[0m\u001b[0;34m.\u001b[0m\u001b[0mfn\u001b[0m\u001b[0;34m)\u001b[0m\u001b[0;34m\u001b[0m\u001b[0;34m\u001b[0m\u001b[0m\n",
            "\u001b[0;32m/usr/local/lib/python3.7/dist-packages/sklearn/ensemble/_bagging.py\u001b[0m in \u001b[0;36mdecision_function\u001b[0;34m(self, X)\u001b[0m\n\u001b[1;32m    825\u001b[0m                 \u001b[0mself\u001b[0m\u001b[0;34m.\u001b[0m\u001b[0mestimators_features_\u001b[0m\u001b[0;34m[\u001b[0m\u001b[0mstarts\u001b[0m\u001b[0;34m[\u001b[0m\u001b[0mi\u001b[0m\u001b[0;34m]\u001b[0m\u001b[0;34m:\u001b[0m\u001b[0mstarts\u001b[0m\u001b[0;34m[\u001b[0m\u001b[0mi\u001b[0m \u001b[0;34m+\u001b[0m \u001b[0;36m1\u001b[0m\u001b[0;34m]\u001b[0m\u001b[0;34m]\u001b[0m\u001b[0;34m,\u001b[0m\u001b[0;34m\u001b[0m\u001b[0;34m\u001b[0m\u001b[0m\n\u001b[1;32m    826\u001b[0m                 X)\n\u001b[0;32m--> 827\u001b[0;31m             for i in range(n_jobs))\n\u001b[0m\u001b[1;32m    828\u001b[0m \u001b[0;34m\u001b[0m\u001b[0m\n\u001b[1;32m    829\u001b[0m         \u001b[0;31m# Reduce\u001b[0m\u001b[0;34m\u001b[0m\u001b[0;34m\u001b[0m\u001b[0;34m\u001b[0m\u001b[0m\n",
            "\u001b[0;32m/usr/local/lib/python3.7/dist-packages/joblib/parallel.py\u001b[0m in \u001b[0;36m__call__\u001b[0;34m(self, iterable)\u001b[0m\n\u001b[1;32m   1052\u001b[0m \u001b[0;34m\u001b[0m\u001b[0m\n\u001b[1;32m   1053\u001b[0m             \u001b[0;32mwith\u001b[0m \u001b[0mself\u001b[0m\u001b[0;34m.\u001b[0m\u001b[0m_backend\u001b[0m\u001b[0;34m.\u001b[0m\u001b[0mretrieval_context\u001b[0m\u001b[0;34m(\u001b[0m\u001b[0;34m)\u001b[0m\u001b[0;34m:\u001b[0m\u001b[0;34m\u001b[0m\u001b[0;34m\u001b[0m\u001b[0m\n\u001b[0;32m-> 1054\u001b[0;31m                 \u001b[0mself\u001b[0m\u001b[0;34m.\u001b[0m\u001b[0mretrieve\u001b[0m\u001b[0;34m(\u001b[0m\u001b[0;34m)\u001b[0m\u001b[0;34m\u001b[0m\u001b[0;34m\u001b[0m\u001b[0m\n\u001b[0m\u001b[1;32m   1055\u001b[0m             \u001b[0;31m# Make sure that we get a last message telling us we are done\u001b[0m\u001b[0;34m\u001b[0m\u001b[0;34m\u001b[0m\u001b[0;34m\u001b[0m\u001b[0m\n\u001b[1;32m   1056\u001b[0m             \u001b[0melapsed_time\u001b[0m \u001b[0;34m=\u001b[0m \u001b[0mtime\u001b[0m\u001b[0;34m.\u001b[0m\u001b[0mtime\u001b[0m\u001b[0;34m(\u001b[0m\u001b[0;34m)\u001b[0m \u001b[0;34m-\u001b[0m \u001b[0mself\u001b[0m\u001b[0;34m.\u001b[0m\u001b[0m_start_time\u001b[0m\u001b[0;34m\u001b[0m\u001b[0;34m\u001b[0m\u001b[0m\n",
            "\u001b[0;32m/usr/local/lib/python3.7/dist-packages/joblib/parallel.py\u001b[0m in \u001b[0;36mretrieve\u001b[0;34m(self)\u001b[0m\n\u001b[1;32m    931\u001b[0m             \u001b[0;32mtry\u001b[0m\u001b[0;34m:\u001b[0m\u001b[0;34m\u001b[0m\u001b[0;34m\u001b[0m\u001b[0m\n\u001b[1;32m    932\u001b[0m                 \u001b[0;32mif\u001b[0m \u001b[0mgetattr\u001b[0m\u001b[0;34m(\u001b[0m\u001b[0mself\u001b[0m\u001b[0;34m.\u001b[0m\u001b[0m_backend\u001b[0m\u001b[0;34m,\u001b[0m \u001b[0;34m'supports_timeout'\u001b[0m\u001b[0;34m,\u001b[0m \u001b[0;32mFalse\u001b[0m\u001b[0;34m)\u001b[0m\u001b[0;34m:\u001b[0m\u001b[0;34m\u001b[0m\u001b[0;34m\u001b[0m\u001b[0m\n\u001b[0;32m--> 933\u001b[0;31m                     \u001b[0mself\u001b[0m\u001b[0;34m.\u001b[0m\u001b[0m_output\u001b[0m\u001b[0;34m.\u001b[0m\u001b[0mextend\u001b[0m\u001b[0;34m(\u001b[0m\u001b[0mjob\u001b[0m\u001b[0;34m.\u001b[0m\u001b[0mget\u001b[0m\u001b[0;34m(\u001b[0m\u001b[0mtimeout\u001b[0m\u001b[0;34m=\u001b[0m\u001b[0mself\u001b[0m\u001b[0;34m.\u001b[0m\u001b[0mtimeout\u001b[0m\u001b[0;34m)\u001b[0m\u001b[0;34m)\u001b[0m\u001b[0;34m\u001b[0m\u001b[0;34m\u001b[0m\u001b[0m\n\u001b[0m\u001b[1;32m    934\u001b[0m                 \u001b[0;32melse\u001b[0m\u001b[0;34m:\u001b[0m\u001b[0;34m\u001b[0m\u001b[0;34m\u001b[0m\u001b[0m\n\u001b[1;32m    935\u001b[0m                     \u001b[0mself\u001b[0m\u001b[0;34m.\u001b[0m\u001b[0m_output\u001b[0m\u001b[0;34m.\u001b[0m\u001b[0mextend\u001b[0m\u001b[0;34m(\u001b[0m\u001b[0mjob\u001b[0m\u001b[0;34m.\u001b[0m\u001b[0mget\u001b[0m\u001b[0;34m(\u001b[0m\u001b[0;34m)\u001b[0m\u001b[0;34m)\u001b[0m\u001b[0;34m\u001b[0m\u001b[0;34m\u001b[0m\u001b[0m\n",
            "\u001b[0;32m/usr/local/lib/python3.7/dist-packages/joblib/_parallel_backends.py\u001b[0m in \u001b[0;36mwrap_future_result\u001b[0;34m(future, timeout)\u001b[0m\n\u001b[1;32m    540\u001b[0m         AsyncResults.get from multiprocessing.\"\"\"\n\u001b[1;32m    541\u001b[0m         \u001b[0;32mtry\u001b[0m\u001b[0;34m:\u001b[0m\u001b[0;34m\u001b[0m\u001b[0;34m\u001b[0m\u001b[0m\n\u001b[0;32m--> 542\u001b[0;31m             \u001b[0;32mreturn\u001b[0m \u001b[0mfuture\u001b[0m\u001b[0;34m.\u001b[0m\u001b[0mresult\u001b[0m\u001b[0;34m(\u001b[0m\u001b[0mtimeout\u001b[0m\u001b[0;34m=\u001b[0m\u001b[0mtimeout\u001b[0m\u001b[0;34m)\u001b[0m\u001b[0;34m\u001b[0m\u001b[0;34m\u001b[0m\u001b[0m\n\u001b[0m\u001b[1;32m    543\u001b[0m         \u001b[0;32mexcept\u001b[0m \u001b[0mCfTimeoutError\u001b[0m \u001b[0;32mas\u001b[0m \u001b[0me\u001b[0m\u001b[0;34m:\u001b[0m\u001b[0;34m\u001b[0m\u001b[0;34m\u001b[0m\u001b[0m\n\u001b[1;32m    544\u001b[0m             \u001b[0;32mraise\u001b[0m \u001b[0mTimeoutError\u001b[0m \u001b[0;32mfrom\u001b[0m \u001b[0me\u001b[0m\u001b[0;34m\u001b[0m\u001b[0;34m\u001b[0m\u001b[0m\n",
            "\u001b[0;32m/usr/lib/python3.7/concurrent/futures/_base.py\u001b[0m in \u001b[0;36mresult\u001b[0;34m(self, timeout)\u001b[0m\n\u001b[1;32m    428\u001b[0m                 \u001b[0;32mreturn\u001b[0m \u001b[0mself\u001b[0m\u001b[0;34m.\u001b[0m\u001b[0m__get_result\u001b[0m\u001b[0;34m(\u001b[0m\u001b[0;34m)\u001b[0m\u001b[0;34m\u001b[0m\u001b[0;34m\u001b[0m\u001b[0m\n\u001b[1;32m    429\u001b[0m \u001b[0;34m\u001b[0m\u001b[0m\n\u001b[0;32m--> 430\u001b[0;31m             \u001b[0mself\u001b[0m\u001b[0;34m.\u001b[0m\u001b[0m_condition\u001b[0m\u001b[0;34m.\u001b[0m\u001b[0mwait\u001b[0m\u001b[0;34m(\u001b[0m\u001b[0mtimeout\u001b[0m\u001b[0;34m)\u001b[0m\u001b[0;34m\u001b[0m\u001b[0;34m\u001b[0m\u001b[0m\n\u001b[0m\u001b[1;32m    431\u001b[0m \u001b[0;34m\u001b[0m\u001b[0m\n\u001b[1;32m    432\u001b[0m             \u001b[0;32mif\u001b[0m \u001b[0mself\u001b[0m\u001b[0;34m.\u001b[0m\u001b[0m_state\u001b[0m \u001b[0;32min\u001b[0m \u001b[0;34m[\u001b[0m\u001b[0mCANCELLED\u001b[0m\u001b[0;34m,\u001b[0m \u001b[0mCANCELLED_AND_NOTIFIED\u001b[0m\u001b[0;34m]\u001b[0m\u001b[0;34m:\u001b[0m\u001b[0;34m\u001b[0m\u001b[0;34m\u001b[0m\u001b[0m\n",
            "\u001b[0;32m/usr/lib/python3.7/threading.py\u001b[0m in \u001b[0;36mwait\u001b[0;34m(self, timeout)\u001b[0m\n\u001b[1;32m    294\u001b[0m         \u001b[0;32mtry\u001b[0m\u001b[0;34m:\u001b[0m    \u001b[0;31m# restore state no matter what (e.g., KeyboardInterrupt)\u001b[0m\u001b[0;34m\u001b[0m\u001b[0;34m\u001b[0m\u001b[0m\n\u001b[1;32m    295\u001b[0m             \u001b[0;32mif\u001b[0m \u001b[0mtimeout\u001b[0m \u001b[0;32mis\u001b[0m \u001b[0;32mNone\u001b[0m\u001b[0;34m:\u001b[0m\u001b[0;34m\u001b[0m\u001b[0;34m\u001b[0m\u001b[0m\n\u001b[0;32m--> 296\u001b[0;31m                 \u001b[0mwaiter\u001b[0m\u001b[0;34m.\u001b[0m\u001b[0macquire\u001b[0m\u001b[0;34m(\u001b[0m\u001b[0;34m)\u001b[0m\u001b[0;34m\u001b[0m\u001b[0;34m\u001b[0m\u001b[0m\n\u001b[0m\u001b[1;32m    297\u001b[0m                 \u001b[0mgotit\u001b[0m \u001b[0;34m=\u001b[0m \u001b[0;32mTrue\u001b[0m\u001b[0;34m\u001b[0m\u001b[0;34m\u001b[0m\u001b[0m\n\u001b[1;32m    298\u001b[0m             \u001b[0;32melse\u001b[0m\u001b[0;34m:\u001b[0m\u001b[0;34m\u001b[0m\u001b[0;34m\u001b[0m\u001b[0m\n",
            "\u001b[0;31mKeyboardInterrupt\u001b[0m: "
          ]
        }
      ]
    },
    {
      "cell_type": "code",
      "metadata": {
        "id": "KnUYcs7RJDrb"
      },
      "source": [
        "pred = pre.argmax(axis=1)+1"
      ],
      "id": "KnUYcs7RJDrb",
      "execution_count": 54,
      "outputs": []
    },
    {
      "cell_type": "code",
      "metadata": {
        "colab": {
          "base_uri": "https://localhost:8080/"
        },
        "id": "ueQkzhx0JMSl",
        "outputId": "e6174107-657c-4d8d-de7e-eba79cdeab5b"
      },
      "source": [
        "pred"
      ],
      "id": "ueQkzhx0JMSl",
      "execution_count": 55,
      "outputs": [
        {
          "output_type": "execute_result",
          "data": {
            "text/plain": [
              "array([2, 2, 2, ..., 2, 2, 2])"
            ]
          },
          "metadata": {
            "tags": []
          },
          "execution_count": 55
        }
      ]
    },
    {
      "cell_type": "code",
      "metadata": {
        "colab": {
          "base_uri": "https://localhost:8080/"
        },
        "id": "BZBY6e-cJHOe",
        "outputId": "feb7bb99-c25a-4b9b-fb21-ec7ee629a10b"
      },
      "source": [
        "accuracy_score(y_t, pred)"
      ],
      "id": "BZBY6e-cJHOe",
      "execution_count": 56,
      "outputs": [
        {
          "output_type": "execute_result",
          "data": {
            "text/plain": [
              "0.709375"
            ]
          },
          "metadata": {
            "tags": []
          },
          "execution_count": 56
        }
      ]
    },
    {
      "cell_type": "markdown",
      "metadata": {
        "id": "4VYkoZWstxfC"
      },
      "source": [
        "# Knn tuning"
      ],
      "id": "4VYkoZWstxfC"
    },
    {
      "cell_type": "code",
      "metadata": {
        "id": "sdVs2-f-Sjqu"
      },
      "source": [
        "from wrapped_model import U_trans_model, S_trans_model"
      ],
      "id": "sdVs2-f-Sjqu",
      "execution_count": 57,
      "outputs": []
    },
    {
      "cell_type": "code",
      "metadata": {
        "colab": {
          "base_uri": "https://localhost:8080/",
          "height": 694
        },
        "id": "rO_rYdO3QHgp",
        "outputId": "abd4cf37-fd92-40fc-c690-a403a2c8c4fb"
      },
      "source": [
        "for i in range(18, 25, 2):\n",
        "  print(\"-\"*50)\n",
        "  for j in range(31, 61, 5):\n",
        "    for weights in ['distance']:\n",
        "      clf = U_trans_model(KNeighborsClassifier(n_neighbors=j, weights='distance', n_jobs=-1), PCA(n_components=i))\n",
        "      clf.fit(X_vec, y)\n",
        "      print(f\"{i}, {j}, {weights}: {clf.score(X_t_vec, y_t)}\")\n",
        "# best  ~ 67"
      ],
      "id": "rO_rYdO3QHgp",
      "execution_count": null,
      "outputs": [
        {
          "output_type": "stream",
          "text": [
            "--------------------------------------------------\n",
            "18, 31, distance: 0.67425\n",
            "18, 36, distance: 0.678375\n",
            "18, 41, distance: 0.676\n",
            "18, 46, distance: 0.6745\n",
            "18, 51, distance: 0.673875\n",
            "18, 56, distance: 0.67975\n",
            "--------------------------------------------------\n",
            "20, 31, distance: 0.679\n",
            "20, 36, distance: 0.67975\n",
            "20, 41, distance: 0.679\n",
            "20, 46, distance: 0.679125\n",
            "20, 51, distance: 0.678875\n",
            "20, 56, distance: 0.678375\n",
            "--------------------------------------------------\n",
            "22, 31, distance: 0.67825\n",
            "22, 36, distance: 0.678125\n",
            "22, 41, distance: 0.677125\n",
            "22, 46, distance: 0.675875\n",
            "22, 51, distance: 0.67775\n"
          ],
          "name": "stdout"
        },
        {
          "output_type": "error",
          "ename": "KeyboardInterrupt",
          "evalue": "ignored",
          "traceback": [
            "\u001b[0;31m---------------------------------------------------------------------------\u001b[0m",
            "\u001b[0;31mKeyboardInterrupt\u001b[0m                         Traceback (most recent call last)",
            "\u001b[0;32m<ipython-input-24-46edfa3ab116>\u001b[0m in \u001b[0;36m<module>\u001b[0;34m()\u001b[0m\n\u001b[1;32m      5\u001b[0m       \u001b[0mclf\u001b[0m \u001b[0;34m=\u001b[0m \u001b[0mU_trans_model\u001b[0m\u001b[0;34m(\u001b[0m\u001b[0mKNeighborsClassifier\u001b[0m\u001b[0;34m(\u001b[0m\u001b[0mn_neighbors\u001b[0m\u001b[0;34m=\u001b[0m\u001b[0mj\u001b[0m\u001b[0;34m,\u001b[0m \u001b[0mweights\u001b[0m\u001b[0;34m=\u001b[0m\u001b[0;34m'distance'\u001b[0m\u001b[0;34m,\u001b[0m \u001b[0mn_jobs\u001b[0m\u001b[0;34m=\u001b[0m\u001b[0;34m-\u001b[0m\u001b[0;36m1\u001b[0m\u001b[0;34m)\u001b[0m\u001b[0;34m,\u001b[0m \u001b[0mPCA\u001b[0m\u001b[0;34m(\u001b[0m\u001b[0mn_components\u001b[0m\u001b[0;34m=\u001b[0m\u001b[0mi\u001b[0m\u001b[0;34m)\u001b[0m\u001b[0;34m)\u001b[0m\u001b[0;34m\u001b[0m\u001b[0;34m\u001b[0m\u001b[0m\n\u001b[1;32m      6\u001b[0m       \u001b[0mclf\u001b[0m\u001b[0;34m.\u001b[0m\u001b[0mfit\u001b[0m\u001b[0;34m(\u001b[0m\u001b[0mX_vec\u001b[0m\u001b[0;34m,\u001b[0m \u001b[0my\u001b[0m\u001b[0;34m)\u001b[0m\u001b[0;34m\u001b[0m\u001b[0;34m\u001b[0m\u001b[0m\n\u001b[0;32m----> 7\u001b[0;31m       \u001b[0mprint\u001b[0m\u001b[0;34m(\u001b[0m\u001b[0;34mf\"{i}, {j}, {weights}: {clf.score(X_t_vec, y_t)}\"\u001b[0m\u001b[0;34m)\u001b[0m\u001b[0;34m\u001b[0m\u001b[0;34m\u001b[0m\u001b[0m\n\u001b[0m\u001b[1;32m      8\u001b[0m \u001b[0;31m# best  ~ 67\u001b[0m\u001b[0;34m\u001b[0m\u001b[0;34m\u001b[0m\u001b[0;34m\u001b[0m\u001b[0m\n",
            "\u001b[0;32m/content/wrapped_model.py\u001b[0m in \u001b[0;36mscore\u001b[0;34m(self, X_t, y_t)\u001b[0m\n\u001b[1;32m     22\u001b[0m     \u001b[0;32mdef\u001b[0m \u001b[0mscore\u001b[0m\u001b[0;34m(\u001b[0m\u001b[0mself\u001b[0m\u001b[0;34m,\u001b[0m \u001b[0mX_t\u001b[0m\u001b[0;34m,\u001b[0m \u001b[0my_t\u001b[0m\u001b[0;34m)\u001b[0m\u001b[0;34m:\u001b[0m\u001b[0;34m\u001b[0m\u001b[0;34m\u001b[0m\u001b[0m\n\u001b[1;32m     23\u001b[0m         \u001b[0mX_t\u001b[0m \u001b[0;34m=\u001b[0m \u001b[0mself\u001b[0m\u001b[0;34m.\u001b[0m\u001b[0mtransformer\u001b[0m\u001b[0;34m.\u001b[0m\u001b[0mtransform\u001b[0m\u001b[0;34m(\u001b[0m\u001b[0mX_t\u001b[0m\u001b[0;34m)\u001b[0m\u001b[0;34m\u001b[0m\u001b[0;34m\u001b[0m\u001b[0m\n\u001b[0;32m---> 24\u001b[0;31m         \u001b[0;32mreturn\u001b[0m \u001b[0mself\u001b[0m\u001b[0;34m.\u001b[0m\u001b[0mclf\u001b[0m\u001b[0;34m.\u001b[0m\u001b[0mscore\u001b[0m\u001b[0;34m(\u001b[0m\u001b[0mX_t\u001b[0m\u001b[0;34m,\u001b[0m \u001b[0my_t\u001b[0m\u001b[0;34m)\u001b[0m\u001b[0;34m\u001b[0m\u001b[0;34m\u001b[0m\u001b[0m\n\u001b[0m\u001b[1;32m     25\u001b[0m \u001b[0;34m\u001b[0m\u001b[0m\n\u001b[1;32m     26\u001b[0m \u001b[0;34m\u001b[0m\u001b[0m\n",
            "\u001b[0;32m/usr/local/lib/python3.7/dist-packages/sklearn/base.py\u001b[0m in \u001b[0;36mscore\u001b[0;34m(self, X, y, sample_weight)\u001b[0m\n\u001b[1;32m    367\u001b[0m         \"\"\"\n\u001b[1;32m    368\u001b[0m         \u001b[0;32mfrom\u001b[0m \u001b[0;34m.\u001b[0m\u001b[0mmetrics\u001b[0m \u001b[0;32mimport\u001b[0m \u001b[0maccuracy_score\u001b[0m\u001b[0;34m\u001b[0m\u001b[0;34m\u001b[0m\u001b[0m\n\u001b[0;32m--> 369\u001b[0;31m         \u001b[0;32mreturn\u001b[0m \u001b[0maccuracy_score\u001b[0m\u001b[0;34m(\u001b[0m\u001b[0my\u001b[0m\u001b[0;34m,\u001b[0m \u001b[0mself\u001b[0m\u001b[0;34m.\u001b[0m\u001b[0mpredict\u001b[0m\u001b[0;34m(\u001b[0m\u001b[0mX\u001b[0m\u001b[0;34m)\u001b[0m\u001b[0;34m,\u001b[0m \u001b[0msample_weight\u001b[0m\u001b[0;34m=\u001b[0m\u001b[0msample_weight\u001b[0m\u001b[0;34m)\u001b[0m\u001b[0;34m\u001b[0m\u001b[0;34m\u001b[0m\u001b[0m\n\u001b[0m\u001b[1;32m    370\u001b[0m \u001b[0;34m\u001b[0m\u001b[0m\n\u001b[1;32m    371\u001b[0m \u001b[0;34m\u001b[0m\u001b[0m\n",
            "\u001b[0;32m/usr/local/lib/python3.7/dist-packages/sklearn/neighbors/_classification.py\u001b[0m in \u001b[0;36mpredict\u001b[0;34m(self, X)\u001b[0m\n\u001b[1;32m    171\u001b[0m         \u001b[0mX\u001b[0m \u001b[0;34m=\u001b[0m \u001b[0mcheck_array\u001b[0m\u001b[0;34m(\u001b[0m\u001b[0mX\u001b[0m\u001b[0;34m,\u001b[0m \u001b[0maccept_sparse\u001b[0m\u001b[0;34m=\u001b[0m\u001b[0;34m'csr'\u001b[0m\u001b[0;34m)\u001b[0m\u001b[0;34m\u001b[0m\u001b[0;34m\u001b[0m\u001b[0m\n\u001b[1;32m    172\u001b[0m \u001b[0;34m\u001b[0m\u001b[0m\n\u001b[0;32m--> 173\u001b[0;31m         \u001b[0mneigh_dist\u001b[0m\u001b[0;34m,\u001b[0m \u001b[0mneigh_ind\u001b[0m \u001b[0;34m=\u001b[0m \u001b[0mself\u001b[0m\u001b[0;34m.\u001b[0m\u001b[0mkneighbors\u001b[0m\u001b[0;34m(\u001b[0m\u001b[0mX\u001b[0m\u001b[0;34m)\u001b[0m\u001b[0;34m\u001b[0m\u001b[0;34m\u001b[0m\u001b[0m\n\u001b[0m\u001b[1;32m    174\u001b[0m         \u001b[0mclasses_\u001b[0m \u001b[0;34m=\u001b[0m \u001b[0mself\u001b[0m\u001b[0;34m.\u001b[0m\u001b[0mclasses_\u001b[0m\u001b[0;34m\u001b[0m\u001b[0;34m\u001b[0m\u001b[0m\n\u001b[1;32m    175\u001b[0m         \u001b[0m_y\u001b[0m \u001b[0;34m=\u001b[0m \u001b[0mself\u001b[0m\u001b[0;34m.\u001b[0m\u001b[0m_y\u001b[0m\u001b[0;34m\u001b[0m\u001b[0;34m\u001b[0m\u001b[0m\n",
            "\u001b[0;32m/usr/local/lib/python3.7/dist-packages/sklearn/neighbors/_base.py\u001b[0m in \u001b[0;36mkneighbors\u001b[0;34m(self, X, n_neighbors, return_distance)\u001b[0m\n\u001b[1;32m    662\u001b[0m                 delayed_query(\n\u001b[1;32m    663\u001b[0m                     self._tree, X[s], n_neighbors, return_distance)\n\u001b[0;32m--> 664\u001b[0;31m                 \u001b[0;32mfor\u001b[0m \u001b[0ms\u001b[0m \u001b[0;32min\u001b[0m \u001b[0mgen_even_slices\u001b[0m\u001b[0;34m(\u001b[0m\u001b[0mX\u001b[0m\u001b[0;34m.\u001b[0m\u001b[0mshape\u001b[0m\u001b[0;34m[\u001b[0m\u001b[0;36m0\u001b[0m\u001b[0;34m]\u001b[0m\u001b[0;34m,\u001b[0m \u001b[0mn_jobs\u001b[0m\u001b[0;34m)\u001b[0m\u001b[0;34m\u001b[0m\u001b[0;34m\u001b[0m\u001b[0m\n\u001b[0m\u001b[1;32m    665\u001b[0m             )\n\u001b[1;32m    666\u001b[0m         \u001b[0;32melse\u001b[0m\u001b[0;34m:\u001b[0m\u001b[0;34m\u001b[0m\u001b[0;34m\u001b[0m\u001b[0m\n",
            "\u001b[0;32m/usr/local/lib/python3.7/dist-packages/joblib/parallel.py\u001b[0m in \u001b[0;36m__call__\u001b[0;34m(self, iterable)\u001b[0m\n\u001b[1;32m   1052\u001b[0m \u001b[0;34m\u001b[0m\u001b[0m\n\u001b[1;32m   1053\u001b[0m             \u001b[0;32mwith\u001b[0m \u001b[0mself\u001b[0m\u001b[0;34m.\u001b[0m\u001b[0m_backend\u001b[0m\u001b[0;34m.\u001b[0m\u001b[0mretrieval_context\u001b[0m\u001b[0;34m(\u001b[0m\u001b[0;34m)\u001b[0m\u001b[0;34m:\u001b[0m\u001b[0;34m\u001b[0m\u001b[0;34m\u001b[0m\u001b[0m\n\u001b[0;32m-> 1054\u001b[0;31m                 \u001b[0mself\u001b[0m\u001b[0;34m.\u001b[0m\u001b[0mretrieve\u001b[0m\u001b[0;34m(\u001b[0m\u001b[0;34m)\u001b[0m\u001b[0;34m\u001b[0m\u001b[0;34m\u001b[0m\u001b[0m\n\u001b[0m\u001b[1;32m   1055\u001b[0m             \u001b[0;31m# Make sure that we get a last message telling us we are done\u001b[0m\u001b[0;34m\u001b[0m\u001b[0;34m\u001b[0m\u001b[0;34m\u001b[0m\u001b[0m\n\u001b[1;32m   1056\u001b[0m             \u001b[0melapsed_time\u001b[0m \u001b[0;34m=\u001b[0m \u001b[0mtime\u001b[0m\u001b[0;34m.\u001b[0m\u001b[0mtime\u001b[0m\u001b[0;34m(\u001b[0m\u001b[0;34m)\u001b[0m \u001b[0;34m-\u001b[0m \u001b[0mself\u001b[0m\u001b[0;34m.\u001b[0m\u001b[0m_start_time\u001b[0m\u001b[0;34m\u001b[0m\u001b[0;34m\u001b[0m\u001b[0m\n",
            "\u001b[0;32m/usr/local/lib/python3.7/dist-packages/joblib/parallel.py\u001b[0m in \u001b[0;36mretrieve\u001b[0;34m(self)\u001b[0m\n\u001b[1;32m    931\u001b[0m             \u001b[0;32mtry\u001b[0m\u001b[0;34m:\u001b[0m\u001b[0;34m\u001b[0m\u001b[0;34m\u001b[0m\u001b[0m\n\u001b[1;32m    932\u001b[0m                 \u001b[0;32mif\u001b[0m \u001b[0mgetattr\u001b[0m\u001b[0;34m(\u001b[0m\u001b[0mself\u001b[0m\u001b[0;34m.\u001b[0m\u001b[0m_backend\u001b[0m\u001b[0;34m,\u001b[0m \u001b[0;34m'supports_timeout'\u001b[0m\u001b[0;34m,\u001b[0m \u001b[0;32mFalse\u001b[0m\u001b[0;34m)\u001b[0m\u001b[0;34m:\u001b[0m\u001b[0;34m\u001b[0m\u001b[0;34m\u001b[0m\u001b[0m\n\u001b[0;32m--> 933\u001b[0;31m                     \u001b[0mself\u001b[0m\u001b[0;34m.\u001b[0m\u001b[0m_output\u001b[0m\u001b[0;34m.\u001b[0m\u001b[0mextend\u001b[0m\u001b[0;34m(\u001b[0m\u001b[0mjob\u001b[0m\u001b[0;34m.\u001b[0m\u001b[0mget\u001b[0m\u001b[0;34m(\u001b[0m\u001b[0mtimeout\u001b[0m\u001b[0;34m=\u001b[0m\u001b[0mself\u001b[0m\u001b[0;34m.\u001b[0m\u001b[0mtimeout\u001b[0m\u001b[0;34m)\u001b[0m\u001b[0;34m)\u001b[0m\u001b[0;34m\u001b[0m\u001b[0;34m\u001b[0m\u001b[0m\n\u001b[0m\u001b[1;32m    934\u001b[0m                 \u001b[0;32melse\u001b[0m\u001b[0;34m:\u001b[0m\u001b[0;34m\u001b[0m\u001b[0;34m\u001b[0m\u001b[0m\n\u001b[1;32m    935\u001b[0m                     \u001b[0mself\u001b[0m\u001b[0;34m.\u001b[0m\u001b[0m_output\u001b[0m\u001b[0;34m.\u001b[0m\u001b[0mextend\u001b[0m\u001b[0;34m(\u001b[0m\u001b[0mjob\u001b[0m\u001b[0;34m.\u001b[0m\u001b[0mget\u001b[0m\u001b[0;34m(\u001b[0m\u001b[0;34m)\u001b[0m\u001b[0;34m)\u001b[0m\u001b[0;34m\u001b[0m\u001b[0;34m\u001b[0m\u001b[0m\n",
            "\u001b[0;32m/usr/lib/python3.7/multiprocessing/pool.py\u001b[0m in \u001b[0;36mget\u001b[0;34m(self, timeout)\u001b[0m\n\u001b[1;32m    649\u001b[0m \u001b[0;34m\u001b[0m\u001b[0m\n\u001b[1;32m    650\u001b[0m     \u001b[0;32mdef\u001b[0m \u001b[0mget\u001b[0m\u001b[0;34m(\u001b[0m\u001b[0mself\u001b[0m\u001b[0;34m,\u001b[0m \u001b[0mtimeout\u001b[0m\u001b[0;34m=\u001b[0m\u001b[0;32mNone\u001b[0m\u001b[0;34m)\u001b[0m\u001b[0;34m:\u001b[0m\u001b[0;34m\u001b[0m\u001b[0;34m\u001b[0m\u001b[0m\n\u001b[0;32m--> 651\u001b[0;31m         \u001b[0mself\u001b[0m\u001b[0;34m.\u001b[0m\u001b[0mwait\u001b[0m\u001b[0;34m(\u001b[0m\u001b[0mtimeout\u001b[0m\u001b[0;34m)\u001b[0m\u001b[0;34m\u001b[0m\u001b[0;34m\u001b[0m\u001b[0m\n\u001b[0m\u001b[1;32m    652\u001b[0m         \u001b[0;32mif\u001b[0m \u001b[0;32mnot\u001b[0m \u001b[0mself\u001b[0m\u001b[0;34m.\u001b[0m\u001b[0mready\u001b[0m\u001b[0;34m(\u001b[0m\u001b[0;34m)\u001b[0m\u001b[0;34m:\u001b[0m\u001b[0;34m\u001b[0m\u001b[0;34m\u001b[0m\u001b[0m\n\u001b[1;32m    653\u001b[0m             \u001b[0;32mraise\u001b[0m \u001b[0mTimeoutError\u001b[0m\u001b[0;34m\u001b[0m\u001b[0;34m\u001b[0m\u001b[0m\n",
            "\u001b[0;32m/usr/lib/python3.7/multiprocessing/pool.py\u001b[0m in \u001b[0;36mwait\u001b[0;34m(self, timeout)\u001b[0m\n\u001b[1;32m    646\u001b[0m \u001b[0;34m\u001b[0m\u001b[0m\n\u001b[1;32m    647\u001b[0m     \u001b[0;32mdef\u001b[0m \u001b[0mwait\u001b[0m\u001b[0;34m(\u001b[0m\u001b[0mself\u001b[0m\u001b[0;34m,\u001b[0m \u001b[0mtimeout\u001b[0m\u001b[0;34m=\u001b[0m\u001b[0;32mNone\u001b[0m\u001b[0;34m)\u001b[0m\u001b[0;34m:\u001b[0m\u001b[0;34m\u001b[0m\u001b[0;34m\u001b[0m\u001b[0m\n\u001b[0;32m--> 648\u001b[0;31m         \u001b[0mself\u001b[0m\u001b[0;34m.\u001b[0m\u001b[0m_event\u001b[0m\u001b[0;34m.\u001b[0m\u001b[0mwait\u001b[0m\u001b[0;34m(\u001b[0m\u001b[0mtimeout\u001b[0m\u001b[0;34m)\u001b[0m\u001b[0;34m\u001b[0m\u001b[0;34m\u001b[0m\u001b[0m\n\u001b[0m\u001b[1;32m    649\u001b[0m \u001b[0;34m\u001b[0m\u001b[0m\n\u001b[1;32m    650\u001b[0m     \u001b[0;32mdef\u001b[0m \u001b[0mget\u001b[0m\u001b[0;34m(\u001b[0m\u001b[0mself\u001b[0m\u001b[0;34m,\u001b[0m \u001b[0mtimeout\u001b[0m\u001b[0;34m=\u001b[0m\u001b[0;32mNone\u001b[0m\u001b[0;34m)\u001b[0m\u001b[0;34m:\u001b[0m\u001b[0;34m\u001b[0m\u001b[0;34m\u001b[0m\u001b[0m\n",
            "\u001b[0;32m/usr/lib/python3.7/threading.py\u001b[0m in \u001b[0;36mwait\u001b[0;34m(self, timeout)\u001b[0m\n\u001b[1;32m    550\u001b[0m             \u001b[0msignaled\u001b[0m \u001b[0;34m=\u001b[0m \u001b[0mself\u001b[0m\u001b[0;34m.\u001b[0m\u001b[0m_flag\u001b[0m\u001b[0;34m\u001b[0m\u001b[0;34m\u001b[0m\u001b[0m\n\u001b[1;32m    551\u001b[0m             \u001b[0;32mif\u001b[0m \u001b[0;32mnot\u001b[0m \u001b[0msignaled\u001b[0m\u001b[0;34m:\u001b[0m\u001b[0;34m\u001b[0m\u001b[0;34m\u001b[0m\u001b[0m\n\u001b[0;32m--> 552\u001b[0;31m                 \u001b[0msignaled\u001b[0m \u001b[0;34m=\u001b[0m \u001b[0mself\u001b[0m\u001b[0;34m.\u001b[0m\u001b[0m_cond\u001b[0m\u001b[0;34m.\u001b[0m\u001b[0mwait\u001b[0m\u001b[0;34m(\u001b[0m\u001b[0mtimeout\u001b[0m\u001b[0;34m)\u001b[0m\u001b[0;34m\u001b[0m\u001b[0;34m\u001b[0m\u001b[0m\n\u001b[0m\u001b[1;32m    553\u001b[0m             \u001b[0;32mreturn\u001b[0m \u001b[0msignaled\u001b[0m\u001b[0;34m\u001b[0m\u001b[0;34m\u001b[0m\u001b[0m\n\u001b[1;32m    554\u001b[0m \u001b[0;34m\u001b[0m\u001b[0m\n",
            "\u001b[0;32m/usr/lib/python3.7/threading.py\u001b[0m in \u001b[0;36mwait\u001b[0;34m(self, timeout)\u001b[0m\n\u001b[1;32m    294\u001b[0m         \u001b[0;32mtry\u001b[0m\u001b[0;34m:\u001b[0m    \u001b[0;31m# restore state no matter what (e.g., KeyboardInterrupt)\u001b[0m\u001b[0;34m\u001b[0m\u001b[0;34m\u001b[0m\u001b[0m\n\u001b[1;32m    295\u001b[0m             \u001b[0;32mif\u001b[0m \u001b[0mtimeout\u001b[0m \u001b[0;32mis\u001b[0m \u001b[0;32mNone\u001b[0m\u001b[0;34m:\u001b[0m\u001b[0;34m\u001b[0m\u001b[0;34m\u001b[0m\u001b[0m\n\u001b[0;32m--> 296\u001b[0;31m                 \u001b[0mwaiter\u001b[0m\u001b[0;34m.\u001b[0m\u001b[0macquire\u001b[0m\u001b[0;34m(\u001b[0m\u001b[0;34m)\u001b[0m\u001b[0;34m\u001b[0m\u001b[0;34m\u001b[0m\u001b[0m\n\u001b[0m\u001b[1;32m    297\u001b[0m                 \u001b[0mgotit\u001b[0m \u001b[0;34m=\u001b[0m \u001b[0;32mTrue\u001b[0m\u001b[0;34m\u001b[0m\u001b[0;34m\u001b[0m\u001b[0m\n\u001b[1;32m    298\u001b[0m             \u001b[0;32melse\u001b[0m\u001b[0;34m:\u001b[0m\u001b[0;34m\u001b[0m\u001b[0;34m\u001b[0m\u001b[0m\n",
            "\u001b[0;31mKeyboardInterrupt\u001b[0m: "
          ]
        }
      ]
    },
    {
      "cell_type": "code",
      "metadata": {
        "id": "-z8vqKcdJVe0"
      },
      "source": [
        "knn = U_trans_model(KNeighborsClassifier(n_neighbors=39, weights='distance', n_jobs=-1), PCA(n_components=15))\n",
        "knn.fit(X_vec, y)\n",
        "pre2 = knn.predict_proba(X_t_vec)"
      ],
      "id": "-z8vqKcdJVe0",
      "execution_count": 59,
      "outputs": []
    },
    {
      "cell_type": "code",
      "metadata": {
        "id": "_UwtlNgsJmts"
      },
      "source": [
        "pred2 = pre2.argmax(axis=1)+1"
      ],
      "id": "_UwtlNgsJmts",
      "execution_count": 61,
      "outputs": []
    },
    {
      "cell_type": "code",
      "metadata": {
        "colab": {
          "base_uri": "https://localhost:8080/"
        },
        "id": "e8lVk2cMJv8O",
        "outputId": "cbe2b624-50d5-4d6b-f32d-6b55afffd2fc"
      },
      "source": [
        "accuracy_score(y_t, pred2)"
      ],
      "id": "e8lVk2cMJv8O",
      "execution_count": 62,
      "outputs": [
        {
          "output_type": "execute_result",
          "data": {
            "text/plain": [
              "0.678375"
            ]
          },
          "metadata": {
            "tags": []
          },
          "execution_count": 62
        }
      ]
    },
    {
      "cell_type": "code",
      "metadata": {
        "colab": {
          "base_uri": "https://localhost:8080/"
        },
        "id": "nPck_bZOM_DU",
        "outputId": "11553716-aee0-4beb-d667-844064321237"
      },
      "source": [
        "pred"
      ],
      "id": "nPck_bZOM_DU",
      "execution_count": 85,
      "outputs": [
        {
          "output_type": "execute_result",
          "data": {
            "text/plain": [
              "array([2, 2, 2, ..., 2, 2, 2])"
            ]
          },
          "metadata": {
            "tags": []
          },
          "execution_count": 85
        }
      ]
    },
    {
      "cell_type": "code",
      "metadata": {
        "colab": {
          "base_uri": "https://localhost:8080/",
          "height": 802
        },
        "id": "bExGEKdiJz5C",
        "outputId": "23f60611-59f6-44af-b74c-684dbeac28d9"
      },
      "source": [
        "from evaluation import evaluate_models\n",
        "evaluate_models([pred, pred2], y_t, titles=[\"svm\", \"knn\"])"
      ],
      "id": "bExGEKdiJz5C",
      "execution_count": 84,
      "outputs": [
        {
          "output_type": "stream",
          "text": [
            "Evaluating svm:\n",
            "Accuracy = 70.94%\n",
            "   Precision    Recall   F_score\n",
            "1   0.719774  0.685868  0.702412\n",
            "2   0.701596  0.799509  0.747359\n",
            "3   1.000000  0.009852  0.019512\n",
            "\n",
            "Confusion matrix:\n",
            "      1     2  3\n",
            "1  2417  1107  0\n",
            "2   816  3254  0\n",
            "3   125   277  4\n",
            "\n",
            "--------------------------------------------------\n",
            "Evaluating knn:\n",
            "Accuracy = 67.84%\n",
            "   Precision    Recall   F_score\n",
            "1   0.636974  0.781215  0.701759\n",
            "2   0.728607  0.646437  0.685067\n",
            "3   0.641791  0.105911  0.181818\n",
            "\n",
            "Confusion matrix:\n",
            "      1     2   3\n",
            "1  2753   767   4\n",
            "2  1419  2631  20\n",
            "3   150   213  43\n",
            "\n",
            "--------------------------------------------------\n",
            "Evaluating svm & knn\n",
            "passing\n",
            "Model svm accuracy : 0.709375\n",
            "Model knn accuracy : 0.678375\n",
            "Out of all predictions made,\n"
          ],
          "name": "stdout"
        },
        {
          "output_type": "display_data",
          "data": {
            "image/png": "[encoded data removed]",
            "text/plain": [
              "<Figure size 432x288 with 1 Axes>"
            ]
          },
          "metadata": {
            "tags": []
          }
        }
      ]
    },
    {
      "cell_type": "code",
      "metadata": {
        "id": "3y9oLkrSNs1O"
      },
      "source": [
        "pre3 = pre * pre2"
      ],
      "id": "3y9oLkrSNs1O",
      "execution_count": 88,
      "outputs": []
    },
    {
      "cell_type": "code",
      "metadata": {
        "colab": {
          "base_uri": "https://localhost:8080/"
        },
        "id": "0MH6cz6zN4f4",
        "outputId": "08a0a5f4-2b64-4917-dbfb-49e2ab0de138"
      },
      "source": [
        "pre3"
      ],
      "id": "0MH6cz6zN4f4",
      "execution_count": 90,
      "outputs": [
        {
          "output_type": "execute_result",
          "data": {
            "text/plain": [
              "array([[9.32587107e-02, 3.67724755e-01, 7.01554073e-03],\n",
              "       [4.94759781e-02, 5.35349041e-01, 1.79476067e-03],\n",
              "       [4.84887140e-02, 5.53637300e-01, 0.00000000e+00],\n",
              "       ...,\n",
              "       [3.15645240e-02, 6.25764542e-01, 0.00000000e+00],\n",
              "       [1.66762254e-01, 2.55677348e-01, 6.43330026e-03],\n",
              "       [1.56552667e-01, 3.19417968e-01, 6.21121824e-04]])"
            ]
          },
          "metadata": {
            "tags": []
          },
          "execution_count": 90
        }
      ]
    },
    {
      "cell_type": "code",
      "metadata": {
        "id": "bcWBjoEANz1u"
      },
      "source": [
        "pred3 = pre3.argmax(axis=1)+1"
      ],
      "id": "bcWBjoEANz1u",
      "execution_count": 91,
      "outputs": []
    },
    {
      "cell_type": "code",
      "metadata": {
        "colab": {
          "base_uri": "https://localhost:8080/"
        },
        "id": "RlyEhGw0OBNh",
        "outputId": "8f5f37e8-4a1c-4798-9508-8ace4ba1a209"
      },
      "source": [
        "accuracy_score(y_t, pred3)"
      ],
      "id": "RlyEhGw0OBNh",
      "execution_count": 92,
      "outputs": [
        {
          "output_type": "execute_result",
          "data": {
            "text/plain": [
              "0.7075"
            ]
          },
          "metadata": {
            "tags": []
          },
          "execution_count": 92
        }
      ]
    },
    {
      "cell_type": "markdown",
      "metadata": {
        "id": "biWus-VOtHvN"
      },
      "source": [
        "50 knn: 15, 35\n",
        "\n",
        "100 knn: 15, 30"
      ],
      "id": "biWus-VOtHvN"
    },
    {
      "cell_type": "markdown",
      "metadata": {
        "id": "6EBWqtsEuKL7"
      },
      "source": [
        "# Log tuning"
      ],
      "id": "6EBWqtsEuKL7"
    },
    {
      "cell_type": "code",
      "metadata": {
        "id": "WXPGKBfwujuP"
      },
      "source": [
        "from sklearn.model_selection import GridSearchCV"
      ],
      "id": "WXPGKBfwujuP",
      "execution_count": null,
      "outputs": []
    },
    {
      "cell_type": "code",
      "metadata": {
        "colab": {
          "base_uri": "https://localhost:8080/"
        },
        "id": "Syf-QuoKsjos",
        "outputId": "f6cb2072-ce76-4446-8dbd-10a0de9867a8"
      },
      "source": [
        "# define models and parameters\n",
        "model = LogisticRegression(max_iter=2000)\n",
        "solvers = ['newton-cg', 'lbfgs', 'liblinear']\n",
        "penalty = ['l2']\n",
        "c_values = [100, 10, 1.0, 0.1, 0.01]\n",
        "\n",
        "# define grid search\n",
        "grid = dict(solver=solvers,penalty=penalty,C=c_values)\n",
        "grid_search = GridSearchCV(estimator=model, param_grid=grid, n_jobs=-1, cv=None, scoring='accuracy',error_score=0)\n",
        "grid_result = grid_search.fit(X_50, y)\n",
        "\n",
        "# summarize results\n",
        "print(\"Best: %f using %s\" % (grid_result.best_score_, grid_result.best_params_))\n",
        "means = grid_result.cv_results_['mean_test_score']\n",
        "stds = grid_result.cv_results_['std_test_score']\n",
        "params = grid_result.cv_results_['params']\n",
        "for mean, stdev, param in zip(means, stds, params):\n",
        "    print(\"%f (%f) with: %r\" % (mean, stdev, param))"
      ],
      "id": "Syf-QuoKsjos",
      "execution_count": null,
      "outputs": [
        {
          "output_type": "stream",
          "text": [
            "Best: 0.650594 using {'C': 0.1, 'penalty': 'l2', 'solver': 'lbfgs'}\n",
            "0.650281 (0.002259) with: {'C': 100, 'penalty': 'l2', 'solver': 'newton-cg'}\n",
            "0.650313 (0.002207) with: {'C': 100, 'penalty': 'l2', 'solver': 'lbfgs'}\n",
            "0.650344 (0.001799) with: {'C': 100, 'penalty': 'l2', 'solver': 'liblinear'}\n",
            "0.650281 (0.002259) with: {'C': 10, 'penalty': 'l2', 'solver': 'newton-cg'}\n",
            "0.650219 (0.002202) with: {'C': 10, 'penalty': 'l2', 'solver': 'lbfgs'}\n",
            "0.650406 (0.001892) with: {'C': 10, 'penalty': 'l2', 'solver': 'liblinear'}\n",
            "0.650250 (0.002235) with: {'C': 1.0, 'penalty': 'l2', 'solver': 'newton-cg'}\n",
            "0.650312 (0.002203) with: {'C': 1.0, 'penalty': 'l2', 'solver': 'lbfgs'}\n",
            "0.650438 (0.001802) with: {'C': 1.0, 'penalty': 'l2', 'solver': 'liblinear'}\n",
            "0.650563 (0.002272) with: {'C': 0.1, 'penalty': 'l2', 'solver': 'newton-cg'}\n",
            "0.650594 (0.002318) with: {'C': 0.1, 'penalty': 'l2', 'solver': 'lbfgs'}\n",
            "0.650031 (0.002079) with: {'C': 0.1, 'penalty': 'l2', 'solver': 'liblinear'}\n",
            "0.650250 (0.002287) with: {'C': 0.01, 'penalty': 'l2', 'solver': 'newton-cg'}\n",
            "0.650281 (0.002278) with: {'C': 0.01, 'penalty': 'l2', 'solver': 'lbfgs'}\n",
            "0.648406 (0.001640) with: {'C': 0.01, 'penalty': 'l2', 'solver': 'liblinear'}\n"
          ],
          "name": "stdout"
        }
      ]
    },
    {
      "cell_type": "code",
      "metadata": {
        "id": "qFqImcYtxc84"
      },
      "source": [
        "# define models and parameters\n",
        "model = LogisticRegression(max_iter=2000)\n",
        "solvers = ['newton-cg', 'lbfgs', 'liblinear']\n",
        "penalty = ['l2']\n",
        "c_values = [100, 10, 1.0, 0.1, 0.01]\n",
        "\n",
        "# define grid search\n",
        "grid = dict(solver=solvers,penalty=penalty,C=c_values)\n",
        "grid_search = GridSearchCV(estimator=model, param_grid=grid, n_jobs=-1, cv=None, scoring='accuracy',error_score=0)\n",
        "grid_result = grid_search.fit(X_100, y)\n",
        "\n",
        "# summarize results\n",
        "print(\"Best: %f using %s\" % (grid_result.best_score_, grid_result.best_params_))\n",
        "means = grid_result.cv_results_['mean_test_score']\n",
        "stds = grid_result.cv_results_['std_test_score']\n",
        "params = grid_result.cv_results_['params']\n",
        "for mean, stdev, param in zip(means, stds, params):\n",
        "    print(\"%f (%f) with: %r\" % (mean, stdev, param))"
      ],
      "id": "qFqImcYtxc84",
      "execution_count": null,
      "outputs": []
    },
    {
      "cell_type": "markdown",
      "metadata": {
        "id": "S2hOD6zNuO7N"
      },
      "source": [
        "# others"
      ],
      "id": "S2hOD6zNuO7N"
    },
    {
      "cell_type": "code",
      "metadata": {
        "colab": {
          "base_uri": "https://localhost:8080/"
        },
        "id": "MfME_pE2wZ2p",
        "outputId": "91069f67-f52c-43f9-9cf2-fb23c6d4d5ad"
      },
      "source": [
        "X_t_cv = X_t_cv.toarray().astype(np.float32)\n",
        "X_cv = X_cv.toarray().astype(np.float32)\n",
        "print(X_cv.shape)"
      ],
      "id": "MfME_pE2wZ2p",
      "execution_count": null,
      "outputs": [
        {
          "output_type": "stream",
          "text": [
            "(32000, 17967)\n"
          ],
          "name": "stdout"
        }
      ]
    },
    {
      "cell_type": "code",
      "metadata": {
        "id": "rVqe1B35zznk"
      },
      "source": [
        "pd.concat([X, pd.DataFrame(y.values, columns=['duration_label'])], axis=1).to_csv(path+\"data/meta_train.csv\", header=True, index=False)\n",
        "pd.concat([X_t, pd.DataFrame(y_t.values, columns=['duration_label'])], axis=1).to_csv(path+\"data/meta_test.csv\", header=True, index=False)"
      ],
      "id": "rVqe1B35zznk",
      "execution_count": null,
      "outputs": []
    },
    {
      "cell_type": "markdown",
      "metadata": {
        "id": "2nMgdft6fyTz"
      },
      "source": [
        "\n",
        "\n",
        "---\n"
      ],
      "id": "2nMgdft6fyTz"
    },
    {
      "cell_type": "code",
      "metadata": {
        "id": "hS2-cJgXf33B"
      },
      "source": [
        "X = pd.read_csv(path+\"data/meta_train.csv\", header=0)\n",
        "X_t = pd.read_csv(path+\"data/meta_test.csv\", header=0)\n",
        "\n",
        "l = X.values.shape[1]"
      ],
      "id": "hS2-cJgXf33B",
      "execution_count": null,
      "outputs": []
    },
    {
      "cell_type": "code",
      "metadata": {
        "id": "UPB69KRbr4xZ"
      },
      "source": [
        "f50 = [i for i in X.columns if '50' in i]\n",
        "f100 = [i for i in X.columns if '100' in i]\n",
        "fcv = [i for i in X.columns if 'cv' in i]"
      ],
      "id": "UPB69KRbr4xZ",
      "execution_count": null,
      "outputs": []
    },
    {
      "cell_type": "code",
      "metadata": {
        "id": "nAF1a0jfu_PW"
      },
      "source": [
        "models = [    \n",
        "          MultinomialNB(),\n",
        "          \n",
        "          RandomForestClassifier(max_depth=5),\n",
        "\n",
        "          RandomForestClassifier(max_depth=7),\n",
        "\n",
        "          svm.SVC(kernel='rbf', gamma=0.7, C=1, max_iter=20000),\n",
        "\n",
        "          svm.SVC(kernel='poly', gamma=0.7, C=1, max_iter=20000),\n",
        "          \n",
        "          LogisticRegression(max_iter=20000)]\n",
        "\n",
        "titles = [    \n",
        "          'MNB',\n",
        "          \n",
        "          'Random Forest 5',\n",
        "\n",
        "          'RF 7',\n",
        "\n",
        "          'svm rbf',\n",
        "\n",
        "          'svm poly'\n",
        "          \n",
        "          'Logistic Regression']"
      ],
      "id": "nAF1a0jfu_PW",
      "execution_count": null,
      "outputs": []
    },
    {
      "cell_type": "code",
      "metadata": {
        "colab": {
          "base_uri": "https://localhost:8080/"
        },
        "id": "stACkiooiWZz",
        "outputId": "83135ec4-78fb-4052-82ad-f4b2c438108d"
      },
      "source": [
        "# evaluation\n",
        "\n",
        "#a = X.loc[:, f50]\n",
        "#b = X_t.loc[:, f50]\n",
        "\n",
        "length = X.values.shape[1]\n",
        "\n",
        "for i in range(0, length, 3):\n",
        "  proba = X_t.iloc[:, i:i+3]\n",
        "  print(proba.columns)\n",
        "  yhat = np.argmax(proba.values, axis=1)+1\n",
        "  print(accuracy_score(y_t, yhat))\n",
        "\n",
        "\n",
        "# for title,clf in zip(titles, models):\n",
        "#     clf.fit(X, y)\n",
        "#     print(title, \"Accuracy:\",clf.score(X_t, y_t))"
      ],
      "id": "stACkiooiWZz",
      "execution_count": null,
      "outputs": [
        {
          "output_type": "stream",
          "text": [
            "Index(['50_GNB_1', '50_GNB_2', '50_GNB_3'], dtype='object')\n",
            "0.613625\n",
            "Index(['50_Random Forest_1', '50_Random Forest_2', '50_Random Forest_3'], dtype='object')\n",
            "0.66525\n",
            "Index(['50_KNN5_1', '50_KNN5_2', '50_KNN5_3'], dtype='object')\n",
            "0.633375\n",
            "Index(['50_Logistic Regression_1', '50_Logistic Regression_2',\n",
            "       '50_Logistic Regression_3'],\n",
            "      dtype='object')\n",
            "0.648375\n",
            "Index(['50_lgb_1', '50_lgb_2', '50_lgb_3'], dtype='object')\n",
            "0.694625\n",
            "Index(['100_Random Forest_1', '100_Random Forest_2', '100_Random Forest_3'], dtype='object')\n",
            "0.662125\n",
            "Index(['100_Logistic Regression_1', '100_Logistic Regression_2',\n",
            "       '100_Logistic Regression_3'],\n",
            "      dtype='object')\n",
            "0.671375\n",
            "Index(['100_lgb_1', '100_lgb_2', '100_lgb_3'], dtype='object')\n",
            "0.7025\n",
            "Index(['cv_lgb_1', 'cv_lgb_2', 'cv_lgb_3'], dtype='object')\n",
            "0.81175\n",
            "Index(['cv_MNB_1', 'cv_MNB_2', 'cv_MNB_3'], dtype='object')\n",
            "0.728375\n",
            "Index(['cv_Random Forest_1', 'cv_Random Forest_2', 'cv_Random Forest_3'], dtype='object')\n",
            "0.731125\n",
            "Index(['cv_Logistic Regression_1', 'cv_Logistic Regression_2',\n",
            "       'cv_Logistic Regression_3'],\n",
            "      dtype='object')\n",
            "0.7925\n",
            "Index(['duration_label'], dtype='object')\n",
            "0.4405\n"
          ],
          "name": "stdout"
        }
      ]
    },
    {
      "cell_type": "code",
      "metadata": {
        "colab": {
          "base_uri": "https://localhost:8080/"
        },
        "id": "Rdbk4NIkiKy4",
        "outputId": "2a3dcf3e-3cfd-4a7e-8e83-1966b03b9d06"
      },
      "source": [
        "clf=svm.SVC(kernel='rbf', gamma=0.7, C=1)\n",
        "clf.fit(X, y)\n",
        "clf.score(X_t, y_t)"
      ],
      "id": "Rdbk4NIkiKy4",
      "execution_count": null,
      "outputs": [
        {
          "output_type": "execute_result",
          "data": {
            "text/plain": [
              "0.759875"
            ]
          },
          "metadata": {
            "tags": []
          },
          "execution_count": 76
        }
      ]
    },
    {
      "cell_type": "code",
      "metadata": {
        "colab": {
          "base_uri": "https://localhost:8080/"
        },
        "id": "JPF0Wnf-nbbs",
        "outputId": "d5d4d2f1-f97f-4101-b45f-feea25c83bc4"
      },
      "source": [
        "clf=svm.SVC(kernel='poly', gamma=0.7, C=1)\n",
        "clf.fit(X, y)\n",
        "clf.score(X_t, y_t)"
      ],
      "id": "JPF0Wnf-nbbs",
      "execution_count": null,
      "outputs": [
        {
          "output_type": "execute_result",
          "data": {
            "text/plain": [
              "0.72975"
            ]
          },
          "metadata": {
            "tags": []
          },
          "execution_count": 77
        }
      ]
    },
    {
      "cell_type": "code",
      "metadata": {
        "colab": {
          "base_uri": "https://localhost:8080/"
        },
        "id": "Gx3HYHECkbph",
        "outputId": "7453182e-e89e-4928-dd2a-f70b270c9fa2"
      },
      "source": [
        "clf=LogisticRegression(max_iter=2000)\n",
        "clf.fit(X, y)\n",
        "clf.score(X_t, y_t)"
      ],
      "id": "Gx3HYHECkbph",
      "execution_count": null,
      "outputs": [
        {
          "output_type": "execute_result",
          "data": {
            "text/plain": [
              "0.766125"
            ]
          },
          "metadata": {
            "tags": []
          },
          "execution_count": 78
        }
      ]
    },
    {
      "cell_type": "code",
      "metadata": {
        "colab": {
          "base_uri": "https://localhost:8080/"
        },
        "id": "Rqql00KchHV2",
        "outputId": "65b54725-83ef-463e-c96a-3e1a3d0934a2"
      },
      "source": [
        "clf=MultinomialNB()\n",
        "clf.fit(X, y)\n",
        "clf.score(X_t, y_t)"
      ],
      "id": "Rqql00KchHV2",
      "execution_count": null,
      "outputs": [
        {
          "output_type": "execute_result",
          "data": {
            "text/plain": [
              "0.778875"
            ]
          },
          "metadata": {
            "tags": []
          },
          "execution_count": 79
        }
      ]
    },
    {
      "cell_type": "code",
      "metadata": {
        "colab": {
          "base_uri": "https://localhost:8080/"
        },
        "id": "EM9enBbmndNP",
        "outputId": "88832f9d-a04b-45cc-ac72-eb097c41ee79"
      },
      "source": [
        "clf=GaussianNB()\n",
        "clf.fit(X, y)\n",
        "clf.score(X_t, y_t)"
      ],
      "id": "EM9enBbmndNP",
      "execution_count": null,
      "outputs": [
        {
          "output_type": "execute_result",
          "data": {
            "text/plain": [
              "0.76375"
            ]
          },
          "metadata": {
            "tags": []
          },
          "execution_count": 80
        }
      ]
    },
    {
      "cell_type": "code",
      "metadata": {
        "colab": {
          "base_uri": "https://localhost:8080/"
        },
        "id": "WWF2sk5cn_MY",
        "outputId": "fe07616a-0057-4134-99c4-d585ed8a7145"
      },
      "source": [
        "clf=DecisionTreeClassifier()\n",
        "clf.fit(X, y)\n",
        "clf.score(X_t, y_t)"
      ],
      "id": "WWF2sk5cn_MY",
      "execution_count": null,
      "outputs": [
        {
          "output_type": "execute_result",
          "data": {
            "text/plain": [
              "0.699375"
            ]
          },
          "metadata": {
            "tags": []
          },
          "execution_count": 81
        }
      ]
    },
    {
      "cell_type": "code",
      "metadata": {
        "colab": {
          "base_uri": "https://localhost:8080/"
        },
        "id": "fwKX8_l6gAUy",
        "outputId": "2bcadd9e-dfa0-4fdd-efc6-1fffe0a8ccd1"
      },
      "source": [
        "params={}\n",
        "params['learning_rate']=0.03\n",
        "params['device_type']='cpu',\n",
        "params['boosting_type']='gbdt' #GradientBoostingDecisionTree\n",
        "params['objective']='multiclass' #Multi-class target feature\n",
        "params['metric']='multi_logloss' #metric for multi-class\n",
        "params['max_depth']=3\n",
        "params['num_class']=3\n",
        "params['verbosity']=-1\n",
        "\n",
        "d_train=lgb.Dataset(a, label=y-1)\n",
        "\n",
        "for i in range(5, 80, 10):\n",
        "\n",
        "\n",
        "  clf=lgb.train(params,d_train, i)\n",
        "\n",
        "  pre = clf.predict(b)\n",
        "\n",
        "  yhat = np.argmax(pre, axis=1)+1\n",
        "  print(f\"{i}: {accuracy_score(y_t, yhat)}\")"
      ],
      "id": "fwKX8_l6gAUy",
      "execution_count": null,
      "outputs": [
        {
          "output_type": "stream",
          "text": [
            "5: 0.660375\n",
            "15: 0.672125\n",
            "25: 0.672375\n",
            "35: 0.669375\n",
            "45: 0.668875\n",
            "55: 0.67175\n",
            "65: 0.672875\n",
            "75: 0.671875\n"
          ],
          "name": "stdout"
        }
      ]
    },
    {
      "cell_type": "markdown",
      "metadata": {
        "id": "qfJALbCPfykI"
      },
      "source": [
        "\n",
        "\n",
        "---\n",
        "\n",
        "\n",
        "\n",
        "---\n",
        "\n"
      ],
      "id": "qfJALbCPfykI"
    },
    {
      "cell_type": "code",
      "metadata": {
        "id": "yIYQgVEpCygy"
      },
      "source": [
        "class ScalerModel():\n",
        "  \"\"\"For countvectorier,\n",
        "  transforms data with MaxAbsScaler before applying the model\"\"\"\n",
        "  \n",
        "  def __init__(self, model, max_iter=2000):\n",
        "    self.transformer = MaxAbsScaler()\n",
        "    if max_iter:\n",
        "      self.clf = model(max_iter=max_iter)\n",
        "    else:\n",
        "      self.clf = model()\n",
        "  \n",
        "  def fit(self, X, y):\n",
        "    X = self.transformer.fit_transform(X)\n",
        "    self.clf.fit(X, y)\n",
        "  \n",
        "\n",
        "  def predict(self, X_t):\n",
        "    X_t = self.transformer.transform(X_t)\n",
        "    return self.clf.predict(X_t)\n",
        "\n",
        "  def predict_proba(self, X_t):\n",
        "    X_t = self.transformer.transform(X_t)\n",
        "    return self.clf.predict_proba(X_t)\n",
        "  \n",
        "  def score(self, X_t, y_t):\n",
        "    X_t = self.transformer.transform(X_t)\n",
        "    return self.clf.score(X_t, y_t)"
      ],
      "id": "yIYQgVEpCygy",
      "execution_count": null,
      "outputs": []
    },
    {
      "cell_type": "code",
      "metadata": {
        "id": "dress-asian"
      },
      "source": [
        "models_vec = [GaussianNB(), RandomForestClassifier(max_depth=10), KNeighborsClassifier(n_neighbors=5), LogisticRegression(max_iter=2000)]\n",
        "titles_vec = ['GNB', 'Random Forest', 'KNN5', 'Logistic Regression']\n",
        "\n",
        "models_cv = [MultinomialNB(), RandomForestClassifier(max_depth=10), ScalerModel(LogisticRegression, max_iter=2000)]\n",
        "titles_cv = ['MNB', 'Random Forest', 'Logistic Regression']"
      ],
      "id": "dress-asian",
      "execution_count": null,
      "outputs": []
    },
    {
      "cell_type": "code",
      "metadata": {
        "id": "_GL_mB6d8rpE"
      },
      "source": [
        "train_meta = pd.read_csv(path+\"data/meta_train.csv\", header=0)\n",
        "test_meta = pd.read_csv(path+\"data/meta_test.csv\", header=0)"
      ],
      "id": "_GL_mB6d8rpE",
      "execution_count": null,
      "outputs": []
    },
    {
      "cell_type": "code",
      "metadata": {
        "id": "0AWX5d-nyLG6"
      },
      "source": [
        "params={}\n",
        "params['learning_rate']=0.03\n",
        "params['device_type']='cpu',\n",
        "params['boosting_type']='gbdt' #GradientBoostingDecisionTree\n",
        "params['objective']='multiclass' #Multi-class target feature\n",
        "params['metric']='multi_logloss' #metric for multi-class\n",
        "params['max_depth']=10\n",
        "params['num_class']=3\n",
        "params['verbosity']=-1"
      ],
      "id": "0AWX5d-nyLG6",
      "execution_count": null,
      "outputs": []
    },
    {
      "cell_type": "code",
      "metadata": {
        "id": "bFatSEED3G6K"
      },
      "source": [
        "# 50\n",
        "d_train=lgb.Dataset(X_50, label=y-1)\n",
        "clf=lgb.train(params,d_train,400)\n",
        "\n",
        "train_pred = clf.predict(X_50)\n",
        "train_pred = pd.DataFrame(data=train_pred, columns=[f\"{50}_lgb_{i+1}\" for i in range(3)])\n",
        "\n",
        "test_pred = clf.predict(X_t_50)\n",
        "test_pred = pd.DataFrame(data=test_pred, columns=[f\"{50}_lgb_{i+1}\" for i in range(3)])\n",
        "\n",
        "train_meta = pd.concat([train_meta, train_pred], axis=1)\n",
        "test_meta = pd.concat([test_meta, test_pred], axis=1)\n",
        "\n",
        "# 100\n",
        "d_train=lgb.Dataset(X_100, label=y-1)\n",
        "clf=lgb.train(params,d_train,500)\n",
        "\n",
        "train_pred = clf.predict(X_100)\n",
        "train_pred = pd.DataFrame(data=train_pred, columns=[f\"100_lgb_{i+1}\" for i in range(3)])\n",
        "\n",
        "test_pred = clf.predict(X_t_100)\n",
        "test_pred = pd.DataFrame(data=test_pred, columns=[f\"100_lgb_{i+1}\" for i in range(3)])\n",
        "\n",
        "train_meta = pd.concat([train_meta, train_pred], axis=1)\n",
        "test_meta = pd.concat([test_meta, test_pred], axis=1)"
      ],
      "id": "bFatSEED3G6K",
      "execution_count": null,
      "outputs": []
    },
    {
      "cell_type": "markdown",
      "metadata": {
        "id": "lFyF6CsvMA4e"
      },
      "source": [
        "\n",
        "\n",
        "---\n",
        "\n"
      ],
      "id": "lFyF6CsvMA4e"
    },
    {
      "cell_type": "code",
      "metadata": {
        "id": "IecrGFnVMAY1"
      },
      "source": [
        "from sklearn.feature_selection import f_classif, SelectKBest\n",
        "selector = SelectKBest(f_classif, k=5000)\n",
        "x = selector.fit_transform(X_cv, y)\n",
        "x_t = selector.transform(X_t_cv)"
      ],
      "id": "IecrGFnVMAY1",
      "execution_count": null,
      "outputs": []
    },
    {
      "cell_type": "code",
      "metadata": {
        "colab": {
          "base_uri": "https://localhost:8080/"
        },
        "id": "4nY591StOBM6",
        "outputId": "8721c5a2-28c1-4563-fcd9-e7ec376175fb"
      },
      "source": [
        "x"
      ],
      "id": "4nY591StOBM6",
      "execution_count": null,
      "outputs": [
        {
          "output_type": "execute_result",
          "data": {
            "text/plain": [
              "<32000x5000 sparse matrix of type '<class 'numpy.float32'>'\n",
              "\twith 1741397 stored elements in Compressed Sparse Row format>"
            ]
          },
          "metadata": {
            "tags": []
          },
          "execution_count": 19
        }
      ]
    },
    {
      "cell_type": "markdown",
      "metadata": {
        "id": "pB5-KLlTMBaC"
      },
      "source": [
        "\n",
        "\n",
        "---\n",
        "\n"
      ],
      "id": "pB5-KLlTMBaC"
    },
    {
      "cell_type": "code",
      "metadata": {
        "id": "gVlKxSyN_Jqt"
      },
      "source": [
        "d_train=lgb.Dataset(x, label=y-1)\n",
        "clf=lgb.train(params,d_train,400)\n",
        "\n",
        "# train_pred = clf.predict(X_cv)\n",
        "# train_pred = pd.DataFrame(data=train_pred, columns=[f\"cv_lgb_{i+1}\" for i in range(3)])\n",
        "\n",
        "test_pred = clf.predict(x_t)\n",
        "# test_pred = pd.DataFrame(data=test_pred, columns=[f\"cv_lgb_{i+1}\" for i in range(3)])\n",
        "\n",
        "# train_meta = pd.concat([train_meta, train_pred], axis=1)\n",
        "# test_meta = pd.concat([test_meta, test_pred], axis=1)"
      ],
      "id": "gVlKxSyN_Jqt",
      "execution_count": null,
      "outputs": []
    },
    {
      "cell_type": "code",
      "metadata": {
        "colab": {
          "base_uri": "https://localhost:8080/"
        },
        "id": "fmQ4Q_iUJCdl",
        "outputId": "374a0324-0762-4a79-9eeb-2c9f70b7be76"
      },
      "source": [
        "accuracy_score(y_t, test_pred.argmax(axis=1)+1)"
      ],
      "id": "fmQ4Q_iUJCdl",
      "execution_count": null,
      "outputs": [
        {
          "output_type": "execute_result",
          "data": {
            "text/plain": [
              "0.777125"
            ]
          },
          "metadata": {
            "tags": []
          },
          "execution_count": 23
        }
      ]
    },
    {
      "cell_type": "code",
      "metadata": {
        "id": "2lj47CT-WMjr"
      },
      "source": [
        "train_meta.to_csv(path+\"data/meta_train.csv\", header=True, index=False)\n",
        "test_meta.to_csv(path+\"data/meta_test.csv\", header=True, index=False)"
      ],
      "id": "2lj47CT-WMjr",
      "execution_count": null,
      "outputs": []
    },
    {
      "cell_type": "code",
      "metadata": {
        "id": "CNYjpVrp9fNo"
      },
      "source": [
        "models_vec = [GaussianNB(), PCA_knn(KNeighborsClassifier, 15, 30, 'distance')]\n",
        "titles_vec = ['GNB', 'KNN']"
      ],
      "id": "CNYjpVrp9fNo",
      "execution_count": null,
      "outputs": []
    },
    {
      "cell_type": "code",
      "metadata": {
        "id": "06prSSy1_gKo"
      },
      "source": [
        "def return_proba(models, titles, X, y, X_t, X_name, lgb_params):\n",
        "    \n",
        "    train_out = pd.DataFrame(range(X.shape[0]))\n",
        "    test_out = pd.DataFrame(range(X_t.shape[0]))\n",
        "    \n",
        "    for model, title in zip(models, titles):\n",
        "\n",
        "        model.fit(X, y)\n",
        "\n",
        "        train_pred = model.predict_proba(X)\n",
        "        train_pred = pd.DataFrame(data=train_pred, columns=[f\"{X_name}_{title}_{i+1}\" for i in range(3)])\n",
        "\n",
        "        test_pred = model.predict_proba(X_t)\n",
        "        test_pred = pd.DataFrame(data=test_pred, columns=[f\"{X_name}_{title}_{i+1}\" for i in range(3)])\n",
        "\n",
        "        train_out = pd.concat([train_out, train_pred], axis=1)\n",
        "        test_out = pd.concat([test_out, test_pred], axis=1)\n",
        "    \n",
        "    # lgb\n",
        "    d_train=lgb.Dataset(X, label=y-1)\n",
        "    clf=lgb.train(lgb_params, d_train, 400)\n",
        "\n",
        "    train_pred = clf.predict(X)\n",
        "    train_pred = pd.DataFrame(data=train_pred, columns=[f\"{X_name}_lgb_{i+1}\" for i in range(3)])\n",
        "\n",
        "    test_pred = clf.predict(X_t)\n",
        "    test_pred = pd.DataFrame(data=test_pred, columns=[f\"{X_name}_lgb_{i+1}\" for i in range(3)])\n",
        "    \n",
        "    train_out = pd.concat([train_out, train_pred], axis=1)\n",
        "    test_out = pd.concat([test_out, test_pred], axis=1)\n",
        "    \n",
        "    # drop dummy column & return\n",
        "    train_out.drop(0, axis=1, inplace=True)\n",
        "    test_out.drop(0, axis=1, inplace=True)\n",
        "    \n",
        "    return train_out, test_out"
      ],
      "id": "06prSSy1_gKo",
      "execution_count": null,
      "outputs": []
    },
    {
      "cell_type": "code",
      "metadata": {
        "id": "UAejoZYVAKOH"
      },
      "source": [
        "x, x_t = return_proba(models_vec, titles_vec, X_50, y, X_t_50, '50', params)"
      ],
      "id": "UAejoZYVAKOH",
      "execution_count": null,
      "outputs": []
    },
    {
      "cell_type": "code",
      "metadata": {
        "colab": {
          "base_uri": "https://localhost:8080/"
        },
        "id": "P1YSO5BB-H0E",
        "outputId": "dc42020e-f9fd-4637-cfa0-dbda4d3fb8fc"
      },
      "source": [
        "length = x_t.values.shape[1]\n",
        "\n",
        "for i in range(0, length, 3):\n",
        "  proba = x_t.iloc[:, i:i+3]\n",
        "  print(proba.columns)\n",
        "  yhat = np.argmax(proba.values, axis=1)+1\n",
        "  print(accuracy_score(y_t, yhat))"
      ],
      "id": "P1YSO5BB-H0E",
      "execution_count": null,
      "outputs": [
        {
          "output_type": "stream",
          "text": [
            "Index(['50_GNB_1', '50_GNB_2', '50_GNB_3'], dtype='object')\n",
            "0.613625\n",
            "Index(['50_KNN_1', '50_KNN_2', '50_KNN_3'], dtype='object')\n",
            "0.669875\n",
            "Index(['50_lgb_1', '50_lgb_2', '50_lgb_3'], dtype='object')\n",
            "0.694625\n"
          ],
          "name": "stdout"
        }
      ]
    },
    {
      "cell_type": "code",
      "metadata": {
        "colab": {
          "base_uri": "https://localhost:8080/"
        },
        "id": "PVVM5NtI-4RK",
        "outputId": "e55e37c2-7b5e-4dbf-ac4c-d19981ad3c36"
      },
      "source": [
        "for title,clf in zip(titles, models):\n",
        "    clf.fit(x, y)\n",
        "    print(title, \"Accuracy:\",clf.score(x_t, y_t))"
      ],
      "id": "PVVM5NtI-4RK",
      "execution_count": null,
      "outputs": [
        {
          "output_type": "stream",
          "text": [
            "MNB Accuracy: 0.682375\n",
            "Random Forest 5 Accuracy: 0.663625\n",
            "RF 7 Accuracy: 0.661125\n",
            "svm rbf Accuracy: 0.660125\n",
            "svm polyLogistic Regression Accuracy: 0.661625\n"
          ],
          "name": "stdout"
        }
      ]
    },
    {
      "cell_type": "code",
      "metadata": {
        "id": "RV-YhKsQKCP-"
      },
      "source": [
        "def proba_2_pred(probas):\n",
        "\n",
        "  length = probas.values.shape[1]\n",
        "  out = pd.DataFrame(range(probas.shape[0]))\n",
        "\n",
        "  for i in range(0, length, 3):\n",
        "    proba = X_t.iloc[:, i:i+3]\n",
        "    yhat = pd.Series(np.argmax(proba.values, axis=1)+1, name=f'{proba.columns[0][:-2]}')\n",
        "    out = pd.concat([out, yhat], axis=1)\n",
        "  \n",
        "  out.drop(0, axis=1, inplace=True)\n",
        "  return out"
      ],
      "id": "RV-YhKsQKCP-",
      "execution_count": null,
      "outputs": []
    },
    {
      "cell_type": "code",
      "metadata": {
        "colab": {
          "base_uri": "https://localhost:8080/"
        },
        "id": "mlMk76apPfJk",
        "outputId": "3fdda6fe-f4c5-42e7-e98d-54bce58de968"
      },
      "source": [
        "predictions = proba_2_pred(x_t)"
      ],
      "id": "mlMk76apPfJk",
      "execution_count": null,
      "outputs": [
        {
          "output_type": "stream",
          "text": [
            "0       2\n",
            "1       2\n",
            "2       2\n",
            "3       2\n",
            "4       1\n",
            "       ..\n",
            "7995    1\n",
            "7996    3\n",
            "7997    1\n",
            "7998    2\n",
            "7999    2\n",
            "Name: 50_GNB, Length: 8000, dtype: int64\n",
            "         0  50_GNB\n",
            "0        0       2\n",
            "1        1       2\n",
            "2        2       2\n",
            "3        3       2\n",
            "4        4       1\n",
            "...    ...     ...\n",
            "7995  7995       1\n",
            "7996  7996       3\n",
            "7997  7997       1\n",
            "7998  7998       2\n",
            "7999  7999       2\n",
            "\n",
            "[8000 rows x 2 columns]\n",
            "0       2\n",
            "1       2\n",
            "2       2\n",
            "3       2\n",
            "4       1\n",
            "       ..\n",
            "7995    1\n",
            "7996    2\n",
            "7997    2\n",
            "7998    2\n",
            "7999    1\n",
            "Name: 50_Random Forest, Length: 8000, dtype: int64\n",
            "         0  50_GNB  50_Random Forest\n",
            "0        0       2                 2\n",
            "1        1       2                 2\n",
            "2        2       2                 2\n",
            "3        3       2                 2\n",
            "4        4       1                 1\n",
            "...    ...     ...               ...\n",
            "7995  7995       1                 1\n",
            "7996  7996       3                 2\n",
            "7997  7997       1                 2\n",
            "7998  7998       2                 2\n",
            "7999  7999       2                 1\n",
            "\n",
            "[8000 rows x 3 columns]\n",
            "0       1\n",
            "1       2\n",
            "2       2\n",
            "3       1\n",
            "4       1\n",
            "       ..\n",
            "7995    1\n",
            "7996    3\n",
            "7997    2\n",
            "7998    1\n",
            "7999    1\n",
            "Name: 50_KNN5, Length: 8000, dtype: int64\n",
            "         0  50_GNB  50_Random Forest  50_KNN5\n",
            "0        0       2                 2        1\n",
            "1        1       2                 2        2\n",
            "2        2       2                 2        2\n",
            "3        3       2                 2        1\n",
            "4        4       1                 1        1\n",
            "...    ...     ...               ...      ...\n",
            "7995  7995       1                 1        1\n",
            "7996  7996       3                 2        3\n",
            "7997  7997       1                 2        2\n",
            "7998  7998       2                 2        1\n",
            "7999  7999       2                 1        1\n",
            "\n",
            "[8000 rows x 4 columns]\n"
          ],
          "name": "stdout"
        }
      ]
    },
    {
      "cell_type": "code",
      "metadata": {
        "id": "rA2RLlI5Ltna"
      },
      "source": [
        "y = pd.DataFrame([0, 1, 0, 0, 1, 0])\n",
        "\n",
        "x = pd.DataFrame([1, 1, 0, 1, 1, 1])\n",
        "z = pd.DataFrame([0, 0, 0, 0, 0, 0])"
      ],
      "id": "rA2RLlI5Ltna",
      "execution_count": null,
      "outputs": []
    },
    {
      "cell_type": "code",
      "metadata": {
        "id": "8BBbGoBX_VF6",
        "colab": {
          "base_uri": "https://localhost:8080/",
          "height": 298
        },
        "outputId": "22fe9956-1961-4452-e763-1adb35c4be33"
      },
      "source": [
        "from sklearn.metrics import accuracy_score, precision_score, recall_score\n",
        "from itertools import combinations\n",
        "import matplotlib.pyplot as plt\n",
        "\n",
        "def shared_error(pred_a, pred_b):\n",
        "  print(f\"Model A accuracy : {pred_a.sum()/len(pred_a.index)}\")\n",
        "  print(f\"Model B accuracy : {pred_b.sum()/len(pred_b.index)}\")\n",
        "\n",
        "  TT = TF = FF = 0\n",
        "\n",
        "  length = len(pred_a.index)\n",
        "\n",
        "  for i in range(length):\n",
        "    a = pred_a[i]\n",
        "    b = pred_b[i]\n",
        "    if a and b:\n",
        "      TT += 1\n",
        "    elif not (a or b):\n",
        "      FF += 1\n",
        "    else:\n",
        "      TF += 1\n",
        "\n",
        "  print(f\"Out of all predictions made,\")\n",
        "\n",
        "  # Pie chart\n",
        "  labels = 'Shared error', 'Theoritical improvement potential', 'Shared correct prediction'\n",
        "  sizes = [FF, TF, TT]\n",
        "  explode = (0.1, 0.1, 0.1)  # only \"explode\" the 2nd slice\n",
        "  colors = ['tomato', 'cyan', 'springgreen']\n",
        "\n",
        "  fig1, ax1 = plt.subplots()\n",
        "  ax1.pie(sizes, explode=explode, colors=colors, labels=labels, autopct='%1.1f%%', startangle=120)\n",
        "  ax1.axis('equal')\n",
        "\n",
        "  plt.show()\n",
        "shared_error(pred_a, pred_b)"
      ],
      "id": "8BBbGoBX_VF6",
      "execution_count": null,
      "outputs": [
        {
          "output_type": "stream",
          "text": [
            "Model A accuracy : 0.5\n",
            "Model B accuracy : 0.5\n",
            "Out of all predictions made,\n"
          ],
          "name": "stdout"
        },
        {
          "output_type": "display_data",
          "data": {
            "image/png": "[encoded data removed]",
            "text/plain": [
              "<Figure size 432x288 with 1 Axes>"
            ]
          },
          "metadata": {
            "tags": []
          }
        }
      ]
    },
    {
      "cell_type": "code",
      "metadata": {
        "id": "6_ZJYBpJdTwh"
      },
      "source": [
        "pred_a = pd.Series([True, True, False, False])\n",
        "pred_b = pd.Series([False, True, True, False])"
      ],
      "id": "6_ZJYBpJdTwh",
      "execution_count": null,
      "outputs": []
    },
    {
      "cell_type": "code",
      "metadata": {
        "colab": {
          "base_uri": "https://localhost:8080/"
        },
        "id": "_0SaqfTnUE9X",
        "outputId": "5c41deee-1038-4e77-dbe1-8c8e3ee60fc8"
      },
      "source": [
        "def simple_error_analysis(predictions, y):\n",
        "  num = predictions.values.shape[1]\n",
        "\n",
        "  for comb in combinations([i for i in range(3)], 2):\n",
        "    a = predictions.iloc[:, comb[0]]\n",
        "    b = predictions.iloc[:, comb[1]]\n",
        "    shared_error(a, b, y)\n",
        "    \n",
        "simple_error_analysis(predictions, y_t)"
      ],
      "id": "_0SaqfTnUE9X",
      "execution_count": null,
      "outputs": [
        {
          "output_type": "stream",
          "text": [
            "Pred a accuracy : 0.613625\n",
            "Pred b accuracy : 0.66525\n",
            "Shared error to a: [0.6725168  0.75760992]\n",
            "Shared error to b: [0.58265933 0.82134854]\n",
            "Pred a accuracy : 0.613625\n",
            "Pred b accuracy : 0.633375\n",
            "Shared error to a: [0.58643028 0.7294257 ]\n",
            "Shared error to b: [0.55645422 0.75290283]\n",
            "Pred a accuracy : 0.66525\n",
            "Pred b accuracy : 0.633375\n",
            "Shared error to a: [0.53562905 0.78152753]\n",
            "Shared error to b: [0.58663181 0.74408117]\n"
          ],
          "name": "stdout"
        }
      ]
    },
    {
      "cell_type": "code",
      "metadata": {
        "colab": {
          "base_uri": "https://localhost:8080/"
        },
        "id": "V-8fWc95OjCq",
        "outputId": "9982815a-9e23-4cee-c332-f70c70bb70cb"
      },
      "source": [
        "shared_error(x, z, y)"
      ],
      "id": "V-8fWc95OjCq",
      "execution_count": null,
      "outputs": [
        {
          "output_type": "stream",
          "text": [
            "Pred a accuracy : 0.5\n",
            "Pred b accuracy : 0.6666666666666666\n",
            "Shared error to a: 0.25\n",
            "Shared error to b: 0.3333333333333333\n"
          ],
          "name": "stdout"
        }
      ]
    },
    {
      "cell_type": "code",
      "metadata": {
        "id": "FGfypIBhIpR_"
      },
      "source": [
        "error_correlation()"
      ],
      "id": "FGfypIBhIpR_",
      "execution_count": null,
      "outputs": []
    },
    {
      "cell_type": "code",
      "metadata": {
        "id": "-TYSw3U2Zzd5"
      },
      "source": [
        "x = pd.concat([train_meta, x], axis=1)\n",
        "x_t = pd.concat([test_meta, x_t], axis=1)"
      ],
      "id": "-TYSw3U2Zzd5",
      "execution_count": null,
      "outputs": []
    },
    {
      "cell_type": "code",
      "metadata": {
        "id": "wF0dXZ4-TNZJ"
      },
      "source": [
        "a, b = return_proba(models_vec, titles_vec, X_100, y, X_t_100, '100')"
      ],
      "id": "wF0dXZ4-TNZJ",
      "execution_count": null,
      "outputs": []
    },
    {
      "cell_type": "code",
      "metadata": {
        "id": "gsOGkdj2VtdX"
      },
      "source": [
        "x = pd.concat([x, a], axis=1)\n",
        "x_t = pd.concat([x_t, b], axis=1)"
      ],
      "id": "gsOGkdj2VtdX",
      "execution_count": null,
      "outputs": []
    },
    {
      "cell_type": "code",
      "metadata": {
        "id": "x7w-Aey_WRLv"
      },
      "source": [
        "x.to_csv(path+\"data/meta_train.csv\", header=True, index=False)\n",
        "x_t.to_csv(path+\"data/meta_test.csv\", header=True, index=False)"
      ],
      "id": "x7w-Aey_WRLv",
      "execution_count": null,
      "outputs": []
    },
    {
      "cell_type": "code",
      "metadata": {
        "colab": {
          "base_uri": "https://localhost:8080/",
          "height": 606
        },
        "id": "NmapgYvuXOQx",
        "outputId": "9715159a-8324-4d12-884d-ff2b65282af2"
      },
      "source": [
        "x"
      ],
      "id": "NmapgYvuXOQx",
      "execution_count": null,
      "outputs": [
        {
          "output_type": "execute_result",
          "data": {
            "text/html": [
              "<div>\n",
              "<style scoped>\n",
              "    .dataframe tbody tr th:only-of-type {\n",
              "        vertical-align: middle;\n",
              "    }\n",
              "\n",
              "    .dataframe tbody tr th {\n",
              "        vertical-align: top;\n",
              "    }\n",
              "\n",
              "    .dataframe thead th {\n",
              "        text-align: right;\n",
              "    }\n",
              "</style>\n",
              "<table border=\"1\" class=\"dataframe\">\n",
              "  <thead>\n",
              "    <tr style=\"text-align: right;\">\n",
              "      <th></th>\n",
              "      <th>50_GNB_1</th>\n",
              "      <th>50_GNB_2</th>\n",
              "      <th>50_GNB_3</th>\n",
              "      <th>50_Random Forest_1</th>\n",
              "      <th>50_Random Forest_2</th>\n",
              "      <th>50_Random Forest_3</th>\n",
              "      <th>50_KNN5_1</th>\n",
              "      <th>50_KNN5_2</th>\n",
              "      <th>50_KNN5_3</th>\n",
              "      <th>50_Logistic Regression_1</th>\n",
              "      <th>50_Logistic Regression_2</th>\n",
              "      <th>50_Logistic Regression_3</th>\n",
              "      <th>100_GNB_1</th>\n",
              "      <th>100_GNB_2</th>\n",
              "      <th>100_GNB_3</th>\n",
              "      <th>100_Random Forest_1</th>\n",
              "      <th>100_Random Forest_2</th>\n",
              "      <th>100_Random Forest_3</th>\n",
              "      <th>100_KNN5_1</th>\n",
              "      <th>100_KNN5_2</th>\n",
              "      <th>100_KNN5_3</th>\n",
              "      <th>100_Logistic Regression_1</th>\n",
              "      <th>100_Logistic Regression_2</th>\n",
              "      <th>100_Logistic Regression_3</th>\n",
              "    </tr>\n",
              "  </thead>\n",
              "  <tbody>\n",
              "    <tr>\n",
              "      <th>0</th>\n",
              "      <td>0.852188</td>\n",
              "      <td>0.141965</td>\n",
              "      <td>0.005847</td>\n",
              "      <td>0.582906</td>\n",
              "      <td>0.382925</td>\n",
              "      <td>0.034169</td>\n",
              "      <td>0.6</td>\n",
              "      <td>0.4</td>\n",
              "      <td>0.0</td>\n",
              "      <td>0.555746</td>\n",
              "      <td>0.432926</td>\n",
              "      <td>0.011328</td>\n",
              "      <td>8.872638e-01</td>\n",
              "      <td>0.111816</td>\n",
              "      <td>0.000921</td>\n",
              "      <td>0.401644</td>\n",
              "      <td>0.561908</td>\n",
              "      <td>0.036448</td>\n",
              "      <td>0.6</td>\n",
              "      <td>0.4</td>\n",
              "      <td>0.0</td>\n",
              "      <td>0.456654</td>\n",
              "      <td>0.522725</td>\n",
              "      <td>0.020620</td>\n",
              "    </tr>\n",
              "    <tr>\n",
              "      <th>1</th>\n",
              "      <td>0.915978</td>\n",
              "      <td>0.047179</td>\n",
              "      <td>0.036843</td>\n",
              "      <td>0.395433</td>\n",
              "      <td>0.506076</td>\n",
              "      <td>0.098491</td>\n",
              "      <td>0.8</td>\n",
              "      <td>0.2</td>\n",
              "      <td>0.0</td>\n",
              "      <td>0.501415</td>\n",
              "      <td>0.445211</td>\n",
              "      <td>0.053374</td>\n",
              "      <td>9.665422e-01</td>\n",
              "      <td>0.027176</td>\n",
              "      <td>0.006282</td>\n",
              "      <td>0.424886</td>\n",
              "      <td>0.529713</td>\n",
              "      <td>0.045401</td>\n",
              "      <td>0.6</td>\n",
              "      <td>0.4</td>\n",
              "      <td>0.0</td>\n",
              "      <td>0.517560</td>\n",
              "      <td>0.473088</td>\n",
              "      <td>0.009352</td>\n",
              "    </tr>\n",
              "    <tr>\n",
              "      <th>2</th>\n",
              "      <td>0.991453</td>\n",
              "      <td>0.008394</td>\n",
              "      <td>0.000153</td>\n",
              "      <td>0.629837</td>\n",
              "      <td>0.336341</td>\n",
              "      <td>0.033821</td>\n",
              "      <td>0.6</td>\n",
              "      <td>0.4</td>\n",
              "      <td>0.0</td>\n",
              "      <td>0.588505</td>\n",
              "      <td>0.404018</td>\n",
              "      <td>0.007476</td>\n",
              "      <td>9.999254e-01</td>\n",
              "      <td>0.000072</td>\n",
              "      <td>0.000003</td>\n",
              "      <td>0.631872</td>\n",
              "      <td>0.331578</td>\n",
              "      <td>0.036551</td>\n",
              "      <td>1.0</td>\n",
              "      <td>0.0</td>\n",
              "      <td>0.0</td>\n",
              "      <td>0.516473</td>\n",
              "      <td>0.475189</td>\n",
              "      <td>0.008338</td>\n",
              "    </tr>\n",
              "    <tr>\n",
              "      <th>3</th>\n",
              "      <td>0.340087</td>\n",
              "      <td>0.569486</td>\n",
              "      <td>0.090427</td>\n",
              "      <td>0.460555</td>\n",
              "      <td>0.489942</td>\n",
              "      <td>0.049502</td>\n",
              "      <td>0.8</td>\n",
              "      <td>0.0</td>\n",
              "      <td>0.2</td>\n",
              "      <td>0.308115</td>\n",
              "      <td>0.537405</td>\n",
              "      <td>0.154480</td>\n",
              "      <td>9.179669e-01</td>\n",
              "      <td>0.049480</td>\n",
              "      <td>0.032553</td>\n",
              "      <td>0.490463</td>\n",
              "      <td>0.463474</td>\n",
              "      <td>0.046063</td>\n",
              "      <td>0.8</td>\n",
              "      <td>0.2</td>\n",
              "      <td>0.0</td>\n",
              "      <td>0.295350</td>\n",
              "      <td>0.297050</td>\n",
              "      <td>0.407600</td>\n",
              "    </tr>\n",
              "    <tr>\n",
              "      <th>4</th>\n",
              "      <td>0.998008</td>\n",
              "      <td>0.001734</td>\n",
              "      <td>0.000259</td>\n",
              "      <td>0.776243</td>\n",
              "      <td>0.192616</td>\n",
              "      <td>0.031141</td>\n",
              "      <td>1.0</td>\n",
              "      <td>0.0</td>\n",
              "      <td>0.0</td>\n",
              "      <td>0.599515</td>\n",
              "      <td>0.385475</td>\n",
              "      <td>0.015010</td>\n",
              "      <td>9.999968e-01</td>\n",
              "      <td>0.000002</td>\n",
              "      <td>0.000002</td>\n",
              "      <td>0.770201</td>\n",
              "      <td>0.189016</td>\n",
              "      <td>0.040783</td>\n",
              "      <td>1.0</td>\n",
              "      <td>0.0</td>\n",
              "      <td>0.0</td>\n",
              "      <td>0.632349</td>\n",
              "      <td>0.351608</td>\n",
              "      <td>0.016043</td>\n",
              "    </tr>\n",
              "    <tr>\n",
              "      <th>...</th>\n",
              "      <td>...</td>\n",
              "      <td>...</td>\n",
              "      <td>...</td>\n",
              "      <td>...</td>\n",
              "      <td>...</td>\n",
              "      <td>...</td>\n",
              "      <td>...</td>\n",
              "      <td>...</td>\n",
              "      <td>...</td>\n",
              "      <td>...</td>\n",
              "      <td>...</td>\n",
              "      <td>...</td>\n",
              "      <td>...</td>\n",
              "      <td>...</td>\n",
              "      <td>...</td>\n",
              "      <td>...</td>\n",
              "      <td>...</td>\n",
              "      <td>...</td>\n",
              "      <td>...</td>\n",
              "      <td>...</td>\n",
              "      <td>...</td>\n",
              "      <td>...</td>\n",
              "      <td>...</td>\n",
              "      <td>...</td>\n",
              "    </tr>\n",
              "    <tr>\n",
              "      <th>31995</th>\n",
              "      <td>0.973237</td>\n",
              "      <td>0.026422</td>\n",
              "      <td>0.000340</td>\n",
              "      <td>0.678114</td>\n",
              "      <td>0.292433</td>\n",
              "      <td>0.029453</td>\n",
              "      <td>0.8</td>\n",
              "      <td>0.2</td>\n",
              "      <td>0.0</td>\n",
              "      <td>0.817899</td>\n",
              "      <td>0.174632</td>\n",
              "      <td>0.007469</td>\n",
              "      <td>9.886429e-01</td>\n",
              "      <td>0.011289</td>\n",
              "      <td>0.000068</td>\n",
              "      <td>0.592016</td>\n",
              "      <td>0.367318</td>\n",
              "      <td>0.040666</td>\n",
              "      <td>1.0</td>\n",
              "      <td>0.0</td>\n",
              "      <td>0.0</td>\n",
              "      <td>0.858937</td>\n",
              "      <td>0.136827</td>\n",
              "      <td>0.004237</td>\n",
              "    </tr>\n",
              "    <tr>\n",
              "      <th>31996</th>\n",
              "      <td>0.000192</td>\n",
              "      <td>0.914792</td>\n",
              "      <td>0.085016</td>\n",
              "      <td>0.176756</td>\n",
              "      <td>0.550995</td>\n",
              "      <td>0.272249</td>\n",
              "      <td>0.0</td>\n",
              "      <td>0.8</td>\n",
              "      <td>0.2</td>\n",
              "      <td>0.030113</td>\n",
              "      <td>0.692407</td>\n",
              "      <td>0.277480</td>\n",
              "      <td>1.390635e-08</td>\n",
              "      <td>0.821211</td>\n",
              "      <td>0.178789</td>\n",
              "      <td>0.246071</td>\n",
              "      <td>0.485365</td>\n",
              "      <td>0.268565</td>\n",
              "      <td>0.4</td>\n",
              "      <td>0.2</td>\n",
              "      <td>0.4</td>\n",
              "      <td>0.041580</td>\n",
              "      <td>0.723788</td>\n",
              "      <td>0.234632</td>\n",
              "    </tr>\n",
              "    <tr>\n",
              "      <th>31997</th>\n",
              "      <td>0.769546</td>\n",
              "      <td>0.230305</td>\n",
              "      <td>0.000149</td>\n",
              "      <td>0.399243</td>\n",
              "      <td>0.552795</td>\n",
              "      <td>0.047963</td>\n",
              "      <td>0.4</td>\n",
              "      <td>0.6</td>\n",
              "      <td>0.0</td>\n",
              "      <td>0.642531</td>\n",
              "      <td>0.355667</td>\n",
              "      <td>0.001803</td>\n",
              "      <td>2.371396e-01</td>\n",
              "      <td>0.762761</td>\n",
              "      <td>0.000100</td>\n",
              "      <td>0.360200</td>\n",
              "      <td>0.594867</td>\n",
              "      <td>0.044933</td>\n",
              "      <td>0.6</td>\n",
              "      <td>0.4</td>\n",
              "      <td>0.0</td>\n",
              "      <td>0.486079</td>\n",
              "      <td>0.511866</td>\n",
              "      <td>0.002055</td>\n",
              "    </tr>\n",
              "    <tr>\n",
              "      <th>31998</th>\n",
              "      <td>0.984066</td>\n",
              "      <td>0.012529</td>\n",
              "      <td>0.003405</td>\n",
              "      <td>0.677217</td>\n",
              "      <td>0.279899</td>\n",
              "      <td>0.042884</td>\n",
              "      <td>0.8</td>\n",
              "      <td>0.2</td>\n",
              "      <td>0.0</td>\n",
              "      <td>0.368771</td>\n",
              "      <td>0.597087</td>\n",
              "      <td>0.034142</td>\n",
              "      <td>9.996216e-01</td>\n",
              "      <td>0.000335</td>\n",
              "      <td>0.000044</td>\n",
              "      <td>0.524072</td>\n",
              "      <td>0.425289</td>\n",
              "      <td>0.050639</td>\n",
              "      <td>1.0</td>\n",
              "      <td>0.0</td>\n",
              "      <td>0.0</td>\n",
              "      <td>0.368390</td>\n",
              "      <td>0.620261</td>\n",
              "      <td>0.011349</td>\n",
              "    </tr>\n",
              "    <tr>\n",
              "      <th>31999</th>\n",
              "      <td>0.993945</td>\n",
              "      <td>0.005846</td>\n",
              "      <td>0.000209</td>\n",
              "      <td>0.700071</td>\n",
              "      <td>0.271613</td>\n",
              "      <td>0.028316</td>\n",
              "      <td>1.0</td>\n",
              "      <td>0.0</td>\n",
              "      <td>0.0</td>\n",
              "      <td>0.728799</td>\n",
              "      <td>0.256941</td>\n",
              "      <td>0.014260</td>\n",
              "      <td>9.962876e-01</td>\n",
              "      <td>0.003400</td>\n",
              "      <td>0.000312</td>\n",
              "      <td>0.577743</td>\n",
              "      <td>0.366585</td>\n",
              "      <td>0.055672</td>\n",
              "      <td>0.8</td>\n",
              "      <td>0.2</td>\n",
              "      <td>0.0</td>\n",
              "      <td>0.601757</td>\n",
              "      <td>0.376009</td>\n",
              "      <td>0.022234</td>\n",
              "    </tr>\n",
              "  </tbody>\n",
              "</table>\n",
              "<p>32000 rows × 24 columns</p>\n",
              "</div>"
            ],
            "text/plain": [
              "       50_GNB_1  50_GNB_2  ...  100_Logistic Regression_2  100_Logistic Regression_3\n",
              "0      0.852188  0.141965  ...                   0.522725                   0.020620\n",
              "1      0.915978  0.047179  ...                   0.473088                   0.009352\n",
              "2      0.991453  0.008394  ...                   0.475189                   0.008338\n",
              "3      0.340087  0.569486  ...                   0.297050                   0.407600\n",
              "4      0.998008  0.001734  ...                   0.351608                   0.016043\n",
              "...         ...       ...  ...                        ...                        ...\n",
              "31995  0.973237  0.026422  ...                   0.136827                   0.004237\n",
              "31996  0.000192  0.914792  ...                   0.723788                   0.234632\n",
              "31997  0.769546  0.230305  ...                   0.511866                   0.002055\n",
              "31998  0.984066  0.012529  ...                   0.620261                   0.011349\n",
              "31999  0.993945  0.005846  ...                   0.376009                   0.022234\n",
              "\n",
              "[32000 rows x 24 columns]"
            ]
          },
          "metadata": {
            "tags": []
          },
          "execution_count": 118
        }
      ]
    },
    {
      "cell_type": "code",
      "metadata": {
        "id": "danish-latest"
      },
      "source": [
        "from sklearn.metrics import accuracy_score\n",
        "\n",
        "np.random.seed(42)\n",
        "\n",
        "class StackingClassifier():\n",
        "\n",
        "    def __init__(self, classifiers, metaclassifier):\n",
        "        self.classifiers = classifiers\n",
        "        self.metaclassifier = metaclassifier\n",
        "\n",
        "    def fit(self, X, y):\n",
        "        for clf in self.classifiers:\n",
        "            clf.fit(X, y)\n",
        "        X_meta = self._predict_base(X)\n",
        "        self.metaclassifier.fit(X_meta, y)\n",
        "    \n",
        "    def _predict_base(self, X):\n",
        "        yhats = []\n",
        "        for clf in self.classifiers:\n",
        "            yhat = clf.predict_proba(X)\n",
        "            yhats.append(yhat)\n",
        "        yhats = np.concatenate(yhats, axis=1)\n",
        "        assert yhats.shape[0] == X.shape[0]\n",
        "        return yhats\n",
        "    \n",
        "    def predict(self, X):\n",
        "        X_meta = self._predict_base(X)     \n",
        "        yhat = self.metaclassifier.predict(X_meta)\n",
        "        return yhat\n",
        "    \n",
        "    def score(self, X, y):\n",
        "        yhat = self.predict(X)\n",
        "        return accuracy_score(y, yhat)"
      ],
      "id": "danish-latest",
      "execution_count": null,
      "outputs": []
    },
    {
      "cell_type": "code",
      "metadata": {
        "id": "continued-elephant"
      },
      "source": [
        "meta_classifier = svm.SVC(kernel='rbf', gamma=0.7, C=1)\n",
        "stacker = StackingClassifier(models, meta_classifier)"
      ],
      "id": "continued-elephant",
      "execution_count": null,
      "outputs": []
    },
    {
      "cell_type": "code",
      "metadata": {
        "id": "flush-expression",
        "outputId": "185624b5-0d65-4790-e573-9e98ec596eb7"
      },
      "source": [
        "for title,clf in zip(titles, models):\n",
        "    clf.fit(X_50, y)\n",
        "    print(title, \"Accuracy:\",clf.score(X_t_50, y_t))\n",
        "    \n",
        "stacker.fit(X_50, y)\n",
        "print('\\nStacker Accuracy:', stacker.score(X_t_50, y_t))"
      ],
      "id": "flush-expression",
      "execution_count": null,
      "outputs": [
        {
          "output_type": "stream",
          "text": [
            "GNB Accuracy: 0.613625\n",
            "Decision Tree Accuracy: 0.599875\n",
            "Random Forest Accuracy: 0.646625\n",
            "KNN3 Accuracy: 0.62425\n",
            "KNN5 Accuracy: 0.633375\n",
            "KNN7 Accuracy: 0.63425\n",
            "Logistic Regression Accuracy: 0.649375\n"
          ],
          "name": "stdout"
        }
      ]
    },
    {
      "cell_type": "code",
      "metadata": {
        "id": "amazing-savannah"
      },
      "source": [
        "# doc2vec 50: GNB, RF, KNN, LR"
      ],
      "id": "amazing-savannah",
      "execution_count": null,
      "outputs": []
    },
    {
      "cell_type": "code",
      "metadata": {
        "id": "responsible-optimization",
        "outputId": "03d72997-d3c4-4382-b64f-6d061fdba29a"
      },
      "source": [
        "for title,clf in zip(titles, models):\n",
        "    clf.fit(X_100, y)\n",
        "    print(title, \"Accuracy:\",clf.score(X_t_100, y_t))\n",
        "    \n",
        "stacker.fit(X_100, y)\n",
        "print('\\nStacker Accuracy:', stacker.score(X_t_100, y_t))"
      ],
      "id": "responsible-optimization",
      "execution_count": null,
      "outputs": [
        {
          "output_type": "stream",
          "text": [
            "GNB Accuracy: 0.599875\n",
            "Decision Tree Accuracy: 0.583\n",
            "Random Forest Accuracy: 0.644125\n",
            "KNN3 Accuracy: 0.572\n",
            "KNN5 Accuracy: 0.569375\n",
            "KNN7 Accuracy: 0.563625\n"
          ],
          "name": "stdout"
        },
        {
          "output_type": "stream",
          "text": [
            "c:\\users\\25791\\appdata\\local\\programs\\python\\python36\\lib\\site-packages\\sklearn\\linear_model\\_logistic.py:765: ConvergenceWarning: lbfgs failed to converge (status=1):\n",
            "STOP: TOTAL NO. of ITERATIONS REACHED LIMIT.\n",
            "\n",
            "Increase the number of iterations (max_iter) or scale the data as shown in:\n",
            "    https://scikit-learn.org/stable/modules/preprocessing.html\n",
            "Please also refer to the documentation for alternative solver options:\n",
            "    https://scikit-learn.org/stable/modules/linear_model.html#logistic-regression\n",
            "  extra_warning_msg=_LOGISTIC_SOLVER_CONVERGENCE_MSG)\n"
          ],
          "name": "stderr"
        },
        {
          "output_type": "stream",
          "text": [
            "Logistic Regression Accuracy: 0.671875\n"
          ],
          "name": "stdout"
        },
        {
          "output_type": "stream",
          "text": [
            "c:\\users\\25791\\appdata\\local\\programs\\python\\python36\\lib\\site-packages\\sklearn\\svm\\_base.py:258: ConvergenceWarning: Solver terminated early (max_iter=2000).  Consider pre-processing your data with StandardScaler or MinMaxScaler.\n",
            "  % self.max_iter, ConvergenceWarning)\n",
            "c:\\users\\25791\\appdata\\local\\programs\\python\\python36\\lib\\site-packages\\sklearn\\svm\\_base.py:258: ConvergenceWarning: Solver terminated early (max_iter=2000).  Consider pre-processing your data with StandardScaler or MinMaxScaler.\n",
            "  % self.max_iter, ConvergenceWarning)\n",
            "c:\\users\\25791\\appdata\\local\\programs\\python\\python36\\lib\\site-packages\\sklearn\\linear_model\\_logistic.py:765: ConvergenceWarning: lbfgs failed to converge (status=1):\n",
            "STOP: TOTAL NO. of ITERATIONS REACHED LIMIT.\n",
            "\n",
            "Increase the number of iterations (max_iter) or scale the data as shown in:\n",
            "    https://scikit-learn.org/stable/modules/preprocessing.html\n",
            "Please also refer to the documentation for alternative solver options:\n",
            "    https://scikit-learn.org/stable/modules/linear_model.html#logistic-regression\n",
            "  extra_warning_msg=_LOGISTIC_SOLVER_CONVERGENCE_MSG)\n"
          ],
          "name": "stderr"
        },
        {
          "output_type": "stream",
          "text": [
            "\n",
            "Stacker Accuracy: 0.670875\n"
          ],
          "name": "stdout"
        }
      ]
    },
    {
      "cell_type": "code",
      "metadata": {
        "id": "extra-twins"
      },
      "source": [
        "# doc2vec 100: GNB, RF, KN3, LG"
      ],
      "id": "extra-twins",
      "execution_count": null,
      "outputs": []
    },
    {
      "cell_type": "code",
      "metadata": {
        "colab": {
          "base_uri": "https://localhost:8080/",
          "height": 266
        },
        "id": "adverse-pizza",
        "outputId": "211373d0-6759-4195-954c-750b9cee2ae3"
      },
      "source": [
        "models = [    \n",
        "          MultinomialNB(),\n",
        "          \n",
        "          RandomForestClassifier(max_depth=20),\n",
        "          \n",
        "          LogisticRegression(max_iter=2000)]\n",
        "\n",
        "titles = [    \n",
        "          'MNB',\n",
        "          \n",
        "          'Random Forest 20',\n",
        "          \n",
        "          'Logistic Regression']\n",
        "\n",
        "for title,clf in zip(titles, models):\n",
        "    clf.fit(X_cv, y)\n",
        "    print(title, \"Accuracy:\",clf.score(X_t_cv, y_t))\n",
        "    \n",
        "stacker.fit(X_cv, y)\n",
        "print('\\nStacker Accuracy:', stacker.score(X_t_cv, y_t))"
      ],
      "id": "adverse-pizza",
      "execution_count": null,
      "outputs": [
        {
          "output_type": "stream",
          "text": [
            "MNB Accuracy: 0.728375\n",
            "Random Forest 20 Accuracy: 0.75\n",
            "Logistic Regression Accuracy: 0.780375\n"
          ],
          "name": "stdout"
        },
        {
          "output_type": "error",
          "ename": "NameError",
          "evalue": "ignored",
          "traceback": [
            "\u001b[0;31m---------------------------------------------------------------------------\u001b[0m",
            "\u001b[0;31mNameError\u001b[0m                                 Traceback (most recent call last)",
            "\u001b[0;32m<ipython-input-7-2aa8d933130f>\u001b[0m in \u001b[0;36m<module>\u001b[0;34m()\u001b[0m\n\u001b[1;32m     21\u001b[0m     \u001b[0mprint\u001b[0m\u001b[0;34m(\u001b[0m\u001b[0mtitle\u001b[0m\u001b[0;34m,\u001b[0m \u001b[0;34m\"Accuracy:\"\u001b[0m\u001b[0;34m,\u001b[0m\u001b[0mclf\u001b[0m\u001b[0;34m.\u001b[0m\u001b[0mscore\u001b[0m\u001b[0;34m(\u001b[0m\u001b[0mX_t_cv\u001b[0m\u001b[0;34m,\u001b[0m \u001b[0my_t\u001b[0m\u001b[0;34m)\u001b[0m\u001b[0;34m)\u001b[0m\u001b[0;34m\u001b[0m\u001b[0;34m\u001b[0m\u001b[0m\n\u001b[1;32m     22\u001b[0m \u001b[0;34m\u001b[0m\u001b[0m\n\u001b[0;32m---> 23\u001b[0;31m \u001b[0mstacker\u001b[0m\u001b[0;34m.\u001b[0m\u001b[0mfit\u001b[0m\u001b[0;34m(\u001b[0m\u001b[0mX_cv\u001b[0m\u001b[0;34m,\u001b[0m \u001b[0my\u001b[0m\u001b[0;34m)\u001b[0m\u001b[0;34m\u001b[0m\u001b[0;34m\u001b[0m\u001b[0m\n\u001b[0m\u001b[1;32m     24\u001b[0m \u001b[0mprint\u001b[0m\u001b[0;34m(\u001b[0m\u001b[0;34m'\\nStacker Accuracy:'\u001b[0m\u001b[0;34m,\u001b[0m \u001b[0mstacker\u001b[0m\u001b[0;34m.\u001b[0m\u001b[0mscore\u001b[0m\u001b[0;34m(\u001b[0m\u001b[0mX_t_cv\u001b[0m\u001b[0;34m,\u001b[0m \u001b[0my_t\u001b[0m\u001b[0;34m)\u001b[0m\u001b[0;34m)\u001b[0m\u001b[0;34m\u001b[0m\u001b[0;34m\u001b[0m\u001b[0m\n",
            "\u001b[0;31mNameError\u001b[0m: name 'stacker' is not defined"
          ]
        }
      ]
    },
    {
      "cell_type": "code",
      "metadata": {
        "colab": {
          "base_uri": "https://localhost:8080/"
        },
        "id": "complimentary-torture",
        "outputId": "fd5591ec-17e8-49f3-b214-460d18670801"
      },
      "source": [
        "clf = LogisticRegression(max_iter=2000)\n",
        "clf.fit(X_cv, y)\n",
        "clf.score(X_t_cv, y_t)"
      ],
      "id": "complimentary-torture",
      "execution_count": null,
      "outputs": [
        {
          "output_type": "execute_result",
          "data": {
            "text/plain": [
              "0.793625"
            ]
          },
          "metadata": {
            "tags": []
          },
          "execution_count": 11
        }
      ]
    },
    {
      "cell_type": "code",
      "metadata": {
        "id": "NJUAjXFzv5Ks"
      },
      "source": [
        ""
      ],
      "id": "NJUAjXFzv5Ks",
      "execution_count": null,
      "outputs": []
    }
  ]
}