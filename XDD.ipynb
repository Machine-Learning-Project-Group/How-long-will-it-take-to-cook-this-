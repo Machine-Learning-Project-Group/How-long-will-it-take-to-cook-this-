{
 "cells": [
  {
   "cell_type": "code",
   "execution_count": 1,
   "metadata": {},
   "outputs": [],
   "source": [
    "import pandas as pd\n",
    "import numpy as np\n",
    "\n",
    "from sklearn.model_selection import train_test_split\n",
    "from sklearn.model_selection import KFold\n",
    "from sklearn.model_selection import cross_val_score\n",
    "from sklearn.metrics import accuracy_score\n",
    "from sklearn.preprocessing import StandardScaler\n",
    "\n",
    "from sklearn.feature_selection import VarianceThreshold\n",
    "from sklearn.feature_selection import SelectKBest, chi2\n",
    "from sklearn.feature_selection import SelectFdr\n",
    "from sklearn.feature_selection import f_classif, mutual_info_classif\n",
    "from sklearn.feature_selection import SelectFromModel\n",
    "from sklearn.pipeline import make_pipeline\n",
    "\n",
    "from sklearn import svm\n",
    "from sklearn.naive_bayes import GaussianNB, MultinomialNB\n",
    "from sklearn.tree import DecisionTreeClassifier\n",
    "from sklearn.linear_model import LogisticRegression\n",
    "from sklearn.linear_model import LogisticRegressionCV\n",
    "from sklearn.linear_model import RidgeClassifierCV\n",
    "from sklearn.linear_model import LassoCV\n",
    "from sklearn.neighbors import KNeighborsClassifier\n",
    "from sklearn.neighbors import KernelDensity\n",
    "from sklearn.mixture import BayesianGaussianMixture\n",
    "\n",
    "import matplotlib.pyplot as plt\n",
    "import time\n",
    "import scipy\n",
    "pd.options.display.float_format = \"{:,.4f}\".format\n",
    "\n",
    "%load_ext autoreload\n",
    "%autoreload 2"
   ]
  },
  {
   "cell_type": "code",
   "execution_count": 2,
   "metadata": {},
   "outputs": [],
   "source": [
    "import warnings\n",
    "warnings.filterwarnings('ignore')"
   ]
  },
  {
   "cell_type": "code",
   "execution_count": 3,
   "metadata": {},
   "outputs": [],
   "source": [
    "X = scipy.sparse.load_npz('data/train_steps_vec.npz')"
   ]
  },
  {
   "cell_type": "code",
   "execution_count": 4,
   "metadata": {},
   "outputs": [],
   "source": [
    "test = scipy.sparse.load_npz('data/test_steps_vec.npz')"
   ]
  },
  {
   "cell_type": "code",
   "execution_count": 5,
   "metadata": {},
   "outputs": [
    {
     "data": {
      "text/plain": [
       "(10000, 17967)"
      ]
     },
     "execution_count": 5,
     "metadata": {},
     "output_type": "execute_result"
    }
   ],
   "source": [
    "test.shape"
   ]
  },
  {
   "cell_type": "code",
   "execution_count": 6,
   "metadata": {},
   "outputs": [],
   "source": [
    "data = pd.read_csv(\"data/recipe_train.csv\")"
   ]
  },
  {
   "cell_type": "code",
   "execution_count": 7,
   "metadata": {},
   "outputs": [],
   "source": [
    "testingSet = pd.read_csv(\"data/recipe_test.csv\")"
   ]
  },
  {
   "cell_type": "code",
   "execution_count": 8,
   "metadata": {},
   "outputs": [
    {
     "data": {
      "text/plain": [
       "(10000, 8)"
      ]
     },
     "execution_count": 8,
     "metadata": {},
     "output_type": "execute_result"
    }
   ],
   "source": [
    "testingSet.shape"
   ]
  },
  {
   "cell_type": "code",
   "execution_count": 9,
   "metadata": {},
   "outputs": [],
   "source": [
    "y = data[\"duration_label\"]"
   ]
  },
  {
   "cell_type": "code",
   "execution_count": 10,
   "metadata": {},
   "outputs": [
    {
     "data": {
      "text/plain": [
       "0       2.0000\n",
       "1       2.0000\n",
       "2       2.0000\n",
       "3       2.0000\n",
       "4       2.0000\n",
       "5       2.0000\n",
       "6       2.0000\n",
       "7       3.0000\n",
       "8       2.0000\n",
       "9       2.0000\n",
       "10      1.0000\n",
       "11      2.0000\n",
       "12      2.0000\n",
       "13      2.0000\n",
       "14      2.0000\n",
       "15      2.0000\n",
       "16      2.0000\n",
       "17      2.0000\n",
       "18      2.0000\n",
       "19      3.0000\n",
       "20      2.0000\n",
       "21      1.0000\n",
       "22      1.0000\n",
       "23      1.0000\n",
       "24      1.0000\n",
       "25      2.0000\n",
       "26      2.0000\n",
       "27      2.0000\n",
       "28      1.0000\n",
       "29      1.0000\n",
       "         ...  \n",
       "39970   1.0000\n",
       "39971   1.0000\n",
       "39972   2.0000\n",
       "39973   1.0000\n",
       "39974   1.0000\n",
       "39975   1.0000\n",
       "39976   3.0000\n",
       "39977   1.0000\n",
       "39978   2.0000\n",
       "39979   2.0000\n",
       "39980   3.0000\n",
       "39981   2.0000\n",
       "39982   2.0000\n",
       "39983   3.0000\n",
       "39984   1.0000\n",
       "39985   2.0000\n",
       "39986   1.0000\n",
       "39987   1.0000\n",
       "39988   1.0000\n",
       "39989   2.0000\n",
       "39990   1.0000\n",
       "39991   1.0000\n",
       "39992   1.0000\n",
       "39993   1.0000\n",
       "39994   1.0000\n",
       "39995   1.0000\n",
       "39996   2.0000\n",
       "39997   1.0000\n",
       "39998   2.0000\n",
       "39999   2.0000\n",
       "Name: duration_label, Length: 40000, dtype: float64"
      ]
     },
     "execution_count": 10,
     "metadata": {},
     "output_type": "execute_result"
    }
   ],
   "source": [
    "y"
   ]
  },
  {
   "cell_type": "code",
   "execution_count": 11,
   "metadata": {},
   "outputs": [],
   "source": [
    "D = pd.read_csv('data/train_steps_doc2vec50.csv', header = None, index_col = False)"
   ]
  },
  {
   "cell_type": "code",
   "execution_count": 12,
   "metadata": {},
   "outputs": [],
   "source": [
    "Dt = pd.read_csv('data/test_steps_doc2vec50.csv', header = None, index_col = False)"
   ]
  },
  {
   "cell_type": "code",
   "execution_count": 13,
   "metadata": {},
   "outputs": [],
   "source": [
    "D1 = pd.read_csv('data/train_steps_doc2vec100.csv', header = None, index_col = False)"
   ]
  },
  {
   "cell_type": "code",
   "execution_count": 14,
   "metadata": {},
   "outputs": [],
   "source": [
    "D1t = pd.read_csv('data/test_steps_doc2vec100.csv', header = None, index_col = False)"
   ]
  },
  {
   "cell_type": "code",
   "execution_count": 15,
   "metadata": {
    "scrolled": true
   },
   "outputs": [
    {
     "data": {
      "text/plain": [
       "(10000, 50)"
      ]
     },
     "execution_count": 15,
     "metadata": {},
     "output_type": "execute_result"
    }
   ],
   "source": [
    "Dt.shape"
   ]
  },
  {
   "cell_type": "code",
   "execution_count": 16,
   "metadata": {},
   "outputs": [
    {
     "data": {
      "text/plain": [
       "(10000, 100)"
      ]
     },
     "execution_count": 16,
     "metadata": {},
     "output_type": "execute_result"
    }
   ],
   "source": [
    "D1t.shape"
   ]
  },
  {
   "cell_type": "code",
   "execution_count": 17,
   "metadata": {},
   "outputs": [],
   "source": [
    "X_train, X_test, y_train, y_test = train_test_split(X, y, test_size=0.2, random_state=88)"
   ]
  },
  {
   "cell_type": "code",
   "execution_count": 18,
   "metadata": {},
   "outputs": [],
   "source": [
    "D_train, D_test, Dy_train, Dy_test = train_test_split(D, y, test_size=0.2, random_state=88)"
   ]
  },
  {
   "cell_type": "code",
   "execution_count": 19,
   "metadata": {},
   "outputs": [],
   "source": [
    "D1_train, D1_test, D1y_train, D1y_test = train_test_split(D, y, test_size=0.2, random_state=88)"
   ]
  },
  {
   "cell_type": "code",
   "execution_count": 20,
   "metadata": {
    "scrolled": true
   },
   "outputs": [],
   "source": [
    "vt = VarianceThreshold(0.01)\n",
    "X_train = vt.fit_transform(X_train, y_train)\n",
    "X_test = vt.transform(X_test)"
   ]
  },
  {
   "cell_type": "code",
   "execution_count": 21,
   "metadata": {},
   "outputs": [],
   "source": [
    "X_vt = vt.fit_transform(X, y)"
   ]
  },
  {
   "cell_type": "code",
   "execution_count": 22,
   "metadata": {},
   "outputs": [],
   "source": [
    "test_vt = vt.transform(test) "
   ]
  },
  {
   "cell_type": "code",
   "execution_count": 23,
   "metadata": {},
   "outputs": [
    {
     "name": "stdout",
     "output_type": "stream",
     "text": [
      "(40000, 888)\n"
     ]
    }
   ],
   "source": [
    "print(X_vt.shape)"
   ]
  },
  {
   "cell_type": "code",
   "execution_count": 24,
   "metadata": {},
   "outputs": [],
   "source": [
    "C= 3.7\n",
    "k = 600"
   ]
  },
  {
   "cell_type": "code",
   "execution_count": 25,
   "metadata": {},
   "outputs": [],
   "source": [
    "models = [GaussianNB(),\n",
    "          MultinomialNB(),\n",
    "          DecisionTreeClassifier(max_depth=1),\n",
    "          DecisionTreeClassifier(max_depth=None),\n",
    "          svm.LinearSVC(C=C),\n",
    "          LogisticRegression()]\n",
    "titles = ['GNB',\n",
    "          'MNB',\n",
    "          'one-r',\n",
    "          'Decision Tree',\n",
    "          'LinearSVC',\n",
    "          'Logistic Regression']"
   ]
  },
  {
   "cell_type": "code",
   "execution_count": 26,
   "metadata": {},
   "outputs": [],
   "source": [
    "x2 = SelectFdr(chi2, alpha = 0.01)\n",
    "x2.fit(X_train,y_train)\n",
    "X_train_x2 = x2.transform(X_train)\n",
    "X_test_x2 = x2.transform(X_test)"
   ]
  },
  {
   "cell_type": "code",
   "execution_count": 27,
   "metadata": {},
   "outputs": [
    {
     "name": "stdout",
     "output_type": "stream",
     "text": [
      "(32000, 757)\n"
     ]
    }
   ],
   "source": [
    "print(X_train_x2.shape)"
   ]
  },
  {
   "cell_type": "code",
   "execution_count": 28,
   "metadata": {},
   "outputs": [],
   "source": [
    "f = SelectFdr(f_classif, alpha = 0.01)\n",
    "f.fit(X_train,y_train)\n",
    "X_train_f = f.transform(X_train)\n",
    "X_test_f = f.transform(X_test)"
   ]
  },
  {
   "cell_type": "code",
   "execution_count": 29,
   "metadata": {},
   "outputs": [
    {
     "name": "stdout",
     "output_type": "stream",
     "text": [
      "(32000, 705)\n"
     ]
    }
   ],
   "source": [
    "print(X_train_f.shape)"
   ]
  },
  {
   "cell_type": "code",
   "execution_count": 30,
   "metadata": {},
   "outputs": [],
   "source": [
    "mi = SelectKBest(mutual_info_classif, k = k)\n",
    "mi.fit(X_train,y_train)\n",
    "X_train_mi = mi.transform(X_train)\n",
    "X_test_mi = mi.transform(X_test)"
   ]
  },
  {
   "cell_type": "code",
   "execution_count": 31,
   "metadata": {},
   "outputs": [
    {
     "name": "stdout",
     "output_type": "stream",
     "text": [
      "(32000, 600)\n"
     ]
    }
   ],
   "source": [
    "print(X_train_mi.shape)"
   ]
  },
  {
   "cell_type": "code",
   "execution_count": 66,
   "metadata": {
    "scrolled": false
   },
   "outputs": [
    {
     "name": "stdout",
     "output_type": "stream",
     "text": [
      "\n",
      " GNB (with k= 586 features):\n",
      "complete \t acc 0.511\n",
      "x2 \t acc 0.56275\n",
      "f \t acc 0.6\n",
      "mi \t acc 0.616875\n",
      "\n",
      " MNB (with k= 586 features):\n",
      "complete \t acc 0.714875\n",
      "x2 \t acc 0.71125\n",
      "f \t acc 0.709875\n",
      "mi \t acc 0.70825\n",
      "\n",
      " one-r (with k= 586 features):\n",
      "complete \t acc 0.65475\n",
      "x2 \t acc 0.65475\n",
      "f \t acc 0.65475\n",
      "mi \t acc 0.65475\n",
      "\n",
      " Decision Tree (with k= 586 features):\n",
      "complete \t acc 0.72625\n",
      "x2 \t acc 0.726375\n",
      "f \t acc 0.72425\n",
      "mi \t acc 0.72675\n",
      "\n",
      " LinearSVC (with k= 586 features):\n",
      "complete \t acc 0.788375\n",
      "x2 \t acc 0.78975\n",
      "f \t acc 0.789875\n",
      "mi \t acc 0.788\n",
      "\n",
      " Logistic Regression (with k= 586 features):\n",
      "complete \t acc 0.7925\n",
      "x2 \t acc 0.788125\n",
      "f \t acc 0.78975\n",
      "mi \t acc 0.793875\n",
      "Wall time: 3min 22s\n"
     ]
    }
   ],
   "source": [
    "%%time\n",
    "Xs = [(X_train, X_test), (X_train_x2, X_test_x2), (X_train_f, X_test_f), (X_train_mi, X_test_mi)]\n",
    "\n",
    "X_names = ['complete', 'x2', 'f', 'mi']\n",
    "\n",
    "for title, model in zip(titles, models):\n",
    "    print('\\n',title, '(with k=',k,'features):')\n",
    "    for X_name, Xt in zip(X_names, Xs):\n",
    "        X_train_t, X_test_t = Xt\n",
    "        model.fit(X_train_t.todense(), y_train)\n",
    "        acc = model.score(X_test_t.todense(), y_test)\n",
    "        print(X_name, '\\t acc',  acc)"
   ]
  },
  {
   "cell_type": "code",
   "execution_count": null,
   "metadata": {},
   "outputs": [],
   "source": [
    "models = [LogisticRegression(),\n",
    "          Ridge(0.01),\n",
    "          Lasso(0.01)]\n",
    "titles = ['Logistic Regression',\n",
    "          '',\n",
    "          '']"
   ]
  },
  {
   "cell_type": "code",
   "execution_count": 126,
   "metadata": {},
   "outputs": [
    {
     "name": "stdout",
     "output_type": "stream",
     "text": [
      "500 [0.7924 0.7881 0.7957 0.7991]\n",
      "525 [0.7911 0.7863 0.7962 0.7993]\n",
      "550 [0.7911 0.7871 0.7949 0.798 ]\n",
      "575 [0.7913 0.7869 0.7945 0.796 ]\n",
      "600 [0.7925 0.7914 0.7982 0.8012]\n",
      "625 [0.792  0.7916 0.7977 0.801 ]\n",
      "650 [0.7923 0.7906 0.7988 0.8003]\n",
      "675 [0.7924 0.7917 0.7995 0.7997]\n",
      "700 [0.7928 0.7944 0.7998 0.7984]\n",
      "725 [0.7931 0.7942 0.7997 0.7992]\n",
      "750 [0.7932 0.7948 0.8001 0.8002]\n",
      "775 [0.7912 0.7931 0.7994 0.7996]\n",
      "800 [0.7925 0.7942 0.7998 0.8022]\n",
      "Wall time: 2min 48s\n"
     ]
    }
   ],
   "source": [
    "%%time\n",
    "lst = []\n",
    "model = LogisticRegression()\n",
    "for k in range(500, 801, 25):\n",
    "    mi = SelectKBest(mutual_info_classif, k = k)\n",
    "    mi.fit(X_vt,y)\n",
    "    X_vt_mi = mi.transform(X_vt)\n",
    "    acc = cross_val_score(model, X_vt_mi, y, cv = 4)\n",
    "    print(k, acc)\n",
    "    lst.append(acc.mean())"
   ]
  },
  {
   "cell_type": "code",
   "execution_count": 44,
   "metadata": {
    "scrolled": true
   },
   "outputs": [
    {
     "ename": "NameError",
     "evalue": "name 'lst' is not defined",
     "output_type": "error",
     "traceback": [
      "\u001b[1;31m---------------------------------------------------------------------------\u001b[0m",
      "\u001b[1;31mNameError\u001b[0m                                 Traceback (most recent call last)",
      "\u001b[1;32m<ipython-input-44-de45494483b3>\u001b[0m in \u001b[0;36m<module>\u001b[1;34m\u001b[0m\n\u001b[1;32m----> 1\u001b[1;33m \u001b[0mplt\u001b[0m\u001b[1;33m.\u001b[0m\u001b[0mplot\u001b[0m\u001b[1;33m(\u001b[0m\u001b[0mrange\u001b[0m\u001b[1;33m(\u001b[0m\u001b[1;36m500\u001b[0m\u001b[1;33m,\u001b[0m \u001b[1;36m801\u001b[0m\u001b[1;33m,\u001b[0m \u001b[1;36m25\u001b[0m\u001b[1;33m)\u001b[0m\u001b[1;33m,\u001b[0m \u001b[0mlst\u001b[0m\u001b[1;33m)\u001b[0m\u001b[1;33m\u001b[0m\u001b[1;33m\u001b[0m\u001b[0m\n\u001b[0m",
      "\u001b[1;31mNameError\u001b[0m: name 'lst' is not defined"
     ]
    }
   ],
   "source": [
    "plt.plot(range(500, 801, 25), lst)"
   ]
  },
  {
   "cell_type": "code",
   "execution_count": 23,
   "metadata": {},
   "outputs": [
    {
     "data": {
      "text/plain": [
       "0.751825"
      ]
     },
     "execution_count": 23,
     "metadata": {},
     "output_type": "execute_result"
    }
   ],
   "source": [
    "MNB = MultinomialNB()\n",
    "MNB.fit(X, y)\n",
    "MNB_predicted = MNB.predict(test)\n",
    "MNB.score(X,y)"
   ]
  },
  {
   "cell_type": "code",
   "execution_count": 17,
   "metadata": {},
   "outputs": [
    {
     "data": {
      "text/plain": [
       "(40000, 888)"
      ]
     },
     "execution_count": 17,
     "metadata": {},
     "output_type": "execute_result"
    }
   ],
   "source": [
    "X_vt.shape"
   ]
  },
  {
   "cell_type": "code",
   "execution_count": 26,
   "metadata": {},
   "outputs": [],
   "source": [
    "mi = SelectKBest(mutual_info_classif, k = 874)\n",
    "X_vt_mi = mi.fit_transform(X_vt, y)\n",
    "test_vt_mi = mi.transform(test_vt)"
   ]
  },
  {
   "cell_type": "code",
   "execution_count": 27,
   "metadata": {},
   "outputs": [
    {
     "name": "stdout",
     "output_type": "stream",
     "text": [
      "Wall time: 9.95 s\n"
     ]
    },
    {
     "data": {
      "text/plain": [
       "0.802175"
      ]
     },
     "execution_count": 27,
     "metadata": {},
     "output_type": "execute_result"
    }
   ],
   "source": [
    "%%time\n",
    "rc = RidgeClassifierCV(alphas=[1e-3, 1e-2, 1e-1, 1], cv = 5)\n",
    "rc.fit(X_vt_mi, y)\n",
    "rc_mi = rc.score(X_vt_mi,y)\n",
    "rc_mi"
   ]
  },
  {
   "cell_type": "code",
   "execution_count": 39,
   "metadata": {},
   "outputs": [
    {
     "data": {
      "text/plain": [
       "14"
      ]
     },
     "execution_count": 39,
     "metadata": {},
     "output_type": "execute_result"
    }
   ],
   "source": [
    "len(range(600, 889, 22))"
   ]
  },
  {
   "cell_type": "code",
   "execution_count": 49,
   "metadata": {},
   "outputs": [
    {
     "name": "stdout",
     "output_type": "stream",
     "text": [
      "1000 0.80335\n",
      "1100 0.8049\n",
      "1200 0.8063\n",
      "1300 0.80785\n",
      "1400 0.80875\n",
      "1500 0.8098\n",
      "1600 0.81105\n",
      "1700 0.811575\n",
      "1800 0.812375\n",
      "Wall time: 9min 43s\n"
     ]
    }
   ],
   "source": [
    "%%time\n",
    "score = []\n",
    "for k in range(1000, 1900, 100):\n",
    "    mi = SelectKBest(mutual_info_classif, k = k)\n",
    "    mi.fit(X_f,y)\n",
    "    X_f_mi = mi.transform(X_f)\n",
    "    rc.fit(X_f_mi, y)\n",
    "    acc = rc.score(X_f_mi,y)\n",
    "    print(k, acc)\n",
    "    score.append(acc.mean())"
   ]
  },
  {
   "cell_type": "code",
   "execution_count": 50,
   "metadata": {},
   "outputs": [
    {
     "data": {
      "text/plain": [
       "[<matplotlib.lines.Line2D at 0x2c26f75a390>]"
      ]
     },
     "execution_count": 50,
     "metadata": {},
     "output_type": "execute_result"
    },
    {
     "data": {
      "image/png": "[encoded data removed]",
      "text/plain": [
       "<Figure size 432x288 with 1 Axes>"
      ]
     },
     "metadata": {
      "needs_background": "light"
     },
     "output_type": "display_data"
    }
   ],
   "source": [
    "plt.plot(range(1000, 1900, 100), score)"
   ]
  },
  {
   "cell_type": "code",
   "execution_count": 55,
   "metadata": {},
   "outputs": [],
   "source": [
    "f.fit(X_vt, y)\n",
    "X_vt_f = f.transform(X_vt)\n",
    "rc.fit(X_vt_f, y)\n",
    "rc_f = rc.score(X_vt_f,y)"
   ]
  },
  {
   "cell_type": "code",
   "execution_count": 41,
   "metadata": {},
   "outputs": [
    {
     "name": "stdout",
     "output_type": "stream",
     "text": [
      "(40000, 1817) 0.811775\n"
     ]
    }
   ],
   "source": [
    "f.fit(X, y)\n",
    "X_f = f.transform(X)\n",
    "test_f = f.transform(test)\n",
    "rc.fit(X_f, y)\n",
    "rc_f = rc.score(X_f, y)\n",
    "print(X_f.shape, rc_f)"
   ]
  },
  {
   "cell_type": "code",
   "execution_count": 30,
   "metadata": {},
   "outputs": [
    {
     "name": "stdout",
     "output_type": "stream",
     "text": [
      "(40000, 2069) 0.814825\n"
     ]
    }
   ],
   "source": [
    "x2.fit(X, y)\n",
    "X_x2 = x2.transform(X)\n",
    "test_x2 = x2.transform(test)\n",
    "rc.fit(X_x2, y)\n",
    "rc_x2 = rc.score(X_x2, y)\n",
    "print(X_x2.shape, rc_x2)"
   ]
  },
  {
   "cell_type": "code",
   "execution_count": 36,
   "metadata": {},
   "outputs": [],
   "source": [
    "mi = SelectKBest(mutual_info_classif, k = 1000)\n",
    "X_mi = mi.fit_transform(X, y)\n",
    "test_mi = mi.transform(test)"
   ]
  },
  {
   "cell_type": "code",
   "execution_count": 38,
   "metadata": {},
   "outputs": [
    {
     "name": "stdout",
     "output_type": "stream",
     "text": [
      "(40000, 1000) 0.804075\n"
     ]
    }
   ],
   "source": [
    "rc.fit(X_mi, y)\n",
    "rc_mi = rc.score(X_mi, y)\n",
    "print(X_mi.shape, rc_mi)"
   ]
  },
  {
   "cell_type": "code",
   "execution_count": 43,
   "metadata": {},
   "outputs": [
    {
     "name": "stdout",
     "output_type": "stream",
     "text": [
      "(40000, 1000) 0.80335\n"
     ]
    }
   ],
   "source": [
    "mi = SelectKBest(mutual_info_classif, k = 1000)\n",
    "X_f_mi = mi.fit_transform(X_f, y)\n",
    "test_f_mi = mi.transform(test_f)\n",
    "rc.fit(X_f_mi, y)\n",
    "rc_f_mi = rc.score(X_f_mi, y)\n",
    "print(X_f_mi.shape, rc_f_mi)"
   ]
  },
  {
   "cell_type": "code",
   "execution_count": 50,
   "metadata": {},
   "outputs": [
    {
     "name": "stdout",
     "output_type": "stream",
     "text": [
      "(40000, 734)\n"
     ]
    }
   ],
   "source": [
    "print(X_vt_f.shape)"
   ]
  },
  {
   "cell_type": "code",
   "execution_count": 60,
   "metadata": {},
   "outputs": [
    {
     "data": {
      "text/plain": [
       "0.8004"
      ]
     },
     "execution_count": 60,
     "metadata": {},
     "output_type": "execute_result"
    }
   ],
   "source": [
    "x2.fit(X_vt,y)\n",
    "X_vt_x2 = x2.transform(X_vt)\n",
    "test_vt_x2 = x2.transform(test_vt)\n",
    "rc.fit(X_vt_x2, y)\n",
    "rc_x2 = rc.score(X_vt_x2,y)\n",
    "rc_x2"
   ]
  },
  {
   "cell_type": "code",
   "execution_count": 51,
   "metadata": {},
   "outputs": [
    {
     "name": "stdout",
     "output_type": "stream",
     "text": [
      "(40000, 780)\n"
     ]
    }
   ],
   "source": [
    "print(X_vt_x2.shape)"
   ]
  },
  {
   "cell_type": "code",
   "execution_count": 51,
   "metadata": {},
   "outputs": [
    {
     "data": {
      "text/plain": [
       "0.44762798568323214"
      ]
     },
     "execution_count": 51,
     "metadata": {},
     "output_type": "execute_result"
    }
   ],
   "source": [
    "lasso = LassoCV(cv=5, random_state=0)\n",
    "lasso.fit(X,y)\n",
    "lasso.score(X,y)"
   ]
  },
  {
   "cell_type": "code",
   "execution_count": 22,
   "metadata": {},
   "outputs": [],
   "source": [
    "rc_predicted=rc.predict(test_vt)"
   ]
  },
  {
   "cell_type": "code",
   "execution_count": 54,
   "metadata": {},
   "outputs": [
    {
     "name": "stdout",
     "output_type": "stream",
     "text": [
      "(10000, 734)\n"
     ]
    }
   ],
   "source": [
    "test_vt_f = f.transform(test_vt)\n",
    "print(test_vt_f.shape)"
   ]
  },
  {
   "cell_type": "code",
   "execution_count": 31,
   "metadata": {},
   "outputs": [],
   "source": [
    "rc_x2_predicted = rc.predict(test_x2)"
   ]
  },
  {
   "cell_type": "code",
   "execution_count": 74,
   "metadata": {},
   "outputs": [],
   "source": [
    "rc_f_predicted = rc.predict(test_f)"
   ]
  },
  {
   "cell_type": "code",
   "execution_count": 39,
   "metadata": {},
   "outputs": [],
   "source": [
    "rc_mi_predicted = rc.predict(test_mi)"
   ]
  },
  {
   "cell_type": "code",
   "execution_count": 44,
   "metadata": {},
   "outputs": [],
   "source": [
    "rc_f_mi_predicted = rc.predict(test_f_mi)"
   ]
  },
  {
   "cell_type": "code",
   "execution_count": 62,
   "metadata": {},
   "outputs": [],
   "source": [
    "rc_vt_x2_predicted = rc.predict(test_vt_x2)"
   ]
  },
  {
   "cell_type": "code",
   "execution_count": 68,
   "metadata": {},
   "outputs": [],
   "source": [
    "rc_vt_mi_predicted = rc.predict(test_vt_mi)"
   ]
  },
  {
   "cell_type": "code",
   "execution_count": null,
   "metadata": {},
   "outputs": [],
   "source": [
    "log_predicted = "
   ]
  },
  {
   "cell_type": "code",
   "execution_count": 100,
   "metadata": {},
   "outputs": [
    {
     "data": {
      "text/plain": [
       "RangeIndex(start=0, stop=10000, step=1)"
      ]
     },
     "execution_count": 100,
     "metadata": {},
     "output_type": "execute_result"
    }
   ],
   "source": [
    "testingSet.index"
   ]
  },
  {
   "cell_type": "code",
   "execution_count": 56,
   "metadata": {},
   "outputs": [
    {
     "data": {
      "text/plain": [
       "0.59325"
      ]
     },
     "execution_count": 56,
     "metadata": {},
     "output_type": "execute_result"
    }
   ],
   "source": [
    "knn5 = KNeighborsClassifier(n_neighbors=99)\n",
    "knn5.fit(D_train, Dy_train)\n",
    "knn5.score(D_test, Dy_test)"
   ]
  },
  {
   "cell_type": "code",
   "execution_count": 32,
   "metadata": {
    "scrolled": false
   },
   "outputs": [
    {
     "name": "stdout",
     "output_type": "stream",
     "text": [
      "5 0.62625\n",
      "7 0.627625\n",
      "9 0.62625\n",
      "11 0.627125\n",
      "13 0.626125\n",
      "15 0.630125\n",
      "17 0.6295\n",
      "19 0.6285\n",
      "21 0.627875\n",
      "23 0.626625\n",
      "25 0.626625\n",
      "27 0.62325\n",
      "29 0.625125\n",
      "31 0.6235\n",
      "33 0.623\n",
      "35 0.622375\n",
      "37 0.62225\n",
      "39 0.620875\n",
      "41 0.61975\n",
      "43 0.61825\n",
      "45 0.61575\n",
      "47 0.613375\n",
      "49 0.613375\n"
     ]
    }
   ],
   "source": [
    "kscore=[]\n",
    "for k in range(5, 50, 2):\n",
    "    knn = KNeighborsClassifier(n_neighbors=k)\n",
    "    knn.fit(D1_train, D1y_train)\n",
    "    acc = knn.score(D1_test, D1y_test)\n",
    "    print(k, acc)\n",
    "    kscore.append(acc)"
   ]
  },
  {
   "cell_type": "code",
   "execution_count": 33,
   "metadata": {},
   "outputs": [
    {
     "data": {
      "text/plain": [
       "[<matplotlib.lines.Line2D at 0x1af83c11160>]"
      ]
     },
     "execution_count": 33,
     "metadata": {},
     "output_type": "execute_result"
    },
    {
     "data": {
      "image/png": "[encoded data removed]",
      "text/plain": [
       "<Figure size 432x288 with 1 Axes>"
      ]
     },
     "metadata": {
      "needs_background": "light"
     },
     "output_type": "display_data"
    }
   ],
   "source": [
    "plt.plot(range(5, 50, 2), kscore)"
   ]
  },
  {
   "cell_type": "code",
   "execution_count": 61,
   "metadata": {},
   "outputs": [],
   "source": [
    "knn15 = KNeighborsClassifier(n_neighbors=15)\n",
    "knn15.fit(D,y)\n",
    "knn15_predicted = knn15.predict(Dt)"
   ]
  },
  {
   "cell_type": "code",
   "execution_count": 64,
   "metadata": {},
   "outputs": [],
   "source": [
    "knn15 = KNeighborsClassifier(n_neighbors=15)\n",
    "knn15.fit(D1,y)\n",
    "knn15_predicted = knn15.predict(D1t)"
   ]
  },
  {
   "cell_type": "code",
   "execution_count": 62,
   "metadata": {},
   "outputs": [
    {
     "data": {
      "text/plain": [
       "array([1., 1., 1., ..., 1., 1., 2.])"
      ]
     },
     "execution_count": 62,
     "metadata": {},
     "output_type": "execute_result"
    }
   ],
   "source": [
    "knn15_predicted"
   ]
  },
  {
   "cell_type": "code",
   "execution_count": 43,
   "metadata": {},
   "outputs": [
    {
     "name": "stdout",
     "output_type": "stream",
     "text": [
      "(32000, 49)\n",
      "0.6205\n"
     ]
    }
   ],
   "source": [
    "D_train_f = f.fit_transform(D_train, Dy_train)\n",
    "D_test_f = f.transform(D_test)\n",
    "print(D_train_f.shape)\n",
    "knn5.fit(D_train_f, Dy_train)\n",
    "print(knn5.score(D_test_f, Dy_test))"
   ]
  },
  {
   "cell_type": "code",
   "execution_count": 35,
   "metadata": {},
   "outputs": [
    {
     "data": {
      "text/plain": [
       "0.6435"
      ]
     },
     "execution_count": 35,
     "metadata": {},
     "output_type": "execute_result"
    }
   ],
   "source": [
    "scale_svm = make_pipeline(StandardScaler(),svm.LinearSVC(random_state=0, tol=1e-5, multi_class = 'crammer_singer'))\n",
    "scale_svm.fit(D_train, Dy_train)\n",
    "scale_svm.score(D_test, Dy_test)"
   ]
  },
  {
   "cell_type": "code",
   "execution_count": 36,
   "metadata": {},
   "outputs": [
    {
     "data": {
      "text/plain": [
       "0.6435"
      ]
     },
     "execution_count": 36,
     "metadata": {},
     "output_type": "execute_result"
    }
   ],
   "source": [
    "scale_svm.fit(D1_train, D1y_train)\n",
    "scale_svm.score(D1_test, D1y_test)"
   ]
  },
  {
   "cell_type": "code",
   "execution_count": 38,
   "metadata": {},
   "outputs": [
    {
     "data": {
      "text/plain": [
       "0.774875"
      ]
     },
     "execution_count": 38,
     "metadata": {},
     "output_type": "execute_result"
    }
   ],
   "source": [
    "scale_svm.fit(X_train.todense(), y_train)\n",
    "scale_svm.score(X_test.todense(), y_test)"
   ]
  },
  {
   "cell_type": "code",
   "execution_count": 51,
   "metadata": {},
   "outputs": [
    {
     "data": {
      "text/plain": [
       "0.567875"
      ]
     },
     "execution_count": 51,
     "metadata": {},
     "output_type": "execute_result"
    }
   ],
   "source": [
    "knn5 = KNeighborsClassifier(n_neighbors=201)\n",
    "knn5.fit(D1_train, D1y_train)\n",
    "knn5.score(D1_test, D1y_test)"
   ]
  },
  {
   "cell_type": "code",
   "execution_count": 27,
   "metadata": {},
   "outputs": [
    {
     "data": {
      "text/plain": [
       "-49.98054772526579"
      ]
     },
     "execution_count": 27,
     "metadata": {},
     "output_type": "execute_result"
    }
   ],
   "source": [
    "bgm = BayesianGaussianMixture(n_components=3, random_state=42)\n",
    "bgm.fit(D_train, y = Dy_train)\n",
    "bgm.score(D_test, Dy_test)"
   ]
  },
  {
   "cell_type": "code",
   "execution_count": 28,
   "metadata": {},
   "outputs": [
    {
     "data": {
      "text/plain": [
       "array([0, 1, 1, ..., 0, 1, 1], dtype=int64)"
      ]
     },
     "execution_count": 28,
     "metadata": {},
     "output_type": "execute_result"
    }
   ],
   "source": [
    "bgm.predict(D_test)"
   ]
  },
  {
   "cell_type": "code",
   "execution_count": 26,
   "metadata": {},
   "outputs": [
    {
     "data": {
      "text/plain": [
       "6468    1.0000\n",
       "18232   2.0000\n",
       "2401    1.0000\n",
       "33478   2.0000\n",
       "10700   2.0000\n",
       "11408   1.0000\n",
       "9341    1.0000\n",
       "6983    2.0000\n",
       "12891   2.0000\n",
       "27127   2.0000\n",
       "24597   1.0000\n",
       "23328   2.0000\n",
       "3366    1.0000\n",
       "17341   2.0000\n",
       "25383   2.0000\n",
       "20402   2.0000\n",
       "37971   2.0000\n",
       "39517   2.0000\n",
       "35263   1.0000\n",
       "28672   1.0000\n",
       "16148   1.0000\n",
       "11199   3.0000\n",
       "15207   2.0000\n",
       "7391    1.0000\n",
       "13043   1.0000\n",
       "804     2.0000\n",
       "22049   2.0000\n",
       "34996   1.0000\n",
       "441     2.0000\n",
       "20168   3.0000\n",
       "         ...  \n",
       "39815   1.0000\n",
       "8712    2.0000\n",
       "22274   2.0000\n",
       "21197   2.0000\n",
       "39533   2.0000\n",
       "23634   3.0000\n",
       "16350   1.0000\n",
       "27145   2.0000\n",
       "27338   2.0000\n",
       "27340   2.0000\n",
       "15709   1.0000\n",
       "33132   3.0000\n",
       "27957   1.0000\n",
       "32478   2.0000\n",
       "26306   1.0000\n",
       "19587   2.0000\n",
       "32358   1.0000\n",
       "24244   1.0000\n",
       "38754   3.0000\n",
       "20548   2.0000\n",
       "5550    1.0000\n",
       "23659   2.0000\n",
       "24744   1.0000\n",
       "12466   2.0000\n",
       "3073    3.0000\n",
       "25868   1.0000\n",
       "8417    1.0000\n",
       "21958   1.0000\n",
       "8886    3.0000\n",
       "6657    2.0000\n",
       "Name: duration_label, Length: 8000, dtype: float64"
      ]
     },
     "execution_count": 26,
     "metadata": {},
     "output_type": "execute_result"
    }
   ],
   "source": [
    "Dy_test"
   ]
  },
  {
   "cell_type": "code",
   "execution_count": 42,
   "metadata": {},
   "outputs": [
    {
     "data": {
      "text/plain": [
       "6"
      ]
     },
     "execution_count": 42,
     "metadata": {},
     "output_type": "execute_result"
    }
   ],
   "source": [
    "a = [(1,2),(3,4),(5,6)]\n",
    "a[-1][-1]"
   ]
  },
  {
   "cell_type": "code",
   "execution_count": 41,
   "metadata": {},
   "outputs": [],
   "source": [
    "\n",
    "\n",
    "classifiers = [KNeighborsClassifier(n_neighbors=15),\n",
    "                KNeighborsClassifier(n_neighbors=15),\n",
    "                MultinomialNB()]\n",
    "Datas=[((D_train, Dy_train),(D_test, Dy_test)),((D1_train, D1y_train),(D1_test, D1y_test)),((X_train, y_train),(X_test,y_test))]\n"
   ]
  },
  {
   "cell_type": "code",
   "execution_count": 54,
   "metadata": {},
   "outputs": [
    {
     "name": "stdout",
     "output_type": "stream",
     "text": [
      "Accuracy: 0.630125\n",
      "Accuracy: 0.630125\n",
      "Accuracy: 0.714875\n",
      "Wall time: 12 s\n"
     ]
    }
   ],
   "source": [
    "%%time\n",
    "for Data,clf in zip(Datas,classifiers):\n",
    "    trainin = Data[0]\n",
    "    testin = Data[1]\n",
    "    clf.fit(trainin[0],trainin[1])\n",
    "    print(\"Accuracy:\",clf.score(testin[0],testin[1]))\n",
    "    "
   ]
  },
  {
   "cell_type": "code",
   "execution_count": 53,
   "metadata": {},
   "outputs": [
    {
     "name": "stdout",
     "output_type": "stream",
     "text": [
      "0.722375\n",
      "Wall time: 1min 8s\n"
     ]
    }
   ],
   "source": [
    "%%time\n",
    "base1 = KNeighborsClassifier(n_neighbors=15)\n",
    "base2 = KNeighborsClassifier(n_neighbors=15)\n",
    "base3 = MultinomialNB()\n",
    "metaclassifier = LogisticRegression()\n",
    "\n",
    "base1.fit(D_train, Dy_train)\n",
    "base2.fit(D1_train, D1y_train)\n",
    "base3.fit(X_train, y_train)\n",
    "\n",
    "yhats = [base1.predict_proba(D_train),base2.predict_proba(D1_train),base3.predict_proba(X_train)]\n",
    "yhats = np.concatenate(yhats, axis=1)\n",
    "assert yhats.shape[0] == X_train.shape[0]\n",
    "\n",
    "metaclassifier.fit(yhats, y_train)\n",
    "\n",
    "yhats = [base1.predict_proba(D_test),base2.predict_proba(D1_test),base3.predict_proba(X_test)]\n",
    "yhats = np.concatenate(yhats, axis=1)\n",
    "assert yhats.shape[0] == X_test.shape[0]\n",
    "yhat = metaclassifier.predict(yhats)\n",
    "\n",
    "print(accuracy_score(y_test, yhat))"
   ]
  },
  {
   "cell_type": "code",
   "execution_count": 50,
   "metadata": {},
   "outputs": [
    {
     "name": "stdout",
     "output_type": "stream",
     "text": [
      "32000\n",
      "32000\n",
      "32000\n"
     ]
    },
    {
     "data": {
      "text/plain": [
       "True"
      ]
     },
     "execution_count": 50,
     "metadata": {},
     "output_type": "execute_result"
    }
   ],
   "source": [
    "print(X_train.shape[0]) == print(D_train.shape[0]) == print(D1_train.shape[0])"
   ]
  },
  {
   "cell_type": "code",
   "execution_count": 66,
   "metadata": {},
   "outputs": [],
   "source": [
    "predicted = pd.DataFrame({'id':testingSet.index+1, 'duration_label':knn15_predicted})\n",
    "predicted.to_csv('predicted.csv', index = False)"
   ]
  },
  {
   "cell_type": "code",
   "execution_count": 113,
   "metadata": {},
   "outputs": [
    {
     "data": {
      "text/html": [
       "<div>\n",
       "<style scoped>\n",
       "    .dataframe tbody tr th:only-of-type {\n",
       "        vertical-align: middle;\n",
       "    }\n",
       "\n",
       "    .dataframe tbody tr th {\n",
       "        vertical-align: top;\n",
       "    }\n",
       "\n",
       "    .dataframe thead th {\n",
       "        text-align: right;\n",
       "    }\n",
       "</style>\n",
       "<table border=\"1\" class=\"dataframe\">\n",
       "  <thead>\n",
       "    <tr style=\"text-align: right;\">\n",
       "      <th></th>\n",
       "      <th>id</th>\n",
       "      <th>duration_label</th>\n",
       "    </tr>\n",
       "  </thead>\n",
       "  <tbody>\n",
       "    <tr>\n",
       "      <th>0</th>\n",
       "      <td>1</td>\n",
       "      <td>2.0000</td>\n",
       "    </tr>\n",
       "    <tr>\n",
       "      <th>1</th>\n",
       "      <td>2</td>\n",
       "      <td>1.0000</td>\n",
       "    </tr>\n",
       "    <tr>\n",
       "      <th>2</th>\n",
       "      <td>3</td>\n",
       "      <td>1.0000</td>\n",
       "    </tr>\n",
       "    <tr>\n",
       "      <th>3</th>\n",
       "      <td>4</td>\n",
       "      <td>1.0000</td>\n",
       "    </tr>\n",
       "    <tr>\n",
       "      <th>4</th>\n",
       "      <td>5</td>\n",
       "      <td>2.0000</td>\n",
       "    </tr>\n",
       "    <tr>\n",
       "      <th>5</th>\n",
       "      <td>6</td>\n",
       "      <td>1.0000</td>\n",
       "    </tr>\n",
       "    <tr>\n",
       "      <th>6</th>\n",
       "      <td>7</td>\n",
       "      <td>2.0000</td>\n",
       "    </tr>\n",
       "    <tr>\n",
       "      <th>7</th>\n",
       "      <td>8</td>\n",
       "      <td>1.0000</td>\n",
       "    </tr>\n",
       "    <tr>\n",
       "      <th>8</th>\n",
       "      <td>9</td>\n",
       "      <td>1.0000</td>\n",
       "    </tr>\n",
       "    <tr>\n",
       "      <th>9</th>\n",
       "      <td>10</td>\n",
       "      <td>2.0000</td>\n",
       "    </tr>\n",
       "    <tr>\n",
       "      <th>10</th>\n",
       "      <td>11</td>\n",
       "      <td>1.0000</td>\n",
       "    </tr>\n",
       "    <tr>\n",
       "      <th>11</th>\n",
       "      <td>12</td>\n",
       "      <td>1.0000</td>\n",
       "    </tr>\n",
       "    <tr>\n",
       "      <th>12</th>\n",
       "      <td>13</td>\n",
       "      <td>2.0000</td>\n",
       "    </tr>\n",
       "    <tr>\n",
       "      <th>13</th>\n",
       "      <td>14</td>\n",
       "      <td>2.0000</td>\n",
       "    </tr>\n",
       "    <tr>\n",
       "      <th>14</th>\n",
       "      <td>15</td>\n",
       "      <td>2.0000</td>\n",
       "    </tr>\n",
       "    <tr>\n",
       "      <th>15</th>\n",
       "      <td>16</td>\n",
       "      <td>2.0000</td>\n",
       "    </tr>\n",
       "    <tr>\n",
       "      <th>16</th>\n",
       "      <td>17</td>\n",
       "      <td>1.0000</td>\n",
       "    </tr>\n",
       "    <tr>\n",
       "      <th>17</th>\n",
       "      <td>18</td>\n",
       "      <td>1.0000</td>\n",
       "    </tr>\n",
       "    <tr>\n",
       "      <th>18</th>\n",
       "      <td>19</td>\n",
       "      <td>2.0000</td>\n",
       "    </tr>\n",
       "    <tr>\n",
       "      <th>19</th>\n",
       "      <td>20</td>\n",
       "      <td>2.0000</td>\n",
       "    </tr>\n",
       "    <tr>\n",
       "      <th>20</th>\n",
       "      <td>21</td>\n",
       "      <td>2.0000</td>\n",
       "    </tr>\n",
       "    <tr>\n",
       "      <th>21</th>\n",
       "      <td>22</td>\n",
       "      <td>2.0000</td>\n",
       "    </tr>\n",
       "    <tr>\n",
       "      <th>22</th>\n",
       "      <td>23</td>\n",
       "      <td>1.0000</td>\n",
       "    </tr>\n",
       "    <tr>\n",
       "      <th>23</th>\n",
       "      <td>24</td>\n",
       "      <td>2.0000</td>\n",
       "    </tr>\n",
       "    <tr>\n",
       "      <th>24</th>\n",
       "      <td>25</td>\n",
       "      <td>1.0000</td>\n",
       "    </tr>\n",
       "    <tr>\n",
       "      <th>25</th>\n",
       "      <td>26</td>\n",
       "      <td>1.0000</td>\n",
       "    </tr>\n",
       "    <tr>\n",
       "      <th>26</th>\n",
       "      <td>27</td>\n",
       "      <td>2.0000</td>\n",
       "    </tr>\n",
       "    <tr>\n",
       "      <th>27</th>\n",
       "      <td>28</td>\n",
       "      <td>1.0000</td>\n",
       "    </tr>\n",
       "    <tr>\n",
       "      <th>28</th>\n",
       "      <td>29</td>\n",
       "      <td>3.0000</td>\n",
       "    </tr>\n",
       "    <tr>\n",
       "      <th>29</th>\n",
       "      <td>30</td>\n",
       "      <td>2.0000</td>\n",
       "    </tr>\n",
       "    <tr>\n",
       "      <th>...</th>\n",
       "      <td>...</td>\n",
       "      <td>...</td>\n",
       "    </tr>\n",
       "    <tr>\n",
       "      <th>9970</th>\n",
       "      <td>9971</td>\n",
       "      <td>2.0000</td>\n",
       "    </tr>\n",
       "    <tr>\n",
       "      <th>9971</th>\n",
       "      <td>9972</td>\n",
       "      <td>1.0000</td>\n",
       "    </tr>\n",
       "    <tr>\n",
       "      <th>9972</th>\n",
       "      <td>9973</td>\n",
       "      <td>1.0000</td>\n",
       "    </tr>\n",
       "    <tr>\n",
       "      <th>9973</th>\n",
       "      <td>9974</td>\n",
       "      <td>2.0000</td>\n",
       "    </tr>\n",
       "    <tr>\n",
       "      <th>9974</th>\n",
       "      <td>9975</td>\n",
       "      <td>1.0000</td>\n",
       "    </tr>\n",
       "    <tr>\n",
       "      <th>9975</th>\n",
       "      <td>9976</td>\n",
       "      <td>1.0000</td>\n",
       "    </tr>\n",
       "    <tr>\n",
       "      <th>9976</th>\n",
       "      <td>9977</td>\n",
       "      <td>2.0000</td>\n",
       "    </tr>\n",
       "    <tr>\n",
       "      <th>9977</th>\n",
       "      <td>9978</td>\n",
       "      <td>1.0000</td>\n",
       "    </tr>\n",
       "    <tr>\n",
       "      <th>9978</th>\n",
       "      <td>9979</td>\n",
       "      <td>2.0000</td>\n",
       "    </tr>\n",
       "    <tr>\n",
       "      <th>9979</th>\n",
       "      <td>9980</td>\n",
       "      <td>2.0000</td>\n",
       "    </tr>\n",
       "    <tr>\n",
       "      <th>9980</th>\n",
       "      <td>9981</td>\n",
       "      <td>1.0000</td>\n",
       "    </tr>\n",
       "    <tr>\n",
       "      <th>9981</th>\n",
       "      <td>9982</td>\n",
       "      <td>2.0000</td>\n",
       "    </tr>\n",
       "    <tr>\n",
       "      <th>9982</th>\n",
       "      <td>9983</td>\n",
       "      <td>1.0000</td>\n",
       "    </tr>\n",
       "    <tr>\n",
       "      <th>9983</th>\n",
       "      <td>9984</td>\n",
       "      <td>1.0000</td>\n",
       "    </tr>\n",
       "    <tr>\n",
       "      <th>9984</th>\n",
       "      <td>9985</td>\n",
       "      <td>3.0000</td>\n",
       "    </tr>\n",
       "    <tr>\n",
       "      <th>9985</th>\n",
       "      <td>9986</td>\n",
       "      <td>1.0000</td>\n",
       "    </tr>\n",
       "    <tr>\n",
       "      <th>9986</th>\n",
       "      <td>9987</td>\n",
       "      <td>2.0000</td>\n",
       "    </tr>\n",
       "    <tr>\n",
       "      <th>9987</th>\n",
       "      <td>9988</td>\n",
       "      <td>1.0000</td>\n",
       "    </tr>\n",
       "    <tr>\n",
       "      <th>9988</th>\n",
       "      <td>9989</td>\n",
       "      <td>1.0000</td>\n",
       "    </tr>\n",
       "    <tr>\n",
       "      <th>9989</th>\n",
       "      <td>9990</td>\n",
       "      <td>1.0000</td>\n",
       "    </tr>\n",
       "    <tr>\n",
       "      <th>9990</th>\n",
       "      <td>9991</td>\n",
       "      <td>1.0000</td>\n",
       "    </tr>\n",
       "    <tr>\n",
       "      <th>9991</th>\n",
       "      <td>9992</td>\n",
       "      <td>1.0000</td>\n",
       "    </tr>\n",
       "    <tr>\n",
       "      <th>9992</th>\n",
       "      <td>9993</td>\n",
       "      <td>2.0000</td>\n",
       "    </tr>\n",
       "    <tr>\n",
       "      <th>9993</th>\n",
       "      <td>9994</td>\n",
       "      <td>1.0000</td>\n",
       "    </tr>\n",
       "    <tr>\n",
       "      <th>9994</th>\n",
       "      <td>9995</td>\n",
       "      <td>2.0000</td>\n",
       "    </tr>\n",
       "    <tr>\n",
       "      <th>9995</th>\n",
       "      <td>9996</td>\n",
       "      <td>2.0000</td>\n",
       "    </tr>\n",
       "    <tr>\n",
       "      <th>9996</th>\n",
       "      <td>9997</td>\n",
       "      <td>2.0000</td>\n",
       "    </tr>\n",
       "    <tr>\n",
       "      <th>9997</th>\n",
       "      <td>9998</td>\n",
       "      <td>1.0000</td>\n",
       "    </tr>\n",
       "    <tr>\n",
       "      <th>9998</th>\n",
       "      <td>9999</td>\n",
       "      <td>1.0000</td>\n",
       "    </tr>\n",
       "    <tr>\n",
       "      <th>9999</th>\n",
       "      <td>10000</td>\n",
       "      <td>2.0000</td>\n",
       "    </tr>\n",
       "  </tbody>\n",
       "</table>\n",
       "<p>10000 rows × 2 columns</p>\n",
       "</div>"
      ],
      "text/plain": [
       "         id  duration_label\n",
       "0         1          2.0000\n",
       "1         2          1.0000\n",
       "2         3          1.0000\n",
       "3         4          1.0000\n",
       "4         5          2.0000\n",
       "5         6          1.0000\n",
       "6         7          2.0000\n",
       "7         8          1.0000\n",
       "8         9          1.0000\n",
       "9        10          2.0000\n",
       "10       11          1.0000\n",
       "11       12          1.0000\n",
       "12       13          2.0000\n",
       "13       14          2.0000\n",
       "14       15          2.0000\n",
       "15       16          2.0000\n",
       "16       17          1.0000\n",
       "17       18          1.0000\n",
       "18       19          2.0000\n",
       "19       20          2.0000\n",
       "20       21          2.0000\n",
       "21       22          2.0000\n",
       "22       23          1.0000\n",
       "23       24          2.0000\n",
       "24       25          1.0000\n",
       "25       26          1.0000\n",
       "26       27          2.0000\n",
       "27       28          1.0000\n",
       "28       29          3.0000\n",
       "29       30          2.0000\n",
       "...     ...             ...\n",
       "9970   9971          2.0000\n",
       "9971   9972          1.0000\n",
       "9972   9973          1.0000\n",
       "9973   9974          2.0000\n",
       "9974   9975          1.0000\n",
       "9975   9976          1.0000\n",
       "9976   9977          2.0000\n",
       "9977   9978          1.0000\n",
       "9978   9979          2.0000\n",
       "9979   9980          2.0000\n",
       "9980   9981          1.0000\n",
       "9981   9982          2.0000\n",
       "9982   9983          1.0000\n",
       "9983   9984          1.0000\n",
       "9984   9985          3.0000\n",
       "9985   9986          1.0000\n",
       "9986   9987          2.0000\n",
       "9987   9988          1.0000\n",
       "9988   9989          1.0000\n",
       "9989   9990          1.0000\n",
       "9990   9991          1.0000\n",
       "9991   9992          1.0000\n",
       "9992   9993          2.0000\n",
       "9993   9994          1.0000\n",
       "9994   9995          2.0000\n",
       "9995   9996          2.0000\n",
       "9996   9997          2.0000\n",
       "9997   9998          1.0000\n",
       "9998   9999          1.0000\n",
       "9999  10000          2.0000\n",
       "\n",
       "[10000 rows x 2 columns]"
      ]
     },
     "execution_count": 113,
     "metadata": {},
     "output_type": "execute_result"
    }
   ],
   "source": [
    "predicted"
   ]
  }
 ],
 "metadata": {
  "kernelspec": {
   "display_name": "Python 3",
   "language": "python",
   "name": "python3"
  },
  "language_info": {
   "codemirror_mode": {
    "name": "ipython",
    "version": 3
   },
   "file_extension": ".py",
   "mimetype": "text/x-python",
   "name": "python",
   "nbconvert_exporter": "python",
   "pygments_lexer": "ipython3",
   "version": "3.7.3"
  }
 },
 "nbformat": 4,
 "nbformat_minor": 2
}
