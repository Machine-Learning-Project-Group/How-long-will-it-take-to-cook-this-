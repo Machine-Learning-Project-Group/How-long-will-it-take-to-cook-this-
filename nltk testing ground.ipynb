{
 "cells": [
  {
   "cell_type": "code",
   "execution_count": null,
   "id": "above-concert",
   "metadata": {},
   "outputs": [],
   "source": [
    "import string\n",
    "import pandas as pd\n",
    "import nltk\n",
    "from nltk.corpus import wordnet as wn\n",
    "from nltk.tokenize import RegexpTokenizer\n",
    "from nltk.corpus import stopwords\n",
    "from nltk.stem import WordNetLemmatizer\n",
    "\n",
    "tokenizer = RegexpTokenizer(r'\\w+')\n",
    "stop_words = set(stopwords.words('english'))\n",
    "lemmatizer = WordNetLemmatizer()"
   ]
  },
  {
   "cell_type": "code",
   "execution_count": null,
   "id": "killing-oracle",
   "metadata": {},
   "outputs": [],
   "source": [
    "def remove_non_verb(text):\n",
    "    pos_tagged = nltk.pos_tag(text)\n",
    "    verbs = [pos_tagged[0][0]] + [i[0] for i in pos_tagged[1:] if 'VB' in i[1]] # always include 1st word as nltk doesnt perform well here\n",
    "    return verbs"
   ]
  },
  {
   "cell_type": "code",
   "execution_count": null,
   "id": "mounted-advisory",
   "metadata": {},
   "outputs": [],
   "source": [
    "text = nltk.word_tokenize(\"'divide evenly between two\")\n",
    "remove_non_verb(text)"
   ]
  },
  {
   "cell_type": "code",
   "execution_count": null,
   "id": "beginning-belize",
   "metadata": {},
   "outputs": [],
   "source": [
    "lemmatizer = WordNetLemmatizer()\n",
    "print(lemmatizer.lemmatize('brown', pos='v'))\n",
    "wn.synsets('brown')"
   ]
  }
 ],
 "metadata": {
  "kernelspec": {
   "display_name": "Python 3",
   "language": "python",
   "name": "python3"
  },
  "language_info": {
   "codemirror_mode": {
    "name": "ipython",
    "version": 3
   },
   "file_extension": ".py",
   "mimetype": "text/x-python",
   "name": "python",
   "nbconvert_exporter": "python",
   "pygments_lexer": "ipython3",
   "version": "3.6.8"
  }
 },
 "nbformat": 4,
 "nbformat_minor": 5
}
