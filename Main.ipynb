{
 "cells": [
  {
   "cell_type": "markdown",
   "id": "ordinary-determination",
   "metadata": {},
   "source": [
    "# A Title"
   ]
  },
  {
   "cell_type": "markdown",
   "id": "reasonable-snake",
   "metadata": {},
   "source": [
    "### Global Imports"
   ]
  },
  {
   "cell_type": "code",
   "execution_count": 1,
   "id": "christian-forwarding",
   "metadata": {},
   "outputs": [],
   "source": [
    "import numpy as np\n",
    "import pandas as pd\n",
    "import matplotlib.pyplot as plt\n",
    "from sklearn.metrics import accuracy_score"
   ]
  },
  {
   "cell_type": "code",
   "execution_count": 2,
   "id": "nonprofit-palmer",
   "metadata": {
    "jupyter": {
     "source_hidden": true
    },
    "tags": []
   },
   "outputs": [
    {
     "name": "stdout",
     "output_type": "stream",
     "text": [
      "passing suez canal: - - - - ->\n"
     ]
    }
   ],
   "source": [
    "import time\n",
    "print(\"passing suez canal:\", end='')\n",
    "for i in range(5):\n",
    "    time.sleep(2)\n",
    "    print(\" -\", end='')\n",
    "print(\">\")"
   ]
  },
  {
   "cell_type": "markdown",
   "id": "natural-broadcasting",
   "metadata": {},
   "source": [
    "## Train test split"
   ]
  },
  {
   "cell_type": "code",
   "execution_count": 3,
   "id": "blond-james",
   "metadata": {
    "jupyter": {
     "source_hidden": true
    },
    "tags": []
   },
   "outputs": [],
   "source": [
    "from sklearn.model_selection import KFold"
   ]
  },
  {
   "cell_type": "code",
   "execution_count": 4,
   "id": "emerging-examination",
   "metadata": {
    "jupyter": {
     "source_hidden": true
    },
    "tags": []
   },
   "outputs": [],
   "source": [
    "def split(s1=20, s2=5):\n",
    "    X = pd.read_csv(\"data/recipe_train.csv\", header=0)\n",
    "\n",
    "    # change split scale here\n",
    "    kf = KFold(n_splits=s1, shuffle=True)\n",
    "    kf.get_n_splits(X)\n",
    "\n",
    "    # split to X to a(train), b(test)\n",
    "    for a, b in kf.split(X):\n",
    "\n",
    "        kf = KFold(n_splits=s2, shuffle=True)\n",
    "        kf.get_n_splits(b)\n",
    "        \n",
    "        # split again on b to c & d\n",
    "        for c, d in kf.split(b):\n",
    "\n",
    "            train_small = X.iloc[b[c]].copy(deep=True)\n",
    "            train_small['index'] = b[c]\n",
    "            test_small = X.iloc[b[d]].copy(deep=True)\n",
    "            test_small['index'] = b[d]\n",
    "\n",
    "            train_small.to_csv(\"data/train_small.csv\", index=False)\n",
    "            test_small.to_csv(\"data/test_small.csv\", index=False)\n",
    "\n",
    "            print(f\"created training set containing {len(train_small.index)} instances\")\n",
    "            print(f\"created test set containing {len(test_small.index)} instances\")\n",
    "\n",
    "            break\n",
    "        break"
   ]
  },
  {
   "cell_type": "code",
   "execution_count": 5,
   "id": "paperback-technical",
   "metadata": {},
   "outputs": [
    {
     "name": "stdout",
     "output_type": "stream",
     "text": [
      "created training set containing 1600 instances\n",
      "created test set containing 400 instances\n"
     ]
    }
   ],
   "source": [
    "split()"
   ]
  },
  {
   "cell_type": "markdown",
   "id": "preceding-kitty",
   "metadata": {},
   "source": [
    "## Engineering"
   ]
  },
  {
   "cell_type": "code",
   "execution_count": 6,
   "id": "impressive-russian",
   "metadata": {},
   "outputs": [],
   "source": [
    "def conc_vec():\n",
    "    \"\"\"concatenate doc2vec.csv to the dataset,\n",
    "    re-splits the data\"\"\"\n",
    "    \n",
    "    split()\n",
    "    train = pd.read_csv(\"data/train_small.csv\", header=0, index_col='index')\n",
    "    test = pd.read_csv(\"data/test_small.csv\", header=0, index_col='index')\n",
    "    doc_vec = pd.read_csv(\"data/train_steps_doc2vec50.csv\", names=[(f'vec_{i+1}') for i in range(50)])\n",
    "\n",
    "    train = pd.merge(train, doc_vec, left_index=True, right_index=True)\n",
    "    test = pd.merge(test, doc_vec, left_index=True, right_index=True)\n",
    "\n",
    "    train.to_csv(\"data/train_small_vec.csv\", index=False)\n",
    "    test.to_csv(\"data/test_small_vec.csv\", index=False)\n",
    "    \n",
    "    print(\"merged doc2vec50 to the dataset\")"
   ]
  },
  {
   "cell_type": "code",
   "execution_count": 7,
   "id": "impressive-selling",
   "metadata": {},
   "outputs": [
    {
     "name": "stdout",
     "output_type": "stream",
     "text": [
      "created training set containing 1600 instances\n",
      "created test set containing 400 instances\n",
      "merged doc2vec50 to the dataset\n"
     ]
    }
   ],
   "source": [
    "conc_vec()"
   ]
  },
  {
   "cell_type": "markdown",
   "id": "frank-vienna",
   "metadata": {},
   "source": [
    "## 1R model"
   ]
  },
  {
   "cell_type": "code",
   "execution_count": 14,
   "id": "coral-gossip",
   "metadata": {},
   "outputs": [],
   "source": [
    "from models.model_1R import n_1R, predict_1R"
   ]
  },
  {
   "cell_type": "code",
   "execution_count": 15,
   "id": "phantom-delivery",
   "metadata": {},
   "outputs": [
    {
     "name": "stdout",
     "output_type": "stream",
     "text": [
      "training on data/train_small.csv using rule: 'steps'\n",
      "predicted data/test_small.csv, saved to column 'steps_1R_prediction'\n",
      "training on data/train_small.csv using rule: 'ingredients'\n",
      "predicted data/test_small.csv, saved to column 'ingredients_1R_prediction'\n"
     ]
    }
   ],
   "source": [
    "model = n_1R(\"data/train_small.csv\", rule='steps')\n",
    "predict_1R(\"data/test_small.csv\", model, name='steps_1R_prediction')\n",
    "model = n_1R(\"data/train_small.csv\", rule='ingredients')\n",
    "predict_1R(\"data/test_small.csv\", model, name='ingredients_1R_prediction')"
   ]
  },
  {
   "cell_type": "markdown",
   "id": "structured-brisbane",
   "metadata": {},
   "source": [
    "## Logistic regression - doc_vec_50"
   ]
  },
  {
   "cell_type": "code",
   "execution_count": 16,
   "id": "suspended-nancy",
   "metadata": {},
   "outputs": [],
   "source": [
    "from sklearn.linear_model import LogisticRegression"
   ]
  },
  {
   "cell_type": "code",
   "execution_count": 17,
   "id": "deadly-pledge",
   "metadata": {},
   "outputs": [
    {
     "data": {
      "text/plain": [
       "0.6125"
      ]
     },
     "execution_count": 17,
     "metadata": {},
     "output_type": "execute_result"
    }
   ],
   "source": [
    "train = pd.read_csv(\"data/train_small_vec.csv\", header=0)\n",
    "test = pd.read_csv(\"data/test_small_vec.csv\", header=0)\n",
    "\n",
    "# selecting vector feature\n",
    "vec = [col for col in train.columns if (\"vec\" in col)]\n",
    "\n",
    "X_train = train.loc[:, vec]\n",
    "y_train = train['duration_label']\n",
    "X_test = test.loc[:, vec]\n",
    "y_test = test['duration_label']\n",
    "\n",
    "clf = LogisticRegression(random_state=42).fit(X_train, y_train)\n",
    "prediction = clf.predict(X_test)\n",
    "\n",
    "accuracy_score(y_test, prediction)"
   ]
  },
  {
   "cell_type": "markdown",
   "id": "theoretical-james",
   "metadata": {},
   "source": [
    "### *#placeholder*"
   ]
  },
  {
   "cell_type": "markdown",
   "id": "august-strengthening",
   "metadata": {},
   "source": [
    "## Evaluation"
   ]
  },
  {
   "cell_type": "code",
   "execution_count": 18,
   "id": "unnecessary-defeat",
   "metadata": {},
   "outputs": [],
   "source": [
    "from utilities.evaluation import simple_accuracy"
   ]
  },
  {
   "cell_type": "code",
   "execution_count": 19,
   "id": "sonic-ranking",
   "metadata": {},
   "outputs": [
    {
     "name": "stdout",
     "output_type": "stream",
     "text": [
      "accuracy for 'steps_1R_prediction': 62.25%\n",
      "accuracy for 'ingredients_1R_prediction': 58.75%\n"
     ]
    }
   ],
   "source": [
    "simple_accuracy(\"data/test_small.csv\")"
   ]
  },
  {
   "cell_type": "code",
   "execution_count": null,
   "id": "honey-victory",
   "metadata": {},
   "outputs": [],
   "source": []
  }
 ],
 "metadata": {
  "kernelspec": {
   "display_name": "Python 3",
   "language": "python",
   "name": "python3"
  },
  "language_info": {
   "codemirror_mode": {
    "name": "ipython",
    "version": 3
   },
   "file_extension": ".py",
   "mimetype": "text/x-python",
   "name": "python",
   "nbconvert_exporter": "python",
   "pygments_lexer": "ipython3",
   "version": "3.6.8"
  }
 },
 "nbformat": 4,
 "nbformat_minor": 5
}
