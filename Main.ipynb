{
 "cells": [
  {
   "cell_type": "markdown",
   "metadata": {},
   "source": [
    "# A Title"
   ]
  },
  {
   "cell_type": "markdown",
   "metadata": {},
   "source": [
    "### Global Imports"
   ]
  },
  {
   "cell_type": "code",
   "execution_count": 1,
   "metadata": {},
   "outputs": [],
   "source": [
    "import numpy as np\n",
    "import pandas as pd\n",
    "import matplotlib.pyplot as plt\n",
    "from sklearn.metrics import accuracy_score\n",
    "import time\n",
    "\n",
    "pd.options.display.float_format = \"{:,.4f}\".format\n",
    "\n",
    "%load_ext autoreload\n",
    "%autoreload 2"
   ]
  },
  {
   "cell_type": "markdown",
   "metadata": {},
   "source": [
    "## Train test split"
   ]
  },
  {
   "cell_type": "code",
   "execution_count": 2,
   "metadata": {
    "jupyter": {
     "source_hidden": true
    },
    "tags": []
   },
   "outputs": [],
   "source": [
    "from sklearn.model_selection import KFold"
   ]
  },
  {
   "cell_type": "code",
   "execution_count": 3,
   "metadata": {
    "tags": []
   },
   "outputs": [],
   "source": [
    "def split(s1=20, s2=5, rs=42):\n",
    "    X = pd.read_csv(\"data/recipe_train.csv\", header=0)\n",
    "\n",
    "    # change split scale here\n",
    "    kf = KFold(n_splits=s1, shuffle=True, random_state=rs)\n",
    "    kf.get_n_splits(X)\n",
    "\n",
    "    # split to X to a(train), b(test)\n",
    "    for a, b in kf.split(X):\n",
    "\n",
    "        kf = KFold(n_splits=s2, shuffle=True, random_state=rs)\n",
    "        kf.get_n_splits(b)\n",
    "        \n",
    "        # split again on b to c & d\n",
    "        for c, d in kf.split(b):\n",
    "\n",
    "            train_small = X.iloc[b[c]].copy(deep=True)\n",
    "            train_small['index'] = b[c]\n",
    "            test_small = X.iloc[b[d]].copy(deep=True)\n",
    "            test_small['index'] = b[d]\n",
    "\n",
    "            train_small.to_csv(\"data/train_small.csv\", index=False)\n",
    "            test_small.to_csv(\"data/test_small.csv\", index=False)\n",
    "\n",
    "            print(f\"Created training set containing {len(train_small.index)} instances\")\n",
    "            print(f\"Created test set containing {len(test_small.index)} instances\")\n",
    "\n",
    "            break\n",
    "        break"
   ]
  },
  {
   "cell_type": "code",
   "execution_count": 4,
   "metadata": {},
   "outputs": [
    {
     "name": "stdout",
     "output_type": "stream",
     "text": [
      "Created training set containing 1600 instances\n",
      "Created test set containing 400 instances\n"
     ]
    }
   ],
   "source": [
    "split()"
   ]
  },
  {
   "cell_type": "markdown",
   "metadata": {},
   "source": [
    "## Engineering"
   ]
  },
  {
   "cell_type": "code",
   "execution_count": 5,
   "metadata": {},
   "outputs": [],
   "source": [
    "def conc_vec(train_file, test_file, vec, index='index', suffix='.csv'):\n",
    "    \"\"\"concatenate doc2vec.csv to the dataset\"\"\"\n",
    "    \n",
    "    train = pd.read_csv(train_file, header=0, index_col=index)\n",
    "    test = pd.read_csv(test_file, header=0, index_col=index)\n",
    "    doc_vec = pd.read_csv(vec, names=[(f'vec_{i+1}') for i in range(50)])\n",
    "\n",
    "    train = pd.merge(train, doc_vec, left_index=True, right_index=True)\n",
    "    test = pd.merge(test, doc_vec, left_index=True, right_index=True)\n",
    "\n",
    "    train.to_csv(train_file[:-4]+suffix, index=False)\n",
    "    test.to_csv(test_file[:-4]+suffix, index=False)\n",
    "    \n",
    "    print(f\"Merged {vec} to the dataset, saved to {train_file[:-4]+suffix} & {test_file[:-4]+suffix}\")"
   ]
  },
  {
   "cell_type": "code",
   "execution_count": 6,
   "metadata": {},
   "outputs": [
    {
     "name": "stdout",
     "output_type": "stream",
     "text": [
      "Merged data/train_steps_doc2vec50.csv to the dataset, saved to data/train_small.csv & data/test_small.csv\n"
     ]
    }
   ],
   "source": [
    "conc_vec(\"data/train_small.csv\", \"data/test_small.csv\", \"data/train_steps_doc2vec50.csv\")"
   ]
  },
  {
   "cell_type": "markdown",
   "metadata": {},
   "source": [
    "## Text preprocessing"
   ]
  },
  {
   "cell_type": "code",
   "execution_count": 7,
   "metadata": {},
   "outputs": [],
   "source": [
    "#### TODO: change verb range to all synonym?\n",
    "#### e.g. is_verb(\"peel\")"
   ]
  },
  {
   "cell_type": "code",
   "execution_count": 8,
   "metadata": {},
   "outputs": [],
   "source": [
    "from utilities.preprocessing import extract_verb"
   ]
  },
  {
   "cell_type": "code",
   "execution_count": 9,
   "metadata": {},
   "outputs": [
    {
     "name": "stdout",
     "output_type": "stream",
     "text": [
      "Processing data/test_small.csv ...\n",
      "Progress: + + + + +\n",
      "Steps processed into 11303 verbs, containing 640 unique verbs\n",
      "Processed data/test_small.csv\n",
      "\n",
      "Processing data/train_small.csv ...\n",
      "Progress: + + + + +\n",
      "Steps processed into 45881 verbs, containing 952 unique verbs\n",
      "Processed data/train_small.csv\n",
      "\n"
     ]
    }
   ],
   "source": [
    "extract_verb(\"data/test_small.csv\")\n",
    "extract_verb(\"data/train_small.csv\")"
   ]
  },
  {
   "cell_type": "code",
   "execution_count": 10,
   "metadata": {},
   "outputs": [],
   "source": [
    "from utilities.verb_vec import verb_vec"
   ]
  },
  {
   "cell_type": "code",
   "execution_count": 11,
   "metadata": {},
   "outputs": [
    {
     "name": "stdout",
     "output_type": "stream",
     "text": [
      "Created 50 verb vectors features\n"
     ]
    }
   ],
   "source": [
    "verb_vec(\"data/train_small.csv\", \"data/test_small.csv\", pca_num=50)"
   ]
  },
  {
   "cell_type": "markdown",
   "metadata": {},
   "source": [
    "## SVM"
   ]
  },
  {
   "cell_type": "code",
   "execution_count": 12,
   "metadata": {},
   "outputs": [
    {
     "ename": "NameError",
     "evalue": "name 'features' is not defined",
     "output_type": "error",
     "traceback": [
      "\u001b[1;31m---------------------------------------------------------------------------\u001b[0m",
      "\u001b[1;31mNameError\u001b[0m                                 Traceback (most recent call last)",
      "\u001b[1;32m<ipython-input-12-901a9aaf5a87>\u001b[0m in \u001b[0;36m<module>\u001b[1;34m\u001b[0m\n\u001b[0;32m      5\u001b[0m \u001b[1;33m\u001b[0m\u001b[0m\n\u001b[0;32m      6\u001b[0m \u001b[1;31m# double check given features\u001b[0m\u001b[1;33m\u001b[0m\u001b[1;33m\u001b[0m\u001b[1;33m\u001b[0m\u001b[0m\n\u001b[1;32m----> 7\u001b[1;33m \u001b[0mfeatures\u001b[0m \u001b[1;33m=\u001b[0m \u001b[1;33m[\u001b[0m\u001b[0mf\u001b[0m \u001b[1;32mfor\u001b[0m \u001b[0mf\u001b[0m \u001b[1;32min\u001b[0m \u001b[0mfeatures\u001b[0m \u001b[1;32mif\u001b[0m \u001b[1;34m'v_vec'\u001b[0m \u001b[1;32min\u001b[0m \u001b[0mf\u001b[0m\u001b[1;33m]\u001b[0m\u001b[1;33m\u001b[0m\u001b[1;33m\u001b[0m\u001b[0m\n\u001b[0m\u001b[0;32m      8\u001b[0m \u001b[0mprint\u001b[0m\u001b[1;33m(\u001b[0m\u001b[1;34mf\"Training SVM on: {features}\\n\"\u001b[0m\u001b[1;33m)\u001b[0m\u001b[1;33m\u001b[0m\u001b[1;33m\u001b[0m\u001b[0m\n\u001b[0;32m      9\u001b[0m \u001b[1;33m\u001b[0m\u001b[0m\n",
      "\u001b[1;31mNameError\u001b[0m: name 'features' is not defined"
     ]
    }
   ],
   "source": [
    "from sklearn.svm import SVC, LinearSVC\n",
    "\n",
    "# train\n",
    "train = pd.read_csv(\"data/train_small.csv\", header=0)\n",
    "\n",
    "# double check given features\n",
    "features = [f for f in features if 'v_vec' in f]\n",
    "print(f\"Training SVM on: {features}\\n\")\n",
    "\n",
    "# extract features\n",
    "X_train = train.loc[:, features]\n",
    "y_train = train['duration_label']"
   ]
  },
  {
   "cell_type": "code",
   "execution_count": null,
   "metadata": {},
   "outputs": [],
   "source": [
    "C = 1.0  # SVM regularization parameter\n",
    "\n",
    "models = (SVC(kernel='linear', C=C),\n",
    "          LinearSVC(C=C, max_iter=2000),\n",
    "          SVC(kernel='rbf', gamma=0.7, C=C),\n",
    "          SVC(kernel='poly', degree=3, gamma='auto', C=C))\n",
    "\n",
    "models = (clf.fit(X_train, y_train) for clf in models)"
   ]
  },
  {
   "cell_type": "code",
   "execution_count": null,
   "metadata": {},
   "outputs": [],
   "source": [
    "# predict\n",
    "test = pd.read_csv(\"data/test_small.csv\", header=0)\n",
    "X_test = test.loc[:, features]\n",
    "y_test = test.loc[:, 'duration_label']\n",
    "\n",
    "predictions = (clf.predict(X_test) for clf in models)"
   ]
  },
  {
   "cell_type": "code",
   "execution_count": null,
   "metadata": {},
   "outputs": [],
   "source": [
    "for pre in predictions:\n",
    "    # test\n",
    "    score = accuracy_score(y_test, pre)\n",
    "    print(f\"Accuracy : {(score*100):.2f}%\")\n",
    "\n",
    "    precision = precision_score(y_test, pre, average=None, zero_division=0)\n",
    "    recall = recall_score(y_test, pre, average=None, zero_division=0)\n",
    "    f1 = f1_score(y_test, pre, average=None, zero_division=0)\n",
    "\n",
    "    score = pd.DataFrame({'Precision':precision, \"Recall\":recall, \"F_score\":f1}, index=[1,2,3])\n",
    "    print(score)\n",
    "\n",
    "    matrix = confusion_matrix(y_test, pre)\n",
    "    matrix = pd.DataFrame(matrix, index=[1,2,3], columns=[1,2,3])\n",
    "    print(\"\\nConfusion matrix:\")\n",
    "    print(matrix, end='\\n\\n')"
   ]
  },
  {
   "cell_type": "markdown",
   "metadata": {},
   "source": [
    "## 1R model"
   ]
  },
  {
   "cell_type": "code",
   "execution_count": null,
   "metadata": {},
   "outputs": [],
   "source": [
    "from models.model_1R import train_1R, predict_1R"
   ]
  },
  {
   "cell_type": "code",
   "execution_count": null,
   "metadata": {},
   "outputs": [],
   "source": [
    "features = ['n_steps', 'n_ingredients', 'n_verbs']\n",
    "\n",
    "model = train_1R(\"data/train_small.csv\", features)\n",
    "predict_1R(\"data/test_small.csv\", model)"
   ]
  },
  {
   "cell_type": "markdown",
   "metadata": {},
   "source": [
    "## Logistic regression"
   ]
  },
  {
   "cell_type": "code",
   "execution_count": null,
   "metadata": {},
   "outputs": [],
   "source": [
    "from models.log_regression import train_log, predict_log"
   ]
  },
  {
   "cell_type": "code",
   "execution_count": null,
   "metadata": {},
   "outputs": [],
   "source": [
    "train = pd.read_csv(\"data/train_small.csv\", header=0)\n",
    "features = [col for col in train.columns if ((\"n_\" in col) and col != 'duration_label')] + [col for col in train.columns if (\"vec\" in col)]\n",
    "\n",
    "model = train_log(\"data/train_small.csv\", features)\n",
    "predict_log(\"data/test_small.csv\", features, model)"
   ]
  },
  {
   "cell_type": "markdown",
   "metadata": {},
   "source": [
    "### *#placeholder*"
   ]
  },
  {
   "cell_type": "markdown",
   "metadata": {},
   "source": [
    "## Evaluation"
   ]
  },
  {
   "cell_type": "code",
   "execution_count": null,
   "metadata": {},
   "outputs": [],
   "source": [
    "from sklearn.metrics import accuracy_score\n",
    "from sklearn.metrics import recall_score\n",
    "from sklearn.metrics import precision_score\n",
    "from sklearn.metrics import f1_score\n",
    "from sklearn.metrics import confusion_matrix"
   ]
  },
  {
   "cell_type": "code",
   "execution_count": null,
   "metadata": {},
   "outputs": [],
   "source": [
    "from utilities.evaluation import simple_accuracy"
   ]
  },
  {
   "cell_type": "code",
   "execution_count": null,
   "metadata": {},
   "outputs": [],
   "source": [
    "simple_accuracy(\"data/test_small.csv\")"
   ]
  },
  {
   "cell_type": "code",
   "execution_count": null,
   "metadata": {},
   "outputs": [],
   "source": [
    "from utilities.evaluation import evaluate"
   ]
  },
  {
   "cell_type": "code",
   "execution_count": null,
   "metadata": {},
   "outputs": [],
   "source": [
    "evaluate(\"data/test_small.csv\")"
   ]
  },
  {
   "cell_type": "markdown",
   "metadata": {},
   "source": [
    "## Full Scale Tests"
   ]
  },
  {
   "cell_type": "code",
   "execution_count": null,
   "metadata": {},
   "outputs": [],
   "source": [
    "run = 0\n",
    "if run:\n",
    "    extract_verb(\"data/recipe_train.csv\", output=\"data/recipe_train_v.csv\")\n",
    "    extract_verb(\"data/recipe_test.csv\", output=\"data/recipe_test_v.csv\")"
   ]
  },
  {
   "cell_type": "code",
   "execution_count": null,
   "metadata": {
    "tags": []
   },
   "outputs": [],
   "source": [
    "conc_vec(\"data/recipe_train_v.csv\", \"data/recipe_test_v.csv\", \"data/train_steps_doc2vec50.csv\", index=None)"
   ]
  },
  {
   "cell_type": "code",
   "execution_count": null,
   "metadata": {},
   "outputs": [],
   "source": [
    "train = pd.read_csv(\"data/recipe_train_v_vec.csv\", header=0)\n",
    "features = [col for col in train.columns if ((\"n_\" in col) and col != 'duration_label')] + [col for col in train.columns if (\"vec\" in col)]\n",
    "\n",
    "model = train_log(\"data/recipe_train_v_vec.csv\", features)\n",
    "predict_log(\"data/recipe_test_v_vec.csv\", features, model)"
   ]
  },
  {
   "cell_type": "code",
   "execution_count": null,
   "metadata": {},
   "outputs": [],
   "source": [
    "print(\"\\rProgress: - - - - - - -\", end='')\n",
    "print(\"\\rProgress: + - - - - - -\", end='')\n",
    "print(\"\\rProgress: + + - - - - -\", end='')\n",
    "print(\"\\rProgress: + + + - - - -\", end='')\n",
    "print(\"\\rProgress: + + + + - - -\", end='')\n",
    "print(\"\\rProgress: + + + + + - -\", end='')\n",
    "print(\"\\rProgress: + + + + + + -\", end='')\n",
    "print(\"\\rProgress: + + + + + + +\")"
   ]
  }
 ],
 "metadata": {
  "kernelspec": {
   "display_name": "Python 3",
   "language": "python",
   "name": "python3"
  },
  "language_info": {
   "codemirror_mode": {
    "name": "ipython",
    "version": 3
   },
   "file_extension": ".py",
   "mimetype": "text/x-python",
   "name": "python",
   "nbconvert_exporter": "python",
   "pygments_lexer": "ipython3",
   "version": "3.7.3"
  }
 },
 "nbformat": 4,
 "nbformat_minor": 5
}
