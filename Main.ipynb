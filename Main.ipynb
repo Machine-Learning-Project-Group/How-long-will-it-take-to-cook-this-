{
 "cells": [
  {
   "cell_type": "markdown",
   "id": "wireless-framework",
   "metadata": {},
   "source": [
    "# A Title"
   ]
  },
  {
   "cell_type": "markdown",
   "id": "digital-regard",
   "metadata": {},
   "source": [
    "### Global Imports"
   ]
  },
  {
   "cell_type": "code",
   "execution_count": 1,
   "id": "vanilla-parameter",
   "metadata": {},
   "outputs": [],
   "source": [
    "import numpy as np\n",
    "import pandas as pd\n",
    "import matplotlib.pyplot as plt"
   ]
  },
  {
   "cell_type": "code",
   "execution_count": 2,
   "id": "experienced-batman",
   "metadata": {
    "jupyter": {
     "source_hidden": true
    },
    "tags": []
   },
   "outputs": [
    {
     "name": "stdout",
     "output_type": "stream",
     "text": [
      "passing suez canal: - - - - ->\n"
     ]
    }
   ],
   "source": [
    "import time\n",
    "print(\"passing suez canal:\", end='')\n",
    "for i in range(5):\n",
    "    time.sleep(2)\n",
    "    print(\" -\", end='')\n",
    "print(\">\")"
   ]
  },
  {
   "cell_type": "markdown",
   "id": "narrative-hudson",
   "metadata": {},
   "source": [
    "## Train test split"
   ]
  },
  {
   "cell_type": "code",
   "execution_count": 3,
   "id": "apparent-emerald",
   "metadata": {
    "jupyter": {
     "source_hidden": true
    },
    "tags": []
   },
   "outputs": [],
   "source": [
    "from sklearn.model_selection import KFold"
   ]
  },
  {
   "cell_type": "code",
   "execution_count": 4,
   "id": "smart-keyboard",
   "metadata": {
    "jupyter": {
     "source_hidden": true
    },
    "tags": []
   },
   "outputs": [
    {
     "name": "stdout",
     "output_type": "stream",
     "text": [
      "created training set containing 1600 instances\n",
      "created test set containing 400 instances\n"
     ]
    }
   ],
   "source": [
    "X = pd.read_csv(\"data/recipe_train.csv\", header=0)\n",
    "\n",
    "# change split scale here\n",
    "kf = KFold(n_splits=20, shuffle=True)\n",
    "kf.get_n_splits(X)\n",
    "\n",
    "for a, b in kf.split(X):\n",
    "\n",
    "    kf = KFold(n_splits=5, shuffle=True)\n",
    "    kf.get_n_splits(b)\n",
    "\n",
    "    for c, d in kf.split(b):\n",
    "        \n",
    "        train_small = X.iloc[c]\n",
    "        test_small = X.iloc[d]\n",
    "\n",
    "        train_small.to_csv(\"data/train_small.csv\", index=False)\n",
    "        test_small.to_csv(\"data/test_small.csv\", index=False)\n",
    "        \n",
    "        print(f\"created training set containing {len(train_small.index)} instances\")\n",
    "        print(f\"created test set containing {len(test_small.index)} instances\")\n",
    "        \n",
    "        break\n",
    "    break"
   ]
  },
  {
   "cell_type": "markdown",
   "id": "opened-duplicate",
   "metadata": {},
   "source": [
    "## 1R model"
   ]
  },
  {
   "cell_type": "code",
   "execution_count": 5,
   "id": "divided-daughter",
   "metadata": {},
   "outputs": [],
   "source": [
    "from models.model_1R import n_1R, predict_1R"
   ]
  },
  {
   "cell_type": "code",
   "execution_count": 6,
   "id": "nuclear-vitamin",
   "metadata": {},
   "outputs": [
    {
     "name": "stdout",
     "output_type": "stream",
     "text": [
      "training on data/train_small.csv using rule: 'steps'\n",
      "predicted data/test_small.csv, saved to column 'steps_1R_prediction'\n",
      "training on data/train_small.csv using rule: 'ingredients'\n",
      "predicted data/test_small.csv, saved to column 'ingredients_1R_prediction'\n"
     ]
    }
   ],
   "source": [
    "model = n_1R(\"data/train_small.csv\", rule='steps')\n",
    "predict_1R(\"data/test_small.csv\", model, name='steps_1R_prediction')\n",
    "model = n_1R(\"data/train_small.csv\", rule='ingredients')\n",
    "predict_1R(\"data/test_small.csv\", model, name='ingredients_1R_prediction')"
   ]
  },
  {
   "cell_type": "markdown",
   "id": "identical-wallpaper",
   "metadata": {},
   "source": [
    "### *#placeholder*"
   ]
  },
  {
   "cell_type": "markdown",
   "id": "common-hammer",
   "metadata": {},
   "source": [
    "## Evaluation"
   ]
  },
  {
   "cell_type": "code",
   "execution_count": 7,
   "id": "urban-father",
   "metadata": {},
   "outputs": [],
   "source": [
    "from utilities.evaluation import simple_accuracy"
   ]
  },
  {
   "cell_type": "code",
   "execution_count": 8,
   "id": "french-perry",
   "metadata": {},
   "outputs": [
    {
     "name": "stdout",
     "output_type": "stream",
     "text": [
      "accuracy for 'steps_1R_prediction': 65.50%\n",
      "accuracy for 'ingredients_1R_prediction': 62.25%\n"
     ]
    }
   ],
   "source": [
    "simple_accuracy(\"data/test_small.csv\")"
   ]
  },
  {
   "cell_type": "code",
   "execution_count": null,
   "id": "coral-health",
   "metadata": {},
   "outputs": [],
   "source": []
  }
 ],
 "metadata": {
  "kernelspec": {
   "display_name": "Python 3",
   "language": "python",
   "name": "python3"
  },
  "language_info": {
   "codemirror_mode": {
    "name": "ipython",
    "version": 3
   },
   "file_extension": ".py",
   "mimetype": "text/x-python",
   "name": "python",
   "nbconvert_exporter": "python",
   "pygments_lexer": "ipython3",
   "version": "3.6.8"
  }
 },
 "nbformat": 4,
 "nbformat_minor": 5
}
