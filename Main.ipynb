{
 "cells": [
  {
   "cell_type": "markdown",
   "id": "military-teach",
   "metadata": {},
   "source": [
    "# A Title"
   ]
  },
  {
   "cell_type": "markdown",
   "id": "retained-credits",
   "metadata": {},
   "source": [
    "### Global Imports"
   ]
  },
  {
   "cell_type": "code",
   "execution_count": 1,
   "id": "gentle-marine",
   "metadata": {},
   "outputs": [],
   "source": [
    "import numpy as np\n",
    "import pandas as pd\n",
    "import matplotlib.pyplot as plt\n",
    "from sklearn.metrics import accuracy_score\n",
    "import time\n",
    "\n",
    "pd.options.display.float_format = \"{:,.4f}\".format\n",
    "\n",
    "%load_ext autoreload\n",
    "%autoreload 2"
   ]
  },
  {
   "cell_type": "markdown",
   "id": "overall-behavior",
   "metadata": {},
   "source": [
    "## Train test split"
   ]
  },
  {
   "cell_type": "code",
   "execution_count": 2,
   "id": "south-history",
   "metadata": {
    "jupyter": {
     "source_hidden": true
    },
    "tags": []
   },
   "outputs": [],
   "source": [
    "from sklearn.model_selection import KFold"
   ]
  },
  {
   "cell_type": "code",
   "execution_count": 3,
   "id": "toxic-norwegian",
   "metadata": {
    "tags": []
   },
   "outputs": [],
   "source": [
    "def split(s1=20, s2=5, rs=42):\n",
    "    X = pd.read_csv(\"data/recipe_train.csv\", header=0)\n",
    "\n",
    "    # change split scale here\n",
    "    kf = KFold(n_splits=s1, shuffle=True, random_state=rs)\n",
    "    kf.get_n_splits(X)\n",
    "\n",
    "    # split to X to a(train), b(test)\n",
    "    for a, b in kf.split(X):\n",
    "\n",
    "        kf = KFold(n_splits=s2, shuffle=True, random_state=rs)\n",
    "        kf.get_n_splits(b)\n",
    "        \n",
    "        # split again on b to c & d\n",
    "        for c, d in kf.split(b):\n",
    "\n",
    "            train_small = X.iloc[b[c]].copy(deep=True)\n",
    "            train_small['index'] = b[c]\n",
    "            test_small = X.iloc[b[d]].copy(deep=True)\n",
    "            test_small['index'] = b[d]\n",
    "\n",
    "            train_small.to_csv(\"data/train_small.csv\", index=False)\n",
    "            test_small.to_csv(\"data/test_small.csv\", index=False)\n",
    "\n",
    "            print(f\"Created training set containing {len(train_small.index)} instances\")\n",
    "            print(f\"Created test set containing {len(test_small.index)} instances\")\n",
    "\n",
    "            break\n",
    "        break"
   ]
  },
  {
   "cell_type": "code",
   "execution_count": 4,
   "id": "certified-stocks",
   "metadata": {},
   "outputs": [
    {
     "name": "stdout",
     "output_type": "stream",
     "text": [
      "Created training set containing 1600 instances\n",
      "Created test set containing 400 instances\n"
     ]
    }
   ],
   "source": [
    "split()"
   ]
  },
  {
   "cell_type": "markdown",
   "id": "single-stone",
   "metadata": {},
   "source": [
    "## Engineering"
   ]
  },
  {
   "cell_type": "code",
   "execution_count": 5,
   "id": "interior-qatar",
   "metadata": {},
   "outputs": [],
   "source": [
    "def conc_vec(train_file, test_file, vec, index='index', suffix='.csv'):\n",
    "    \"\"\"concatenate doc2vec.csv to the dataset\"\"\"\n",
    "    \n",
    "    train = pd.read_csv(train_file, header=0, index_col=index)\n",
    "    test = pd.read_csv(test_file, header=0, index_col=index)\n",
    "    doc_vec = pd.read_csv(vec, names=[(f'vec_{i+1}') for i in range(50)])\n",
    "\n",
    "    train = pd.merge(train, doc_vec, left_index=True, right_index=True)\n",
    "    test = pd.merge(test, doc_vec, left_index=True, right_index=True)\n",
    "\n",
    "    train.to_csv(train_file[:-4]+suffix, index=False)\n",
    "    test.to_csv(test_file[:-4]+suffix, index=False)\n",
    "    \n",
    "    print(f\"Merged {vec} to the dataset, saved to {train_file[:-4]+suffix} & {test_file[:-4]+suffix}\")"
   ]
  },
  {
   "cell_type": "code",
   "execution_count": 6,
   "id": "significant-beauty",
   "metadata": {},
   "outputs": [
    {
     "name": "stdout",
     "output_type": "stream",
     "text": [
      "Merged data/train_steps_doc2vec50.csv to the dataset, saved to data/train_small.csv & data/test_small.csv\n"
     ]
    }
   ],
   "source": [
    "conc_vec(\"data/train_small.csv\", \"data/test_small.csv\", \"data/train_steps_doc2vec50.csv\")"
   ]
  },
  {
   "cell_type": "markdown",
   "id": "other-programmer",
   "metadata": {},
   "source": [
    "## Text preprocessing"
   ]
  },
  {
   "cell_type": "code",
   "execution_count": 7,
   "id": "static-integer",
   "metadata": {},
   "outputs": [],
   "source": [
    "#### TODO: change verb range to all synonym?\n",
    "#### e.g. is_verb(\"peel\")"
   ]
  },
  {
   "cell_type": "code",
   "execution_count": 8,
   "id": "surprising-continent",
   "metadata": {},
   "outputs": [],
   "source": [
    "from utilities.preprocessing import extract_verb"
   ]
  },
  {
   "cell_type": "code",
   "execution_count": 10,
   "id": "supported-switch",
   "metadata": {},
   "outputs": [
    {
     "name": "stdout",
     "output_type": "stream",
     "text": [
      "Processing data/test_small.csv ...\n",
      "Progress: + + + + +\n",
      "Steps processed into 11303 verbs, containing 640 unique verbs\n",
      "Processed data/test_small.csv\n",
      "\n",
      "Processing data/train_small.csv ...\n",
      "Progress: + + + + +\n",
      "Steps processed into 45881 verbs, containing 952 unique verbs\n",
      "Processed data/train_small.csv\n",
      "\n"
     ]
    }
   ],
   "source": [
    "extract_verb(\"data/test_small.csv\")\n",
    "extract_verb(\"data/train_small.csv\")"
   ]
  },
  {
   "cell_type": "code",
   "execution_count": 11,
   "id": "ruled-conviction",
   "metadata": {},
   "outputs": [],
   "source": [
    "from utilities.verb_vec import verb_vec"
   ]
  },
  {
   "cell_type": "code",
   "execution_count": 12,
   "id": "devoted-status",
   "metadata": {},
   "outputs": [
    {
     "name": "stdout",
     "output_type": "stream",
     "text": [
      "Created 50 verb vectors feaatures\n"
     ]
    }
   ],
   "source": [
    "verb_vec(\"data/train_small.csv\", \"data/test_small.csv\", pca_num=50)"
   ]
  },
  {
   "cell_type": "markdown",
   "id": "refined-taxation",
   "metadata": {},
   "source": [
    "## 1R model"
   ]
  },
  {
   "cell_type": "code",
   "execution_count": 13,
   "id": "static-norfolk",
   "metadata": {},
   "outputs": [],
   "source": [
    "from models.model_1R import train_1R, predict_1R"
   ]
  },
  {
   "cell_type": "code",
   "execution_count": 14,
   "id": "spanish-seating",
   "metadata": {},
   "outputs": [
    {
     "name": "stdout",
     "output_type": "stream",
     "text": [
      "Training 1R model on: ['n_steps', 'n_ingredients', 'n_verbs']\n",
      "\n",
      "Predicted data/test_small.csv with ['n_steps', 'n_ingredients', 'n_verbs']\n",
      "\n"
     ]
    }
   ],
   "source": [
    "features = ['n_steps', 'n_ingredients', 'n_verbs']\n",
    "\n",
    "model = train_1R(\"data/train_small.csv\", features)\n",
    "predict_1R(\"data/test_small.csv\", model)"
   ]
  },
  {
   "cell_type": "markdown",
   "id": "demographic-shanghai",
   "metadata": {},
   "source": [
    "## Logistic regression"
   ]
  },
  {
   "cell_type": "code",
   "execution_count": 15,
   "id": "negative-logic",
   "metadata": {},
   "outputs": [],
   "source": [
    "from models.log_regression import train_log, predict_log"
   ]
  },
  {
   "cell_type": "code",
   "execution_count": 16,
   "id": "parental-phone",
   "metadata": {},
   "outputs": [
    {
     "name": "stdout",
     "output_type": "stream",
     "text": [
      "Training logistic regression on: ['n_steps', 'n_ingredients', 'n_verbs', 'vec_1', 'vec_2', 'vec_3', 'vec_4', 'vec_5', 'vec_6', 'vec_7', 'vec_8', 'vec_9', 'vec_10', 'vec_11', 'vec_12', 'vec_13', 'vec_14', 'vec_15', 'vec_16', 'vec_17', 'vec_18', 'vec_19', 'vec_20', 'vec_21', 'vec_22', 'vec_23', 'vec_24', 'vec_25', 'vec_26', 'vec_27', 'vec_28', 'vec_29', 'vec_30', 'vec_31', 'vec_32', 'vec_33', 'vec_34', 'vec_35', 'vec_36', 'vec_37', 'vec_38', 'vec_39', 'vec_40', 'vec_41', 'vec_42', 'vec_43', 'vec_44', 'vec_45', 'vec_46', 'vec_47', 'vec_48', 'vec_49', 'vec_50', 'v_vec_1', 'v_vec_2', 'v_vec_3', 'v_vec_4', 'v_vec_5', 'v_vec_6', 'v_vec_7', 'v_vec_8', 'v_vec_9', 'v_vec_10', 'v_vec_11', 'v_vec_12', 'v_vec_13', 'v_vec_14', 'v_vec_15', 'v_vec_16', 'v_vec_17', 'v_vec_18', 'v_vec_19', 'v_vec_20', 'v_vec_21', 'v_vec_22', 'v_vec_23', 'v_vec_24', 'v_vec_25', 'v_vec_26', 'v_vec_27', 'v_vec_28', 'v_vec_29', 'v_vec_30', 'v_vec_31', 'v_vec_32', 'v_vec_33', 'v_vec_34', 'v_vec_35', 'v_vec_36', 'v_vec_37', 'v_vec_38', 'v_vec_39', 'v_vec_40', 'v_vec_41', 'v_vec_42', 'v_vec_43', 'v_vec_44', 'v_vec_45', 'v_vec_46', 'v_vec_47', 'v_vec_48', 'v_vec_49', 'v_vec_50']\n",
      "\n",
      "Predicted data/test_small.csv, saved to column 'log_prediction'\n",
      "\n"
     ]
    }
   ],
   "source": [
    "train = pd.read_csv(\"data/train_small.csv\", header=0)\n",
    "features = [col for col in train.columns if ((\"n_\" in col) and col != 'duration_label')] + [col for col in train.columns if (\"vec\" in col)]\n",
    "\n",
    "model = train_log(\"data/train_small.csv\", features)\n",
    "predict_log(\"data/test_small.csv\", features, model)"
   ]
  },
  {
   "cell_type": "markdown",
   "id": "effective-quarterly",
   "metadata": {},
   "source": [
    "### *#placeholder*"
   ]
  },
  {
   "cell_type": "markdown",
   "id": "relative-manor",
   "metadata": {},
   "source": [
    "## Evaluation"
   ]
  },
  {
   "cell_type": "code",
   "execution_count": 17,
   "id": "rolled-civilian",
   "metadata": {},
   "outputs": [],
   "source": [
    "from sklearn.metrics import accuracy_score\n",
    "from sklearn.metrics import recall_score\n",
    "from sklearn.metrics import precision_score\n",
    "from sklearn.metrics import f1_score\n",
    "from sklearn.metrics import confusion_matrix"
   ]
  },
  {
   "cell_type": "code",
   "execution_count": 18,
   "id": "ruled-minutes",
   "metadata": {},
   "outputs": [],
   "source": [
    "from utilities.evaluation import simple_accuracy"
   ]
  },
  {
   "cell_type": "code",
   "execution_count": 19,
   "id": "protecting-preparation",
   "metadata": {},
   "outputs": [
    {
     "name": "stdout",
     "output_type": "stream",
     "text": [
      "Accuracy for 'n_steps_1R_prediction': 57.75%\n",
      "Accuracy for 'n_ingredients_1R_prediction': 59.75%\n",
      "Accuracy for 'n_verbs_1R_prediction': 58.75%\n",
      "Accuracy for 'log_prediction': 71.75%\n"
     ]
    }
   ],
   "source": [
    "simple_accuracy(\"data/test_small.csv\")"
   ]
  },
  {
   "cell_type": "code",
   "execution_count": 20,
   "id": "advised-fetish",
   "metadata": {},
   "outputs": [],
   "source": [
    "from utilities.evaluation import evaluate"
   ]
  },
  {
   "cell_type": "code",
   "execution_count": 21,
   "id": "ready-lesbian",
   "metadata": {},
   "outputs": [
    {
     "name": "stdout",
     "output_type": "stream",
     "text": [
      "\n",
      "Now analyzing performance of 'n_steps_1R_prediction'\n",
      "\n",
      "Accuracy = 57.75%\n",
      "   Precision  Recall  F_score\n",
      "1     0.5829  0.5574   0.5698\n",
      "2     0.5733  0.6719   0.6187\n",
      "3     0.0000  0.0000   0.0000\n",
      "\n",
      "Confusion matrix:\n",
      "     1    2  3\n",
      "1  102   81  0\n",
      "2   63  129  0\n",
      "3   10   15  0\n",
      "\n",
      "\n",
      "Now analyzing performance of 'n_ingredients_1R_prediction'\n",
      "\n",
      "Accuracy = 59.75%\n",
      "   Precision  Recall  F_score\n",
      "1     0.6496  0.4863   0.5563\n",
      "2     0.5703  0.7812   0.6593\n",
      "3     0.0000  0.0000   0.0000\n",
      "\n",
      "Confusion matrix:\n",
      "    1    2  3\n",
      "1  89   94  0\n",
      "2  42  150  0\n",
      "3   6   19  0\n",
      "\n",
      "\n",
      "Now analyzing performance of 'n_verbs_1R_prediction'\n",
      "\n",
      "Accuracy = 58.75%\n",
      "   Precision  Recall  F_score\n",
      "1     0.5892  0.5956   0.5924\n",
      "2     0.5860  0.6562   0.6192\n",
      "3     0.0000  0.0000   0.0000\n",
      "\n",
      "Confusion matrix:\n",
      "     1    2  3\n",
      "1  109   74  0\n",
      "2   66  126  0\n",
      "3   10   15  0\n",
      "\n",
      "\n",
      "Now analyzing performance of 'log_prediction'\n",
      "\n",
      "Accuracy = 71.75%\n",
      "   Precision  Recall  F_score\n",
      "1     0.7341  0.6940   0.7135\n",
      "2     0.7136  0.7396   0.7263\n",
      "3     0.6429  0.7200   0.6792\n",
      "\n",
      "Confusion matrix:\n",
      "     1    2   3\n",
      "1  127   51   5\n",
      "2   45  142   5\n",
      "3    1    6  18\n",
      "\n"
     ]
    }
   ],
   "source": [
    "evaluate(\"data/test_small.csv\")"
   ]
  },
  {
   "cell_type": "markdown",
   "id": "christian-horizon",
   "metadata": {},
   "source": [
    "## Full Scale Tests"
   ]
  },
  {
   "cell_type": "code",
   "execution_count": null,
   "id": "isolated-gregory",
   "metadata": {},
   "outputs": [],
   "source": [
    "run = 0\n",
    "if run:\n",
    "    extract_verb(\"data/recipe_train.csv\", output=\"data/recipe_train_v.csv\")\n",
    "    extract_verb(\"data/recipe_test.csv\", output=\"data/recipe_test_v.csv\")"
   ]
  },
  {
   "cell_type": "code",
   "execution_count": null,
   "id": "ideal-cotton",
   "metadata": {
    "tags": []
   },
   "outputs": [],
   "source": [
    "conc_vec(\"data/recipe_train_v.csv\", \"data/recipe_test_v.csv\", \"data/train_steps_doc2vec50.csv\", index=None)"
   ]
  },
  {
   "cell_type": "code",
   "execution_count": null,
   "id": "flush-nowhere",
   "metadata": {},
   "outputs": [],
   "source": [
    "train = pd.read_csv(\"data/recipe_train_v_vec.csv\", header=0)\n",
    "features = [col for col in train.columns if ((\"n_\" in col) and col != 'duration_label')] + [col for col in train.columns if (\"vec\" in col)]\n",
    "\n",
    "model = train_log(\"data/recipe_train_v_vec.csv\", features)\n",
    "predict_log(\"data/recipe_test_v_vec.csv\", features, model)"
   ]
  },
  {
   "cell_type": "code",
   "execution_count": null,
   "id": "together-scheduling",
   "metadata": {},
   "outputs": [],
   "source": [
    "print(\"\\rProgress: - - - - - - -\", end='')\n",
    "print(\"\\rProgress: + - - - - - -\", end='')\n",
    "print(\"\\rProgress: + + - - - - -\", end='')\n",
    "print(\"\\rProgress: + + + - - - -\", end='')\n",
    "print(\"\\rProgress: + + + + - - -\", end='')\n",
    "print(\"\\rProgress: + + + + + - -\", end='')\n",
    "print(\"\\rProgress: + + + + + + -\", end='')\n",
    "print(\"\\rProgress: + + + + + + +\")"
   ]
  }
 ],
 "metadata": {
  "kernelspec": {
   "display_name": "Python 3",
   "language": "python",
   "name": "python3"
  },
  "language_info": {
   "codemirror_mode": {
    "name": "ipython",
    "version": 3
   },
   "file_extension": ".py",
   "mimetype": "text/x-python",
   "name": "python",
   "nbconvert_exporter": "python",
   "pygments_lexer": "ipython3",
   "version": "3.6.8"
  }
 },
 "nbformat": 4,
 "nbformat_minor": 5
}
