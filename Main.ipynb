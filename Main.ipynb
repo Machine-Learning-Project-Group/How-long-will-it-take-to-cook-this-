{
 "cells": [
  {
   "cell_type": "markdown",
<<<<<<< Updated upstream
   "id": "careful-heater",
=======
   "id": "superb-genome",
>>>>>>> Stashed changes
   "metadata": {},
   "source": [
    "# A Title"
   ]
  },
  {
   "cell_type": "markdown",
<<<<<<< Updated upstream
   "id": "unexpected-blackberry",
=======
   "id": "appointed-commerce",
>>>>>>> Stashed changes
   "metadata": {},
   "source": [
    "### Global Imports"
   ]
  },
  {
   "cell_type": "code",
<<<<<<< Updated upstream
   "execution_count": 1,
   "id": "nervous-personality",
=======
   "execution_count": 44,
   "id": "quantitative-latest",
>>>>>>> Stashed changes
   "metadata": {},
   "outputs": [],
   "source": [
    "import numpy as np\n",
    "import pandas as pd\n",
    "import matplotlib.pyplot as plt\n",
    "from sklearn.metrics import accuracy_score\n",
    "import time\n",
    "\n",
    "pd.options.display.float_format = \"{:,.2f}\".format\n",
    "\n",
    "%load_ext autoreload\n",
    "%autoreload 2"
   ]
  },
  {
   "cell_type": "markdown",
<<<<<<< Updated upstream
   "id": "adopted-calendar",
=======
   "id": "strategic-scope",
>>>>>>> Stashed changes
   "metadata": {},
   "source": [
    "## Train test split"
   ]
  },
  {
   "cell_type": "code",
<<<<<<< Updated upstream
   "execution_count": 2,
   "id": "important-senior",
=======
   "execution_count": 3,
   "id": "offshore-jamaica",
>>>>>>> Stashed changes
   "metadata": {
    "jupyter": {
     "source_hidden": true
    },
    "tags": []
   },
   "outputs": [],
   "source": [
    "from sklearn.model_selection import KFold"
   ]
  },
  {
   "cell_type": "code",
<<<<<<< Updated upstream
   "execution_count": 3,
   "id": "cognitive-accordance",
=======
   "execution_count": 4,
   "id": "assisted-quarter",
>>>>>>> Stashed changes
   "metadata": {
    "tags": []
   },
   "outputs": [],
   "source": [
    "def split(s1=20, s2=5, rs=42):\n",
    "    X = pd.read_csv(\"data/recipe_train.csv\", header=0)\n",
    "\n",
    "    # change split scale here\n",
    "    kf = KFold(n_splits=s1, shuffle=True, random_state=rs)\n",
    "    kf.get_n_splits(X)\n",
    "\n",
    "    # split to X to a(train), b(test)\n",
    "    for a, b in kf.split(X):\n",
    "\n",
    "        kf = KFold(n_splits=s2, shuffle=True, random_state=rs)\n",
    "        kf.get_n_splits(b)\n",
    "        \n",
    "        # split again on b to c & d\n",
    "        for c, d in kf.split(b):\n",
    "\n",
    "            train_small = X.iloc[b[c]].copy(deep=True)\n",
    "            train_small['index'] = b[c]\n",
    "            test_small = X.iloc[b[d]].copy(deep=True)\n",
    "            test_small['index'] = b[d]\n",
    "\n",
    "            train_small.to_csv(\"data/train_small.csv\", index=False)\n",
    "            test_small.to_csv(\"data/test_small.csv\", index=False)\n",
    "\n",
    "            print(f\"Created training set containing {len(train_small.index)} instances\")\n",
    "            print(f\"Created test set containing {len(test_small.index)} instances\")\n",
    "\n",
    "            break\n",
    "        break"
   ]
  },
  {
   "cell_type": "code",
   "execution_count": 4,
<<<<<<< Updated upstream
   "id": "bored-sixth",
=======
   "id": "herbal-above",
>>>>>>> Stashed changes
   "metadata": {},
   "outputs": [
    {
     "name": "stdout",
     "output_type": "stream",
     "text": [
      "Created training set containing 1600 instances\n",
      "Created test set containing 400 instances\n"
     ]
    }
   ],
   "source": [
    "split()"
   ]
  },
  {
   "cell_type": "markdown",
<<<<<<< Updated upstream
   "id": "bridal-assessment",
=======
   "id": "hired-death",
>>>>>>> Stashed changes
   "metadata": {},
   "source": [
    "## Engineering"
   ]
  },
  {
   "cell_type": "code",
<<<<<<< Updated upstream
   "execution_count": 5,
   "id": "random-perception",
=======
   "execution_count": 61,
   "id": "italian-concept",
>>>>>>> Stashed changes
   "metadata": {},
   "outputs": [],
   "source": [
    "def conc_vec(train_file, test_file, vec, index='index', suffix='_vec.csv'):\n",
    "    \"\"\"concatenate doc2vec.csv to the dataset\"\"\"\n",
    "    \n",
    "    train = pd.read_csv(train_file, header=0, index_col=index)\n",
    "    test = pd.read_csv(test_file, header=0, index_col=index)\n",
    "    doc_vec = pd.read_csv(vec, names=[(f'vec_{i+1}') for i in range(50)])\n",
    "\n",
    "    train = pd.merge(train, doc_vec, left_index=True, right_index=True)\n",
    "    test = pd.merge(test, doc_vec, left_index=True, right_index=True)\n",
    "\n",
    "    train.to_csv(train_file[:-4]+suffix, index=False)\n",
    "    test.to_csv(test_file[:-4]+suffix, index=False)\n",
    "    \n",
    "    print(f\"Merged {vec} to the dataset, saved to {train_file[:-4]+suffix} & {test_file[:-4]+suffix}\")"
   ]
  },
  {
   "cell_type": "code",
<<<<<<< Updated upstream
   "execution_count": 6,
   "id": "deluxe-relations",
=======
   "execution_count": 62,
   "id": "better-polish",
>>>>>>> Stashed changes
   "metadata": {},
   "outputs": [
    {
     "name": "stdout",
     "output_type": "stream",
     "text": [
      "Merged data/train_steps_doc2vec50.csv to the dataset, saved to data/train_small_vec.csv & data/test_small_vec.csv\n"
     ]
    }
   ],
   "source": [
    "conc_vec(\"data/train_small.csv\", \"data/test_small.csv\", \"data/train_steps_doc2vec50.csv\")"
   ]
  },
  {
   "cell_type": "markdown",
<<<<<<< Updated upstream
   "id": "relative-spray",
=======
   "id": "laughing-extension",
>>>>>>> Stashed changes
   "metadata": {},
   "source": [
    "## Text preprocessing"
   ]
  },
  {
   "cell_type": "code",
   "execution_count": 7,
<<<<<<< Updated upstream
   "id": "fifth-power",
=======
   "id": "moderate-ecuador",
>>>>>>> Stashed changes
   "metadata": {},
   "outputs": [],
   "source": [
    "#### TODO: change verb range to all synonym?\n",
    "#### e.g. is_verb(\"peel\")"
   ]
  },
  {
   "cell_type": "code",
<<<<<<< Updated upstream
   "execution_count": 8,
   "id": "polyphonic-tsunami",
=======
   "execution_count": 45,
   "id": "placed-magnitude",
>>>>>>> Stashed changes
   "metadata": {},
   "outputs": [],
   "source": [
    "from utilities.preprocessing import extract_verb"
   ]
  },
  {
   "cell_type": "code",
<<<<<<< Updated upstream
   "execution_count": 9,
   "id": "compatible-subcommittee",
=======
   "execution_count": 47,
   "id": "lovely-beatles",
>>>>>>> Stashed changes
   "metadata": {},
   "outputs": [
    {
     "name": "stdout",
     "output_type": "stream",
     "text": [
      "Created training set containing 1600 instances\n",
      "Created test set containing 400 instances\n",
<<<<<<< Updated upstream
      "Steps processed into 6776 verbs, containing 464 unique verbs\n",
      "Processed data/test_small.csv\n",
      "\n",
      "Steps processed into 27344 verbs, containing 726 unique verbs\n",
=======
      "Processing data/test_small.csv ...\n",
      "Progress: + + + + + + +\n",
      "Steps processed into 11303 verbs, containing 640 unique verbs\n",
      "Processed data/test_small.csv\n",
      "\n",
      "Processing data/train_small.csv ...\n",
      "Progress: + + + + + + +\n",
      "Steps processed into 45881 verbs, containing 952 unique verbs\n",
>>>>>>> Stashed changes
      "Processed data/train_small.csv\n",
      "\n"
     ]
    }
   ],
   "source": [
    "split()\n",
<<<<<<< Updated upstream
=======
    "\n",
>>>>>>> Stashed changes
    "extract_verb(\"data/test_small.csv\")\n",
    "extract_verb(\"data/train_small.csv\")"
   ]
  },
  {
   "cell_type": "markdown",
<<<<<<< Updated upstream
   "id": "technological-appliance",
=======
   "id": "diagnostic-citation",
>>>>>>> Stashed changes
   "metadata": {},
   "source": [
    "## 1R model"
   ]
  },
  {
   "cell_type": "code",
   "execution_count": 10,
<<<<<<< Updated upstream
   "id": "alpha-athletics",
=======
   "id": "individual-anchor",
>>>>>>> Stashed changes
   "metadata": {},
   "outputs": [],
   "source": [
    "from models.model_1R import train_1R, predict_1R"
   ]
  },
  {
   "cell_type": "code",
   "execution_count": 11,
<<<<<<< Updated upstream
   "id": "banner-sessions",
=======
   "id": "beautiful-billion",
>>>>>>> Stashed changes
   "metadata": {},
   "outputs": [
    {
     "name": "stdout",
     "output_type": "stream",
     "text": [
      "Training 1R model on: ['n_steps', 'n_ingredients', 'n_verbs']\n",
      "\n",
      "Predicted data/test_small.csv with ['n_steps', 'n_ingredients', 'n_verbs']\n",
      "\n"
     ]
    }
   ],
   "source": [
    "features = ['n_steps', 'n_ingredients', 'n_verbs']\n",
    "\n",
    "model = train_1R(\"data/train_small.csv\", features)\n",
    "predict_1R(\"data/test_small.csv\", model)"
   ]
  },
  {
   "cell_type": "markdown",
<<<<<<< Updated upstream
   "id": "indian-elements",
=======
   "id": "incorporated-disability",
>>>>>>> Stashed changes
   "metadata": {},
   "source": [
    "## Logistic regression"
   ]
  },
  {
   "cell_type": "code",
<<<<<<< Updated upstream
   "execution_count": 12,
   "id": "quiet-campaign",
=======
   "execution_count": 24,
   "id": "cubic-paris",
>>>>>>> Stashed changes
   "metadata": {},
   "outputs": [],
   "source": [
    "from models.log_regression import train_log, predict_log"
   ]
  },
  {
   "cell_type": "code",
<<<<<<< Updated upstream
   "execution_count": 14,
   "id": "possible-spoke",
=======
   "execution_count": 49,
   "id": "pediatric-humanity",
>>>>>>> Stashed changes
   "metadata": {},
   "outputs": [
    {
     "name": "stdout",
     "output_type": "stream",
     "text": [
      "Training logistic regression on: ['n_steps', 'n_ingredients', 'n_verbs', 'vec_1', 'vec_2', 'vec_3', 'vec_4', 'vec_5', 'vec_6', 'vec_7', 'vec_8', 'vec_9', 'vec_10', 'vec_11', 'vec_12', 'vec_13', 'vec_14', 'vec_15', 'vec_16', 'vec_17', 'vec_18', 'vec_19', 'vec_20', 'vec_21', 'vec_22', 'vec_23', 'vec_24', 'vec_25', 'vec_26', 'vec_27', 'vec_28', 'vec_29', 'vec_30', 'vec_31', 'vec_32', 'vec_33', 'vec_34', 'vec_35', 'vec_36', 'vec_37', 'vec_38', 'vec_39', 'vec_40', 'vec_41', 'vec_42', 'vec_43', 'vec_44', 'vec_45', 'vec_46', 'vec_47', 'vec_48', 'vec_49', 'vec_50']\n",
      "\n",
      "Predicted data/test_small_vec.csv, saved to column 'log_prediction'\n",
      "\n"
     ]
    }
   ],
   "source": [
    "train = pd.read_csv(\"data/train_small_vec.csv\", header=0)\n",
    "features = [col for col in train.columns if ((\"n_\" in col) and col != 'duration_label')] + [col for col in train.columns if (\"vec\" in col)]\n",
    "\n",
    "model = train_log(\"data/train_small_vec.csv\", features)\n",
    "predict_log(\"data/test_small_vec.csv\", features, model)"
   ]
  },
  {
   "cell_type": "markdown",
<<<<<<< Updated upstream
   "id": "efficient-cemetery",
=======
   "id": "previous-moisture",
>>>>>>> Stashed changes
   "metadata": {},
   "source": [
    "### *#placeholder*"
   ]
  },
  {
   "cell_type": "markdown",
<<<<<<< Updated upstream
   "id": "prepared-hydrogen",
=======
   "id": "respiratory-scholarship",
>>>>>>> Stashed changes
   "metadata": {},
   "source": [
    "## Evaluation"
   ]
  },
  {
   "cell_type": "code",
   "execution_count": 15,
<<<<<<< Updated upstream
   "id": "little-classic",
=======
   "id": "infectious-yeast",
>>>>>>> Stashed changes
   "metadata": {},
   "outputs": [],
   "source": [
    "from sklearn.metrics import accuracy_score\n",
    "from sklearn.metrics import recall_score\n",
    "from sklearn.metrics import precision_score\n",
    "from sklearn.metrics import f1_score\n",
    "from sklearn.metrics import confusion_matrix"
   ]
  },
  {
   "cell_type": "code",
   "execution_count": 16,
<<<<<<< Updated upstream
   "id": "daily-render",
=======
   "id": "collectible-control",
>>>>>>> Stashed changes
   "metadata": {},
   "outputs": [],
   "source": [
    "from utilities.evaluation import simple_accuracy"
   ]
  },
  {
   "cell_type": "code",
   "execution_count": 17,
<<<<<<< Updated upstream
   "id": "expected-hello",
=======
   "id": "static-knock",
>>>>>>> Stashed changes
   "metadata": {},
   "outputs": [
    {
     "name": "stdout",
     "output_type": "stream",
     "text": [
      "Accuracy for 'n_steps_1R_prediction': 57.75%\n",
      "Accuracy for 'n_ingredients_1R_prediction': 59.75%\n",
      "Accuracy for 'n_verbs_1R_prediction': 61.25%\n"
     ]
    }
   ],
   "source": [
    "simple_accuracy(\"data/test_small.csv\")"
   ]
  },
  {
   "cell_type": "code",
<<<<<<< Updated upstream
   "execution_count": 18,
   "id": "damaged-tourist",
=======
   "execution_count": 12,
   "id": "eleven-logic",
>>>>>>> Stashed changes
   "metadata": {},
   "outputs": [],
   "source": [
    "from utilities.evaluation import evaluate"
   ]
  },
  {
   "cell_type": "code",
<<<<<<< Updated upstream
   "execution_count": 19,
   "id": "alive-presence",
=======
   "execution_count": 13,
   "id": "nutritional-amendment",
>>>>>>> Stashed changes
   "metadata": {},
   "outputs": [],
   "source": [
    "evaluate(\"data/test_small.csv\")"
   ]
  },
  {
   "cell_type": "code",
<<<<<<< Updated upstream
   "execution_count": 22,
   "id": "functioning-affiliation",
=======
   "execution_count": 50,
   "id": "planned-oxide",
>>>>>>> Stashed changes
   "metadata": {},
   "outputs": [
    {
     "name": "stdout",
     "output_type": "stream",
     "text": [
      "\n",
      "Now analyzing performance of 'log_prediction'\n",
      "\n",
      "Accuracy = 69.00%\n",
      "   Precision  Recall  F_score\n",
      "1       0.72    0.68     0.70\n",
      "2       0.68    0.74     0.71\n",
      "3       0.47    0.36     0.41\n",
      "\n",
      "Confusion matrix:\n",
      "     1    2  3\n",
      "1  125   53  5\n",
      "2   45  142  5\n",
      "3    3   13  9\n",
      "\n"
     ]
    }
   ],
   "source": [
    "evaluate(\"data/test_small_vec.csv\")"
   ]
  },
  {
<<<<<<< Updated upstream
   "cell_type": "code",
   "execution_count": null,
   "id": "alleged-lexington",
   "metadata": {},
   "outputs": [],
   "source": []
=======
   "cell_type": "markdown",
   "id": "preceding-production",
   "metadata": {},
   "source": [
    "## Full Scale Tests"
   ]
  },
  {
   "cell_type": "code",
   "execution_count": 64,
   "id": "above-liabilities",
   "metadata": {},
   "outputs": [
    {
     "name": "stdout",
     "output_type": "stream",
     "text": [
      "Processing data/recipe_train.csv ...\n",
      "Progress: + + + + +\n",
      "Steps processed into 1164962 verbs, containing 2167 unique verbs\n",
      "Processed data/recipe_train.csv, saved to data/recipe_train_v.csv\n",
      "\n",
      "Processing data/recipe_test.csv ...\n",
      "Progress: + + + + +\n",
      "Steps processed into 288313 verbs, containing 1591 unique verbs\n",
      "Processed data/recipe_test.csv, saved to data/recipe_test_v.csv\n",
      "\n"
     ]
    }
   ],
   "source": [
    "run = 0\n",
    "if run:\n",
    "    extract_verb(\"data/recipe_train.csv\", output=\"data/recipe_train_v.csv\")\n",
    "    extract_verb(\"data/recipe_test.csv\", output=\"data/recipe_test_v.csv\")"
   ]
  },
  {
   "cell_type": "code",
   "execution_count": 65,
   "id": "dying-hacker",
   "metadata": {
    "tags": []
   },
   "outputs": [
    {
     "name": "stdout",
     "output_type": "stream",
     "text": [
      "Merged data/train_steps_doc2vec50.csv to the dataset, saved to data/recipe_train_v_vec.csv & data/recipe_test_v_vec.csv\n"
     ]
    }
   ],
   "source": [
    "conc_vec(\"data/recipe_train_v.csv\", \"data/recipe_test_v.csv\", \"data/train_steps_doc2vec50.csv\", index=None)"
   ]
  },
  {
   "cell_type": "code",
   "execution_count": 67,
   "id": "fuzzy-organ",
   "metadata": {},
   "outputs": [
    {
     "name": "stdout",
     "output_type": "stream",
     "text": [
      "Training logistic regression on: ['n_steps', 'n_ingredients', 'n_verbs', 'vec_1', 'vec_2', 'vec_3', 'vec_4', 'vec_5', 'vec_6', 'vec_7', 'vec_8', 'vec_9', 'vec_10', 'vec_11', 'vec_12', 'vec_13', 'vec_14', 'vec_15', 'vec_16', 'vec_17', 'vec_18', 'vec_19', 'vec_20', 'vec_21', 'vec_22', 'vec_23', 'vec_24', 'vec_25', 'vec_26', 'vec_27', 'vec_28', 'vec_29', 'vec_30', 'vec_31', 'vec_32', 'vec_33', 'vec_34', 'vec_35', 'vec_36', 'vec_37', 'vec_38', 'vec_39', 'vec_40', 'vec_41', 'vec_42', 'vec_43', 'vec_44', 'vec_45', 'vec_46', 'vec_47', 'vec_48', 'vec_49', 'vec_50']\n",
      "\n",
      "Predicted data/recipe_test_v_vec.csv, saved to column 'log_prediction'\n",
      "\n"
     ]
    }
   ],
   "source": [
    "train = pd.read_csv(\"data/recipe_train_v_vec.csv\", header=0)\n",
    "features = [col for col in train.columns if ((\"n_\" in col) and col != 'duration_label')] + [col for col in train.columns if (\"vec\" in col)]\n",
    "\n",
    "model = train_log(\"data/recipe_train_v_vec.csv\", features)\n",
    "predict_log(\"data/recipe_test_v_vec.csv\", features, model)"
   ]
  },
  {
   "cell_type": "code",
   "execution_count": 26,
   "id": "convertible-collection",
   "metadata": {},
   "outputs": [
    {
     "name": "stdout",
     "output_type": "stream",
     "text": [
      "Progress: + + + + + + +"
     ]
    }
   ],
   "source": [
    "print(\"\\rProgress: - - - - - - -\", end='')\n",
    "print(\"\\rProgress: + - - - - - -\", end='')\n",
    "print(\"\\rProgress: + + - - - - -\", end='')\n",
    "print(\"\\rProgress: + + + - - - -\", end='')\n",
    "print(\"\\rProgress: + + + + - - -\", end='')\n",
    "print(\"\\rProgress: + + + + + - -\", end='')\n",
    "print(\"\\rProgress: + + + + + + -\", end='')\n",
    "print(\"\\rProgress: + + + + + + +\")"
   ]
>>>>>>> Stashed changes
  }
 ],
 "metadata": {
  "kernelspec": {
   "display_name": "Python 3",
   "language": "python",
   "name": "python3"
  },
  "language_info": {
   "codemirror_mode": {
    "name": "ipython",
    "version": 3
   },
   "file_extension": ".py",
   "mimetype": "text/x-python",
   "name": "python",
   "nbconvert_exporter": "python",
   "pygments_lexer": "ipython3",
   "version": "3.6.8"
  }
 },
 "nbformat": 4,
 "nbformat_minor": 5
}
