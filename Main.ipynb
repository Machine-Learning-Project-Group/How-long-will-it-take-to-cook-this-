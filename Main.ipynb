{
 "cells": [
  {
   "cell_type": "markdown",
   "id": "interested-jesus",
   "metadata": {},
   "source": [
    "# A Title"
   ]
  },
  {
   "cell_type": "markdown",
   "id": "framed-growing",
   "metadata": {},
   "source": [
    "### Global Imports"
   ]
  },
  {
   "cell_type": "code",
   "execution_count": 1,
   "id": "flush-brush",
   "metadata": {},
   "outputs": [],
   "source": [
    "import numpy as np\n",
    "import pandas as pd\n",
    "import matplotlib.pyplot as plt\n",
    "from sklearn.metrics import accuracy_score\n",
    "import time\n",
    "\n",
    "pd.options.display.float_format = \"{:,.4f}\".format\n",
    "\n",
    "%load_ext autoreload\n",
    "%autoreload 2"
   ]
  },
  {
   "cell_type": "markdown",
   "id": "enclosed-error",
   "metadata": {},
   "source": [
    "## Train test split"
   ]
  },
  {
   "cell_type": "code",
   "execution_count": 2,
   "id": "swiss-journalist",
   "metadata": {
    "jupyter": {
     "source_hidden": true
    },
    "tags": []
   },
   "outputs": [],
   "source": [
    "from sklearn.model_selection import KFold"
   ]
  },
  {
   "cell_type": "code",
   "execution_count": 43,
   "id": "understanding-broadway",
   "metadata": {
    "tags": []
   },
   "outputs": [],
   "source": [
    "def split(s1=20, s2=5, rs=42):\n",
    "    X = pd.read_csv(\"data/recipe_train.csv\", header=0)\n",
    "\n",
    "    # change split scale here\n",
    "    kf = KFold(n_splits=s1, shuffle=True, random_state=rs)\n",
    "    kf.get_n_splits(X)\n",
    "\n",
    "    # split to X to a(train), b(test)\n",
    "    for a, b in kf.split(X):\n",
    "\n",
    "        kf = KFold(n_splits=s2, shuffle=True, random_state=rs)\n",
    "        kf.get_n_splits(b)\n",
    "        \n",
    "        # split again on b to c & d\n",
    "        for c, d in kf.split(b):\n",
    "\n",
    "            train_small = X.iloc[b[c]].copy(deep=True)\n",
    "            train_small['index'] = b[c]\n",
    "            test_small = X.iloc[b[d]].copy(deep=True)\n",
    "            test_small['index'] = b[d]\n",
    "\n",
    "            train_small.to_csv(\"data/train_small.csv\", index=False)\n",
    "            test_small.to_csv(\"data/test_small.csv\", index=False)\n",
    "\n",
    "            print(f\"Created training set containing {len(train_small.index)} instances\")\n",
    "            print(f\"Created test set containing {len(test_small.index)} instances\")\n",
    "\n",
    "            break\n",
    "        break"
   ]
  },
  {
   "cell_type": "code",
   "execution_count": 44,
   "id": "reported-termination",
   "metadata": {},
   "outputs": [
    {
     "name": "stdout",
     "output_type": "stream",
     "text": [
      "Created training set containing 1600 instances\n",
      "Created test set containing 400 instances\n"
     ]
    }
   ],
   "source": [
    "split()"
   ]
  },
  {
   "cell_type": "markdown",
   "id": "recognized-chemical",
   "metadata": {},
   "source": [
    "## Engineering"
   ]
  },
  {
   "cell_type": "code",
   "execution_count": 45,
   "id": "flush-pursuit",
   "metadata": {},
   "outputs": [],
   "source": [
    "def conc_vec(train_file, test_file, vec, index='index', suffix='.csv'):\n",
    "    \"\"\"concatenate doc2vec.csv to the dataset\"\"\"\n",
    "    \n",
    "    train = pd.read_csv(train_file, header=0, index_col=index)\n",
    "    test = pd.read_csv(test_file, header=0, index_col=index)\n",
    "    doc_vec = pd.read_csv(vec, names=[(f'vec_{i+1}') for i in range(50)])\n",
    "\n",
    "    train = pd.merge(train, doc_vec, left_index=True, right_index=True)\n",
    "    test = pd.merge(test, doc_vec, left_index=True, right_index=True)\n",
    "\n",
    "    train.to_csv(train_file[:-4]+suffix, index=False)\n",
    "    test.to_csv(test_file[:-4]+suffix, index=False)\n",
    "    \n",
    "    print(f\"Merged {vec} to the dataset, saved to {train_file[:-4]+suffix} & {test_file[:-4]+suffix}\")"
   ]
  },
  {
   "cell_type": "code",
   "execution_count": 46,
   "id": "bored-doubt",
   "metadata": {},
   "outputs": [
    {
     "name": "stdout",
     "output_type": "stream",
     "text": [
      "Merged data/train_steps_doc2vec50.csv to the dataset, saved to data/train_small.csv & data/test_small.csv\n"
     ]
    }
   ],
   "source": [
    "conc_vec(\"data/train_small.csv\", \"data/test_small.csv\", \"data/train_steps_doc2vec50.csv\")"
   ]
  },
  {
   "cell_type": "markdown",
   "id": "confused-lemon",
   "metadata": {},
   "source": [
    "## Text preprocessing"
   ]
  },
  {
   "cell_type": "code",
   "execution_count": 47,
   "id": "gorgeous-ukraine",
   "metadata": {},
   "outputs": [],
   "source": [
    "#### TODO: change verb range to all synonym?\n",
    "#### e.g. is_verb(\"peel\")"
   ]
  },
  {
   "cell_type": "code",
   "execution_count": 48,
   "id": "behavioral-judges",
   "metadata": {},
   "outputs": [],
   "source": [
    "from utilities.preprocessing import extract_verb"
   ]
  },
  {
   "cell_type": "code",
   "execution_count": 49,
   "id": "first-lyric",
   "metadata": {},
   "outputs": [
    {
     "name": "stdout",
     "output_type": "stream",
     "text": [
      "Processing data/test_small.csv ...\n",
      "Progress: + - - - -"
     ]
    }
   ],
   "source": [
    "extract_verb(\"data/test_small.csv\")\n",
    "extract_verb(\"data/train_small.csv\")"
   ]
  },
  {
   "cell_type": "code",
   "execution_count": 50,
   "id": "reflected-meter",
   "metadata": {},
   "outputs": [],
   "source": [
    "from utilities.verb_vec import verb_vec"
   ]
  },
  {
   "cell_type": "code",
   "execution_count": 51,
   "id": "incoming-imperial",
   "metadata": {},
   "outputs": [],
   "source": [
    "verb_vec(\"data/train_small.csv\", \"data/test_small.csv\", pca_num=50)"
   ]
  },
  {
   "cell_type": "markdown",
   "id": "advisory-shakespeare",
   "metadata": {},
   "source": [
    "## SVM"
   ]
  },
  {
   "cell_type": "code",
   "execution_count": 65,
   "id": "pacific-shopper",
   "metadata": {},
   "outputs": [
    {
     "name": "stdout",
     "output_type": "stream",
     "text": [
      "Training SVM on: ['v_vec_1', 'v_vec_2', 'v_vec_3', 'v_vec_4', 'v_vec_5', 'v_vec_6', 'v_vec_7', 'v_vec_8', 'v_vec_9', 'v_vec_10', 'v_vec_11', 'v_vec_12', 'v_vec_13', 'v_vec_14', 'v_vec_15', 'v_vec_16', 'v_vec_17', 'v_vec_18', 'v_vec_19', 'v_vec_20', 'v_vec_21', 'v_vec_22', 'v_vec_23', 'v_vec_24', 'v_vec_25', 'v_vec_26', 'v_vec_27', 'v_vec_28', 'v_vec_29', 'v_vec_30', 'v_vec_31', 'v_vec_32', 'v_vec_33', 'v_vec_34', 'v_vec_35', 'v_vec_36', 'v_vec_37', 'v_vec_38', 'v_vec_39', 'v_vec_40', 'v_vec_41', 'v_vec_42', 'v_vec_43', 'v_vec_44', 'v_vec_45', 'v_vec_46', 'v_vec_47', 'v_vec_48', 'v_vec_49', 'v_vec_50']\n",
      "\n"
     ]
    }
   ],
   "source": [
    "from sklearn.svm import SVC, LinearSVC\n",
    "\n",
    "# train\n",
    "train = pd.read_csv(\"data/train_small.csv\", header=0)\n",
    "\n",
    "# double check given features\n",
    "features = [f for f in features if 'v_vec' in f]\n",
    "print(f\"Training SVM on: {features}\\n\")\n",
    "\n",
    "# extract features\n",
    "X_train = train.loc[:, features]\n",
    "y_train = train['duration_label']"
   ]
  },
  {
   "cell_type": "code",
   "execution_count": 67,
   "id": "turkish-chase",
   "metadata": {},
   "outputs": [],
   "source": [
    "C = 1.0  # SVM regularization parameter\n",
    "\n",
    "models = (SVC(kernel='linear', C=C),\n",
    "          LinearSVC(C=C, max_iter=2000),\n",
    "          SVC(kernel='rbf', gamma=0.7, C=C),\n",
    "          SVC(kernel='poly', degree=3, gamma='auto', C=C))\n",
    "\n",
    "models = (clf.fit(X_train, y_train) for clf in models)"
   ]
  },
  {
   "cell_type": "code",
   "execution_count": 68,
   "id": "latter-satellite",
   "metadata": {},
   "outputs": [],
   "source": [
    "# predict\n",
    "test = pd.read_csv(\"data/test_small.csv\", header=0)\n",
    "X_test = test.loc[:, features]\n",
    "y_test = test.loc[:, 'duration_label']\n",
    "\n",
    "predictions = (clf.predict(X_test) for clf in models)"
   ]
  },
  {
   "cell_type": "code",
   "execution_count": 69,
   "id": "cognitive-drove",
   "metadata": {},
   "outputs": [
    {
     "name": "stdout",
     "output_type": "stream",
     "text": [
      "Accuracy : 69.00%\n",
      "   Precision  Recall  F_score\n",
      "1     0.6736  0.7104   0.6915\n",
      "2     0.7037  0.6927   0.6982\n",
      "3     0.7222  0.5200   0.6047\n",
      "\n",
      "Confusion matrix:\n",
      "     1    2   3\n",
      "1  130   50   3\n",
      "2   57  133   2\n",
      "3    6    6  13\n",
      "\n",
      "Accuracy : 70.00%\n",
      "   Precision  Recall  F_score\n",
      "1     0.6802  0.7322   0.7053\n",
      "2     0.7219  0.7031   0.7124\n",
      "3     0.6875  0.4400   0.5366\n",
      "\n",
      "Confusion matrix:\n",
      "     1    2   3\n",
      "1  134   46   3\n",
      "2   55  135   2\n",
      "3    8    6  11\n",
      "\n",
      "Accuracy : 56.25%\n",
      "   Precision  Recall  F_score\n",
      "1     0.8810  0.2022   0.3289\n",
      "2     0.5251  0.9792   0.6836\n",
      "3     0.0000  0.0000   0.0000\n",
      "\n",
      "Confusion matrix:\n",
      "    1    2  3\n",
      "1  37  146  0\n",
      "2   4  188  0\n",
      "3   1   24  0\n",
      "\n",
      "Accuracy : 54.50%\n",
      "   Precision  Recall  F_score\n",
      "1     0.5076  0.9180   0.6537\n",
      "2     0.7353  0.2604   0.3846\n",
      "3     0.0000  0.0000   0.0000\n",
      "\n",
      "Confusion matrix:\n",
      "     1   2  3\n",
      "1  168  14  1\n",
      "2  142  50  0\n",
      "3   21   4  0\n",
      "\n"
     ]
    }
   ],
   "source": [
    "for pre in predictions:\n",
    "    # test\n",
    "    score = accuracy_score(y_test, pre)\n",
    "    print(f\"Accuracy : {(score*100):.2f}%\")\n",
    "\n",
    "    precision = precision_score(y_test, pre, average=None, zero_division=0)\n",
    "    recall = recall_score(y_test, pre, average=None, zero_division=0)\n",
    "    f1 = f1_score(y_test, pre, average=None, zero_division=0)\n",
    "\n",
    "    score = pd.DataFrame({'Precision':precision, \"Recall\":recall, \"F_score\":f1}, index=[1,2,3])\n",
    "    print(score)\n",
    "\n",
    "    matrix = confusion_matrix(y_test, pre)\n",
    "    matrix = pd.DataFrame(matrix, index=[1,2,3], columns=[1,2,3])\n",
    "    print(\"\\nConfusion matrix:\")\n",
    "    print(matrix, end='\\n\\n')"
   ]
  },
  {
   "cell_type": "markdown",
   "id": "decreased-witness",
   "metadata": {},
   "source": [
    "## 1R model"
   ]
  },
  {
   "cell_type": "code",
   "execution_count": 32,
   "id": "peripheral-trading",
   "metadata": {},
   "outputs": [],
   "source": [
    "from models.model_1R import train_1R, predict_1R"
   ]
  },
  {
   "cell_type": "code",
   "execution_count": 33,
   "id": "instrumental-morgan",
   "metadata": {},
   "outputs": [],
   "source": [
    "features = ['n_steps', 'n_ingredients', 'n_verbs']\n",
    "\n",
    "model = train_1R(\"data/train_small.csv\", features)\n",
    "predict_1R(\"data/test_small.csv\", model)"
   ]
  },
  {
   "cell_type": "markdown",
   "id": "indoor-change",
   "metadata": {},
   "source": [
    "## Logistic regression"
   ]
  },
  {
   "cell_type": "code",
   "execution_count": 34,
   "id": "female-shelter",
   "metadata": {},
   "outputs": [],
   "source": [
    "from models.log_regression import train_log, predict_log"
   ]
  },
  {
   "cell_type": "code",
   "execution_count": 35,
   "id": "enclosed-kitty",
   "metadata": {},
   "outputs": [],
   "source": [
    "train = pd.read_csv(\"data/train_small.csv\", header=0)\n",
    "features = [col for col in train.columns if ((\"n_\" in col) and col != 'duration_label')] + [col for col in train.columns if (\"vec\" in col)]\n",
    "\n",
    "model = train_log(\"data/train_small.csv\", features)\n",
    "predict_log(\"data/test_small.csv\", features, model)"
   ]
  },
  {
   "cell_type": "markdown",
   "id": "federal-notion",
   "metadata": {},
   "source": [
    "### *#placeholder*"
   ]
  },
  {
   "cell_type": "markdown",
   "id": "dense-booth",
   "metadata": {},
   "source": [
    "## Evaluation"
   ]
  },
  {
   "cell_type": "code",
   "execution_count": 36,
   "id": "alpine-monthly",
   "metadata": {},
   "outputs": [],
   "source": [
    "from sklearn.metrics import accuracy_score\n",
    "from sklearn.metrics import recall_score\n",
    "from sklearn.metrics import precision_score\n",
    "from sklearn.metrics import f1_score\n",
    "from sklearn.metrics import confusion_matrix"
   ]
  },
  {
   "cell_type": "code",
   "execution_count": 37,
   "id": "aggressive-bonus",
   "metadata": {},
   "outputs": [],
   "source": [
    "from utilities.evaluation import simple_accuracy"
   ]
  },
  {
   "cell_type": "code",
   "execution_count": 38,
   "id": "stretch-welding",
   "metadata": {},
   "outputs": [
    {
     "name": "stdout",
     "output_type": "stream",
     "text": [
      "Accuracy for 'n_steps_1R_prediction': 60.85%\n",
      "Accuracy for 'n_ingredients_1R_prediction': 60.60%\n",
      "Accuracy for 'n_verbs_1R_prediction': 61.65%\n",
      "Accuracy for 'log_prediction': 73.75%\n"
     ]
    }
   ],
   "source": [
    "simple_accuracy(\"data/test_small.csv\")"
   ]
  },
  {
   "cell_type": "code",
   "execution_count": 39,
   "id": "worth-honor",
   "metadata": {},
   "outputs": [],
   "source": [
    "from utilities.evaluation import evaluate"
   ]
  },
  {
   "cell_type": "code",
   "execution_count": 41,
   "id": "expected-acquisition",
   "metadata": {},
   "outputs": [
    {
     "name": "stdout",
     "output_type": "stream",
     "text": [
      "\n",
      "Now analyzing performance of 'n_steps_1R_prediction'\n",
      "\n",
      "Accuracy = 60.85%\n",
      "   Precision  Recall  F_score\n",
      "1     0.6084  0.5544   0.5802\n",
      "2     0.6086  0.7252   0.6618\n",
      "3     0.0000  0.0000   0.0000\n",
      "\n",
      "Confusion matrix:\n",
      "     1    2  3\n",
      "1  494  397  0\n",
      "2  274  723  0\n",
      "3   44   68  0\n",
      "\n",
      "\n",
      "Now analyzing performance of 'n_ingredients_1R_prediction'\n",
      "\n",
      "Accuracy = 60.60%\n",
      "   Precision  Recall  F_score\n",
      "1     0.6184  0.5219   0.5660\n",
      "2     0.5986  0.7492   0.6655\n",
      "3     0.0000  0.0000   0.0000\n",
      "\n",
      "Confusion matrix:\n",
      "     1    2  3\n",
      "1  465  426  0\n",
      "2  250  747  0\n",
      "3   37   75  0\n",
      "\n",
      "\n",
      "Now analyzing performance of 'n_verbs_1R_prediction'\n",
      "\n",
      "Accuracy = 61.65%\n",
      "   Precision  Recall  F_score\n",
      "1     0.6215  0.5511   0.5842\n",
      "2     0.6132  0.7442   0.6724\n",
      "3     0.0000  0.0000   0.0000\n",
      "\n",
      "Confusion matrix:\n",
      "     1    2  3\n",
      "1  491  400  0\n",
      "2  255  742  0\n",
      "3   44   68  0\n",
      "\n",
      "\n",
      "Now analyzing performance of 'log_prediction'\n",
      "\n",
      "Accuracy = 73.75%\n",
      "   Precision  Recall  F_score\n",
      "1     0.7214  0.7643   0.7422\n",
      "2     0.7538  0.7492   0.7515\n",
      "3     0.7231  0.4196   0.5311\n",
      "\n",
      "Confusion matrix:\n",
      "     1    2   3\n",
      "1  681  205   5\n",
      "2  237  747  13\n",
      "3   26   39  47\n",
      "\n"
     ]
    }
   ],
   "source": [
    "evaluate(\"data/test_small.csv\")"
   ]
  },
  {
   "cell_type": "markdown",
   "id": "improving-lender",
   "metadata": {},
   "source": [
    "## Full Scale Tests"
   ]
  },
  {
   "cell_type": "code",
   "execution_count": null,
   "id": "bottom-carroll",
   "metadata": {},
   "outputs": [],
   "source": [
    "run = 0\n",
    "if run:\n",
    "    extract_verb(\"data/recipe_train.csv\", output=\"data/recipe_train_v.csv\")\n",
    "    extract_verb(\"data/recipe_test.csv\", output=\"data/recipe_test_v.csv\")"
   ]
  },
  {
   "cell_type": "code",
   "execution_count": null,
   "id": "infinite-press",
   "metadata": {
    "tags": []
   },
   "outputs": [],
   "source": [
    "conc_vec(\"data/recipe_train_v.csv\", \"data/recipe_test_v.csv\", \"data/train_steps_doc2vec50.csv\", index=None)"
   ]
  },
  {
   "cell_type": "code",
   "execution_count": null,
   "id": "approximate-timer",
   "metadata": {},
   "outputs": [],
   "source": [
    "train = pd.read_csv(\"data/recipe_train_v_vec.csv\", header=0)\n",
    "features = [col for col in train.columns if ((\"n_\" in col) and col != 'duration_label')] + [col for col in train.columns if (\"vec\" in col)]\n",
    "\n",
    "model = train_log(\"data/recipe_train_v_vec.csv\", features)\n",
    "predict_log(\"data/recipe_test_v_vec.csv\", features, model)"
   ]
  },
  {
   "cell_type": "code",
   "execution_count": null,
   "id": "convinced-mainstream",
   "metadata": {},
   "outputs": [],
   "source": [
    "print(\"\\rProgress: - - - - - - -\", end='')\n",
    "print(\"\\rProgress: + - - - - - -\", end='')\n",
    "print(\"\\rProgress: + + - - - - -\", end='')\n",
    "print(\"\\rProgress: + + + - - - -\", end='')\n",
    "print(\"\\rProgress: + + + + - - -\", end='')\n",
    "print(\"\\rProgress: + + + + + - -\", end='')\n",
    "print(\"\\rProgress: + + + + + + -\", end='')\n",
    "print(\"\\rProgress: + + + + + + +\")"
   ]
  }
 ],
 "metadata": {
  "kernelspec": {
   "display_name": "Python 3",
   "language": "python",
   "name": "python3"
  },
  "language_info": {
   "codemirror_mode": {
    "name": "ipython",
    "version": 3
   },
   "file_extension": ".py",
   "mimetype": "text/x-python",
   "name": "python",
   "nbconvert_exporter": "python",
   "pygments_lexer": "ipython3",
   "version": "3.6.8"
  }
 },
 "nbformat": 4,
 "nbformat_minor": 5
}
