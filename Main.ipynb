{
 "cells": [
  {
   "cell_type": "markdown",
   "id": "careful-heater",
   "metadata": {},
   "source": [
    "# A Title"
   ]
  },
  {
   "cell_type": "markdown",
   "id": "unexpected-blackberry",
   "metadata": {},
   "source": [
    "### Global Imports"
   ]
  },
  {
   "cell_type": "code",
   "execution_count": 1,
   "id": "nervous-personality",
   "metadata": {},
   "outputs": [],
   "source": [
    "import numpy as np\n",
    "import pandas as pd\n",
    "import matplotlib.pyplot as plt\n",
    "from sklearn.metrics import accuracy_score\n",
    "\n",
    "pd.options.display.float_format = \"{:,.2f}\".format\n",
    "\n",
    "%load_ext autoreload\n",
    "%autoreload 2"
   ]
  },
  {
   "cell_type": "markdown",
   "id": "adopted-calendar",
   "metadata": {},
   "source": [
    "## Train test split"
   ]
  },
  {
   "cell_type": "code",
   "execution_count": 2,
   "id": "important-senior",
   "metadata": {
    "jupyter": {
     "source_hidden": true
    },
    "tags": []
   },
   "outputs": [],
   "source": [
    "from sklearn.model_selection import KFold"
   ]
  },
  {
   "cell_type": "code",
   "execution_count": 3,
   "id": "cognitive-accordance",
   "metadata": {
    "tags": []
   },
   "outputs": [],
   "source": [
    "def split(s1=20, s2=5, rs=42):\n",
    "    X = pd.read_csv(\"data/recipe_train.csv\", header=0)\n",
    "\n",
    "    # change split scale here\n",
    "    kf = KFold(n_splits=s1, shuffle=True, random_state=rs)\n",
    "    kf.get_n_splits(X)\n",
    "\n",
    "    # split to X to a(train), b(test)\n",
    "    for a, b in kf.split(X):\n",
    "\n",
    "        kf = KFold(n_splits=s2, shuffle=True, random_state=rs)\n",
    "        kf.get_n_splits(b)\n",
    "        \n",
    "        # split again on b to c & d\n",
    "        for c, d in kf.split(b):\n",
    "\n",
    "            train_small = X.iloc[b[c]].copy(deep=True)\n",
    "            train_small['index'] = b[c]\n",
    "            test_small = X.iloc[b[d]].copy(deep=True)\n",
    "            test_small['index'] = b[d]\n",
    "\n",
    "            train_small.to_csv(\"data/train_small.csv\", index=False)\n",
    "            test_small.to_csv(\"data/test_small.csv\", index=False)\n",
    "\n",
    "            print(f\"Created training set containing {len(train_small.index)} instances\")\n",
    "            print(f\"Created test set containing {len(test_small.index)} instances\")\n",
    "\n",
    "            break\n",
    "        break"
   ]
  },
  {
   "cell_type": "code",
   "execution_count": 4,
   "id": "bored-sixth",
   "metadata": {},
   "outputs": [
    {
     "name": "stdout",
     "output_type": "stream",
     "text": [
      "Created training set containing 1600 instances\n",
      "Created test set containing 400 instances\n"
     ]
    }
   ],
   "source": [
    "split()"
   ]
  },
  {
   "cell_type": "markdown",
   "id": "bridal-assessment",
   "metadata": {},
   "source": [
    "## Engineering"
   ]
  },
  {
   "cell_type": "code",
   "execution_count": 5,
   "id": "random-perception",
   "metadata": {},
   "outputs": [],
   "source": [
    "def conc_vec():\n",
    "    \"\"\"concatenate doc2vec.csv to the dataset\"\"\"\n",
    "    \n",
    "    train = pd.read_csv(\"data/train_small.csv\", header=0, index_col='index')\n",
    "    test = pd.read_csv(\"data/test_small.csv\", header=0, index_col='index')\n",
    "    doc_vec = pd.read_csv(\"data/train_steps_doc2vec50.csv\", names=[(f'vec_{i+1}') for i in range(50)])\n",
    "\n",
    "    train = pd.merge(train, doc_vec, left_index=True, right_index=True)\n",
    "    test = pd.merge(test, doc_vec, left_index=True, right_index=True)\n",
    "\n",
    "    train.to_csv(\"data/train_small_vec.csv\", index=False)\n",
    "    test.to_csv(\"data/test_small_vec.csv\", index=False)\n",
    "    \n",
    "    print(\"merged doc2vec50 to the dataset\")"
   ]
  },
  {
   "cell_type": "code",
   "execution_count": 6,
   "id": "deluxe-relations",
   "metadata": {},
   "outputs": [
    {
     "name": "stdout",
     "output_type": "stream",
     "text": [
      "merged doc2vec50 to the dataset\n"
     ]
    }
   ],
   "source": [
    "conc_vec()"
   ]
  },
  {
   "cell_type": "markdown",
   "id": "relative-spray",
   "metadata": {},
   "source": [
    "## Text preprocessing"
   ]
  },
  {
   "cell_type": "code",
   "execution_count": 7,
   "id": "fifth-power",
   "metadata": {},
   "outputs": [],
   "source": [
    "#### TODO: change verb range to all synonym?\n",
    "#### e.g. is_verb(\"peel\")"
   ]
  },
  {
   "cell_type": "code",
   "execution_count": 8,
   "id": "polyphonic-tsunami",
   "metadata": {},
   "outputs": [],
   "source": [
    "from utilities.preprocessing import extract_verb"
   ]
  },
  {
   "cell_type": "code",
   "execution_count": 9,
   "id": "compatible-subcommittee",
   "metadata": {},
   "outputs": [
    {
     "name": "stdout",
     "output_type": "stream",
     "text": [
      "Created training set containing 1600 instances\n",
      "Created test set containing 400 instances\n",
      "Steps processed into 6776 verbs, containing 464 unique verbs\n",
      "Processed data/test_small.csv\n",
      "\n",
      "Steps processed into 27344 verbs, containing 726 unique verbs\n",
      "Processed data/train_small.csv\n",
      "\n"
     ]
    }
   ],
   "source": [
    "split()\n",
    "extract_verb(\"data/test_small.csv\")\n",
    "extract_verb(\"data/train_small.csv\")"
   ]
  },
  {
   "cell_type": "markdown",
   "id": "technological-appliance",
   "metadata": {},
   "source": [
    "## 1R model"
   ]
  },
  {
   "cell_type": "code",
   "execution_count": 10,
   "id": "alpha-athletics",
   "metadata": {},
   "outputs": [],
   "source": [
    "from models.model_1R import train_1R, predict_1R"
   ]
  },
  {
   "cell_type": "code",
   "execution_count": 11,
   "id": "banner-sessions",
   "metadata": {},
   "outputs": [
    {
     "name": "stdout",
     "output_type": "stream",
     "text": [
      "Training 1R model on: ['n_steps', 'n_ingredients', 'n_verbs']\n",
      "\n",
      "Predicted data/test_small.csv with ['n_steps', 'n_ingredients', 'n_verbs']\n",
      "\n"
     ]
    }
   ],
   "source": [
    "features = ['n_steps', 'n_ingredients', 'n_verbs']\n",
    "\n",
    "model = train_1R(\"data/train_small.csv\", features)\n",
    "predict_1R(\"data/test_small.csv\", model)"
   ]
  },
  {
   "cell_type": "markdown",
   "id": "indian-elements",
   "metadata": {},
   "source": [
    "## Logistic regression"
   ]
  },
  {
   "cell_type": "code",
   "execution_count": 12,
   "id": "quiet-campaign",
   "metadata": {},
   "outputs": [],
   "source": [
    "from models.log_regression import train_log, predict_log"
   ]
  },
  {
   "cell_type": "code",
   "execution_count": 14,
   "id": "possible-spoke",
   "metadata": {},
   "outputs": [
    {
     "name": "stdout",
     "output_type": "stream",
     "text": [
      "Training logistic regression on: ['n_steps', 'n_ingredients', 'vec_1', 'vec_2', 'vec_3', 'vec_4', 'vec_5', 'vec_6', 'vec_7', 'vec_8', 'vec_9', 'vec_10', 'vec_11', 'vec_12', 'vec_13', 'vec_14', 'vec_15', 'vec_16', 'vec_17', 'vec_18', 'vec_19', 'vec_20', 'vec_21', 'vec_22', 'vec_23', 'vec_24', 'vec_25', 'vec_26', 'vec_27', 'vec_28', 'vec_29', 'vec_30', 'vec_31', 'vec_32', 'vec_33', 'vec_34', 'vec_35', 'vec_36', 'vec_37', 'vec_38', 'vec_39', 'vec_40', 'vec_41', 'vec_42', 'vec_43', 'vec_44', 'vec_45', 'vec_46', 'vec_47', 'vec_48', 'vec_49', 'vec_50']\n",
      "\n",
      "Predicted data/test_small_vec.csv, saved to column 'log_prediction'\n",
      "\n"
     ]
    }
   ],
   "source": [
    "train = pd.read_csv(\"data/train_small_vec.csv\", header=0)\n",
    "features = [col for col in train.columns if ((\"n_\" in col) and col != 'duration_label')] + [col for col in train.columns if (\"vec\" in col)]\n",
    "\n",
    "model = train_log(\"data/train_small_vec.csv\", features)\n",
    "predict_log(\"data/test_small_vec.csv\", features, model)"
   ]
  },
  {
   "cell_type": "markdown",
   "id": "efficient-cemetery",
   "metadata": {},
   "source": [
    "### *#placeholder*"
   ]
  },
  {
   "cell_type": "markdown",
   "id": "prepared-hydrogen",
   "metadata": {},
   "source": [
    "## Evaluation"
   ]
  },
  {
   "cell_type": "code",
   "execution_count": 15,
   "id": "little-classic",
   "metadata": {},
   "outputs": [],
   "source": [
    "from sklearn.metrics import accuracy_score\n",
    "from sklearn.metrics import recall_score\n",
    "from sklearn.metrics import precision_score\n",
    "from sklearn.metrics import f1_score\n",
    "from sklearn.metrics import confusion_matrix"
   ]
  },
  {
   "cell_type": "code",
   "execution_count": 16,
   "id": "daily-render",
   "metadata": {},
   "outputs": [],
   "source": [
    "from utilities.evaluation import simple_accuracy"
   ]
  },
  {
   "cell_type": "code",
   "execution_count": 17,
   "id": "expected-hello",
   "metadata": {},
   "outputs": [
    {
     "name": "stdout",
     "output_type": "stream",
     "text": [
      "Accuracy for 'n_steps_1R_prediction': 57.75%\n",
      "Accuracy for 'n_ingredients_1R_prediction': 59.75%\n",
      "Accuracy for 'n_verbs_1R_prediction': 61.25%\n"
     ]
    }
   ],
   "source": [
    "simple_accuracy(\"data/test_small.csv\")"
   ]
  },
  {
   "cell_type": "code",
   "execution_count": 18,
   "id": "damaged-tourist",
   "metadata": {},
   "outputs": [],
   "source": [
    "from utilities.evaluation import evaluate"
   ]
  },
  {
   "cell_type": "code",
   "execution_count": 19,
   "id": "alive-presence",
   "metadata": {},
   "outputs": [
    {
     "name": "stdout",
     "output_type": "stream",
     "text": [
      "\n",
      "Now analyzing performance of 'n_steps_1R_prediction'\n",
      "\n",
      "   Precision  Recall  F_score\n",
      "1       0.58    0.56     0.57\n",
      "2       0.57    0.67     0.62\n",
      "3       0.00    0.00     0.00\n",
      "\n",
      "Confusion matrix:\n",
      "     1    2  3\n",
      "1  102   81  0\n",
      "2   63  129  0\n",
      "3   10   15  0\n",
      "\n",
      "\n",
      "Now analyzing performance of 'n_ingredients_1R_prediction'\n",
      "\n",
      "   Precision  Recall  F_score\n",
      "1       0.65    0.49     0.56\n",
      "2       0.57    0.78     0.66\n",
      "3       0.00    0.00     0.00\n",
      "\n",
      "Confusion matrix:\n",
      "    1    2  3\n",
      "1  89   94  0\n",
      "2  42  150  0\n",
      "3   6   19  0\n",
      "\n",
      "\n",
      "Now analyzing performance of 'n_verbs_1R_prediction'\n",
      "\n",
      "   Precision  Recall  F_score\n",
      "1       0.63    0.56     0.59\n",
      "2       0.60    0.74     0.66\n",
      "3       0.00    0.00     0.00\n",
      "\n",
      "Confusion matrix:\n",
      "     1    2  3\n",
      "1  103   80  0\n",
      "2   50  142  0\n",
      "3   11   14  0\n",
      "\n"
     ]
    }
   ],
   "source": [
    "evaluate(\"data/test_small.csv\")"
   ]
  },
  {
   "cell_type": "code",
   "execution_count": 22,
   "id": "functioning-affiliation",
   "metadata": {},
   "outputs": [
    {
     "name": "stdout",
     "output_type": "stream",
     "text": [
      "\n",
      "Now analyzing performance of 'log_prediction'\n",
      "\n",
      "Accuracy = 68.25%\n",
      "   Precision  Recall  F_score\n",
      "1       0.71    0.69     0.70\n",
      "2       0.68    0.71     0.70\n",
      "3       0.48    0.40     0.43\n",
      "\n",
      "Confusion matrix:\n",
      "     1    2   3\n",
      "1  126   53   4\n",
      "2   48  137   7\n",
      "3    3   12  10\n",
      "\n"
     ]
    }
   ],
   "source": [
    "evaluate(\"data/test_small_vec.csv\")"
   ]
  },
  {
   "cell_type": "code",
   "execution_count": null,
   "id": "alleged-lexington",
   "metadata": {},
   "outputs": [],
   "source": []
  }
 ],
 "metadata": {
  "kernelspec": {
   "display_name": "Python 3",
   "language": "python",
   "name": "python3"
  },
  "language_info": {
   "codemirror_mode": {
    "name": "ipython",
    "version": 3
   },
   "file_extension": ".py",
   "mimetype": "text/x-python",
   "name": "python",
   "nbconvert_exporter": "python",
   "pygments_lexer": "ipython3",
   "version": "3.6.8"
  }
 },
 "nbformat": 4,
 "nbformat_minor": 5
}
