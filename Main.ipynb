{
 "cells": [
  {
   "cell_type": "markdown",
   "id": "assisted-blackjack",
   "metadata": {},
   "source": [
    "# A Title"
   ]
  },
  {
   "cell_type": "markdown",
   "id": "robust-forge",
   "metadata": {},
   "source": [
    "### Global Imports"
   ]
  },
  {
   "cell_type": "code",
   "execution_count": 1,
   "id": "waiting-mongolia",
   "metadata": {},
   "outputs": [],
   "source": [
    "import numpy as np\n",
    "import pandas as pd\n",
    "import matplotlib.pyplot as plt\n",
    "from sklearn.metrics import accuracy_score\n",
    "pd.options.display.float_format = \"{:,.2f}\".format"
   ]
  },
  {
   "cell_type": "markdown",
   "id": "architectural-newman",
   "metadata": {},
   "source": [
    "## Train test split"
   ]
  },
  {
   "cell_type": "code",
   "execution_count": 3,
   "id": "coral-detection",
   "metadata": {
    "jupyter": {
     "source_hidden": true
    },
    "tags": []
   },
   "outputs": [],
   "source": [
    "from sklearn.model_selection import KFold"
   ]
  },
  {
   "cell_type": "code",
   "execution_count": 4,
   "id": "universal-frontier",
   "metadata": {
    "jupyter": {
     "source_hidden": true
    },
    "tags": []
   },
   "outputs": [],
   "source": [
    "def split(s1=20, s2=5):\n",
    "    X = pd.read_csv(\"data/recipe_train.csv\", header=0)\n",
    "\n",
    "    # change split scale here\n",
    "    kf = KFold(n_splits=s1, shuffle=True)\n",
    "    kf.get_n_splits(X)\n",
    "\n",
    "    # split to X to a(train), b(test)\n",
    "    for a, b in kf.split(X):\n",
    "\n",
    "        kf = KFold(n_splits=s2, shuffle=True)\n",
    "        kf.get_n_splits(b)\n",
    "        \n",
    "        # split again on b to c & d\n",
    "        for c, d in kf.split(b):\n",
    "\n",
    "            train_small = X.iloc[b[c]].copy(deep=True)\n",
    "            train_small['index'] = b[c]\n",
    "            test_small = X.iloc[b[d]].copy(deep=True)\n",
    "            test_small['index'] = b[d]\n",
    "\n",
    "            train_small.to_csv(\"data/train_small.csv\", index=False)\n",
    "            test_small.to_csv(\"data/test_small.csv\", index=False)\n",
    "\n",
    "            print(f\"created training set containing {len(train_small.index)} instances\")\n",
    "            print(f\"created test set containing {len(test_small.index)} instances\")\n",
    "\n",
    "            break\n",
    "        break"
   ]
  },
  {
   "cell_type": "code",
   "execution_count": 5,
   "id": "hollywood-frequency",
   "metadata": {},
   "outputs": [
    {
     "name": "stdout",
     "output_type": "stream",
     "text": [
      "created training set containing 1600 instances\n",
      "created test set containing 400 instances\n"
     ]
    }
   ],
   "source": [
    "split()"
   ]
  },
  {
   "cell_type": "markdown",
   "id": "cloudy-separate",
   "metadata": {},
   "source": [
    "## Engineering"
   ]
  },
  {
   "cell_type": "code",
   "execution_count": 6,
   "id": "plastic-tattoo",
   "metadata": {},
   "outputs": [],
   "source": [
    "def conc_vec():\n",
    "    \"\"\"concatenate doc2vec.csv to the dataset,\n",
    "    re-splits the data\"\"\"\n",
    "    \n",
    "    split()\n",
    "    train = pd.read_csv(\"data/train_small.csv\", header=0, index_col='index')\n",
    "    test = pd.read_csv(\"data/test_small.csv\", header=0, index_col='index')\n",
    "    doc_vec = pd.read_csv(\"data/train_steps_doc2vec50.csv\", names=[(f'vec_{i+1}') for i in range(50)])\n",
    "\n",
    "    train = pd.merge(train, doc_vec, left_index=True, right_index=True)\n",
    "    test = pd.merge(test, doc_vec, left_index=True, right_index=True)\n",
    "\n",
    "    train.to_csv(\"data/train_small_vec.csv\", index=False)\n",
    "    test.to_csv(\"data/test_small_vec.csv\", index=False)\n",
    "    \n",
    "    print(\"merged doc2vec50 to the dataset\")"
   ]
  },
  {
   "cell_type": "code",
   "execution_count": 7,
   "id": "prescription-membrane",
   "metadata": {},
   "outputs": [
    {
     "name": "stdout",
     "output_type": "stream",
     "text": [
      "created training set containing 1600 instances\n",
      "created test set containing 400 instances\n",
      "merged doc2vec50 to the dataset\n"
     ]
    }
   ],
   "source": [
    "conc_vec()"
   ]
  },
  {
   "cell_type": "markdown",
   "id": "retired-drawing",
   "metadata": {},
   "source": [
    "## Text preprocessing"
   ]
  },
  {
   "cell_type": "code",
   "execution_count": 8,
   "id": "mighty-inquiry",
   "metadata": {},
   "outputs": [],
   "source": [
    "#### TODO: change verb range to all synonym?\n",
    "#### e.g. is_verb(\"peel\")"
   ]
  },
  {
   "cell_type": "code",
   "execution_count": 9,
   "id": "gentle-apple",
   "metadata": {},
   "outputs": [],
   "source": [
    "from utilities.preprocessing import preprocess"
   ]
  },
  {
   "cell_type": "code",
   "execution_count": 10,
   "id": "healthy-equity",
   "metadata": {},
   "outputs": [
    {
     "name": "stdout",
     "output_type": "stream",
     "text": [
      "created training set containing 1600 instances\n",
      "created test set containing 400 instances\n"
     ]
    }
   ],
   "source": [
    "split()\n",
    "preprocess(\"data/test_small.csv\")\n",
    "preprocess(\"data/train_small.csv\")"
   ]
  },
  {
   "cell_type": "markdown",
   "id": "adaptive-turning",
   "metadata": {},
   "source": [
    "## 1R model"
   ]
  },
  {
   "cell_type": "code",
   "execution_count": 11,
   "id": "spread-replica",
   "metadata": {},
   "outputs": [],
   "source": [
    "from models.model_1R import n_1R, predict_1R"
   ]
  },
  {
   "cell_type": "code",
   "execution_count": 12,
   "id": "economic-festival",
   "metadata": {},
   "outputs": [
    {
     "name": "stdout",
     "output_type": "stream",
     "text": [
      "training on data/train_small.csv using rule: 'steps'\n",
      "predicted data/test_small.csv, saved to column 'steps_1R_prediction'\n",
      "training on data/train_small.csv using rule: 'ingredients'\n",
      "predicted data/test_small.csv, saved to column 'ingredients_1R_prediction'\n"
     ]
    }
   ],
   "source": [
    "model = n_1R(\"data/train_small.csv\", rule='steps')\n",
    "predict_1R(\"data/test_small.csv\", model, name='steps_1R_prediction')\n",
    "model = n_1R(\"data/train_small.csv\", rule='ingredients')\n",
    "predict_1R(\"data/test_small.csv\", model, name='ingredients_1R_prediction')"
   ]
  },
  {
   "cell_type": "markdown",
   "id": "discrete-danger",
   "metadata": {},
   "source": [
    "## Logistic regression - doc_vec_50"
   ]
  },
  {
   "cell_type": "code",
   "execution_count": 13,
   "id": "instant-document",
   "metadata": {},
   "outputs": [],
   "source": [
    "from sklearn.linear_model import LogisticRegression"
   ]
  },
  {
   "cell_type": "code",
   "execution_count": 14,
   "id": "recreational-costa",
   "metadata": {},
   "outputs": [
    {
     "data": {
      "text/plain": [
       "0.635"
      ]
     },
     "execution_count": 14,
     "metadata": {},
     "output_type": "execute_result"
    }
   ],
   "source": [
    "train = pd.read_csv(\"data/train_small_vec.csv\", header=0)\n",
    "test = pd.read_csv(\"data/test_small_vec.csv\", header=0)\n",
    "\n",
    "# selecting vector feature\n",
    "vec = [col for col in train.columns if (\"vec\" in col)]\n",
    "\n",
    "X_train = train.loc[:, vec]\n",
    "y_train = train['duration_label']\n",
    "X_test = test.loc[:, vec]\n",
    "y_test = test['duration_label']\n",
    "\n",
    "clf = LogisticRegression(random_state=42).fit(X_train, y_train)\n",
    "prediction = clf.predict(X_test)\n",
    "\n",
    "accuracy_score(y_test, prediction)"
   ]
  },
  {
   "cell_type": "markdown",
   "id": "sapphire-patient",
   "metadata": {},
   "source": [
    "### *#placeholder*"
   ]
  },
  {
   "cell_type": "markdown",
   "id": "dedicated-legend",
   "metadata": {},
   "source": [
    "## Evaluation"
   ]
  },
  {
   "cell_type": "code",
   "execution_count": 15,
   "id": "olympic-event",
   "metadata": {},
   "outputs": [],
   "source": [
    "from utilities.evaluation import simple_accuracy"
   ]
  },
  {
   "cell_type": "code",
   "execution_count": 16,
   "id": "floppy-delivery",
   "metadata": {},
   "outputs": [
    {
     "name": "stdout",
     "output_type": "stream",
     "text": [
      "Accuracy for 'steps_1R_prediction': 58.25%\n",
      "Accuracy for 'ingredients_1R_prediction': 58.50%\n"
     ]
    }
   ],
   "source": [
    "simple_accuracy(\"data/test_small.csv\")"
   ]
  },
  {
   "cell_type": "code",
   "execution_count": 17,
   "id": "manufactured-current",
   "metadata": {},
   "outputs": [],
   "source": [
    "from utilities.evaluation import evaluate"
   ]
  },
  {
   "cell_type": "code",
   "execution_count": 18,
   "id": "blank-muslim",
   "metadata": {},
   "outputs": [
    {
     "name": "stdout",
     "output_type": "stream",
     "text": [
      "\n",
      "Now analyzing performance of 'steps_1R_prediction'\n",
      "\n",
      "   Precision  Recall  F_score\n",
      "1       0.59    0.51     0.55\n",
      "2       0.58    0.71     0.63\n",
      "3       0.00    0.00     0.00\n",
      "\n",
      "Confusion matrix:\n",
      "    1    2  3\n",
      "1  96   93  0\n",
      "2  57  137  0\n",
      "3   9    8  0\n",
      "\n",
      "\n",
      "Now analyzing performance of 'ingredients_1R_prediction'\n",
      "\n",
      "   Precision  Recall  F_score\n",
      "1       0.57    0.63     0.60\n",
      "2       0.60    0.59     0.59\n",
      "3       0.00    0.00     0.00\n",
      "\n",
      "Confusion matrix:\n",
      "     1    2  3\n",
      "1  119   70  0\n",
      "2   79  115  0\n",
      "3    9    8  0\n",
      "\n"
     ]
    }
   ],
   "source": [
    "evaluate(\"data/test_small.csv\")"
   ]
  },
  {
   "cell_type": "code",
   "execution_count": null,
   "id": "fourth-director",
   "metadata": {},
   "outputs": [],
   "source": []
  }
 ],
 "metadata": {
  "kernelspec": {
   "display_name": "Python 3",
   "language": "python",
   "name": "python3"
  },
  "language_info": {
   "codemirror_mode": {
    "name": "ipython",
    "version": 3
   },
   "file_extension": ".py",
   "mimetype": "text/x-python",
   "name": "python",
   "nbconvert_exporter": "python",
   "pygments_lexer": "ipython3",
   "version": "3.6.8"
  }
 },
 "nbformat": 4,
 "nbformat_minor": 5
}
