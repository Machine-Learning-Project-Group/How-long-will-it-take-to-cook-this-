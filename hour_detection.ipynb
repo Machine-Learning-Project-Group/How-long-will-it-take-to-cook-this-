{
 "cells": [
  {
   "cell_type": "code",
   "execution_count": 1,
   "id": "social-legislation",
   "metadata": {},
   "outputs": [],
   "source": [
    "# apply one class SVM to detect '3' duration"
   ]
  },
  {
   "cell_type": "code",
   "execution_count": 2,
   "id": "identified-probe",
   "metadata": {},
   "outputs": [],
   "source": [
    "import numpy as np\n",
    "import pandas as pd\n",
    "import matplotlib.pyplot as plt\n",
    "import nltk\n",
    "from nltk.tokenize import RegexpTokenizer\n",
    "from nltk.stem import WordNetLemmatizer\n",
    "\n",
    "lemmatizer = WordNetLemmatizer()\n",
    "tokenizer = RegexpTokenizer(r'\\w+')"
   ]
  },
  {
   "cell_type": "code",
   "execution_count": 3,
   "id": "everyday-canvas",
   "metadata": {},
   "outputs": [],
   "source": [
    "train = pd.read_csv(\"data/recipe_train_v.csv\", header=0)\n",
    "step = train['steps'].apply(lambda steps: tokenizer.tokenize(steps)).apply(lambda steps: [lemmatizer.lemmatize(word, pos='v') for word in steps])"
   ]
  },
  {
   "cell_type": "code",
   "execution_count": 4,
   "id": "positive-wrestling",
   "metadata": {},
   "outputs": [
    {
     "name": "stdout",
     "output_type": "stream",
     "text": [
      "9102\n"
     ]
    }
   ],
   "source": [
    "h = ['hours', 'hour', 'hr', 'h', 'hrs']\n",
    "print(len([j for i in step for j in i if j in h]))"
   ]
  },
  {
   "cell_type": "code",
   "execution_count": 5,
   "id": "daily-retrieval",
   "metadata": {},
   "outputs": [],
   "source": [
    "target = step.apply(lambda x: any(i in h for i in x))\n",
    "num = target[target].index"
   ]
  },
  {
   "cell_type": "code",
   "execution_count": 6,
   "id": "irish-floor",
   "metadata": {},
   "outputs": [
    {
     "name": "stdout",
     "output_type": "stream",
     "text": [
      "4              [1]\n",
      "5              [4]\n",
      "15         [8, 24]\n",
      "19       [4, 2, 1]\n",
      "21       [several]\n",
      "           ...    \n",
      "39969          [1]\n",
      "39976     [an, an]\n",
      "39980          [2]\n",
      "39983        [one]\n",
      "39985          [2]\n",
      "Name: hours, Length: 7473, dtype: object\n"
     ]
    }
   ],
   "source": [
    "hours = step[num].apply(lambda x: [x[i-1:i+1][0] for i in range(len(x)) if x[i] in h]).rename(\"hours\")\n",
    "print(hours)"
   ]
  },
  {
   "cell_type": "code",
   "execution_count": 7,
   "id": "completed-effectiveness",
   "metadata": {},
   "outputs": [
    {
     "name": "stdout",
     "output_type": "stream",
     "text": [
      "['1', '10', '11', '12', '13', '14', '15', '16', '18', '19', '1st', '2', '20', '24', '25', '3', '36', '4', '48', '5', '6', '60', '7', '72', '8', '9', 'a', 'about', 'additional', 'an', 'and', 'another', 'approximately1', 'bake', 'chill', 'couple', 'ea', 'each', 'eight', 'every', 'few', 'final', 'first', 'five', 'for', 'four', 'full', 'further', 'good', 'half', 'hour', 'i', 'l', 'last', 'least', 'least2', 'least4', 'leave', 'make', 'medium', 'more', 'next', 'of', 'on', 'one', 'per', 'pork', 'seven', 'several', 'six', 'smoot', 'the', 'these', 'three', 'top', 'tracy', 'twelve', 'two', 'wit']\n"
     ]
    }
   ],
   "source": [
    "values = sorted(set([j for i in hours for j in i]))\n",
    "print(values)"
   ]
  },
  {
   "cell_type": "code",
   "execution_count": 8,
   "id": "genetic-sessions",
   "metadata": {},
   "outputs": [
    {
     "name": "stdout",
     "output_type": "stream",
     "text": [
      "                 0     1\n",
      "0                1     1\n",
      "1               10    10\n",
      "2               11    11\n",
      "3               12    12\n",
      "4               13    13\n",
      "5               14    14\n",
      "6               15    15\n",
      "7               16    16\n",
      "8               18    18\n",
      "9               19    19\n",
      "10             1st     1\n",
      "11               2     2\n",
      "12              20    20\n",
      "13              24    24\n",
      "14              25    25\n",
      "15               3     3\n",
      "16              36    36\n",
      "17               4     4\n",
      "18              48    48\n",
      "19               5     5\n",
      "20               6     6\n",
      "21              60    60\n",
      "22               7     7\n",
      "23              72    72\n",
      "24               8     8\n",
      "25               9     9\n",
      "26               a     1\n",
      "27           about     1\n",
      "28      additional  None\n",
      "29              an     1\n",
      "30             and  None\n",
      "31         another     1\n",
      "32  approximately1     1\n",
      "33            bake  None\n",
      "34           chill  None\n",
      "35          couple  None\n",
      "36              ea  None\n",
      "37            each  None\n",
      "38           eight     8\n",
      "39           every  None\n",
      "40             few  None\n",
      "41           final  None\n",
      "42           first  None\n",
      "43            five     5\n",
      "44             for  None\n",
      "45            four     4\n",
      "46            full     1\n",
      "47         further  None\n",
      "48            good  None\n",
      "49            half     0\n",
      "50            hour  None\n",
      "51               i     1\n",
      "52               l     1\n",
      "53            last  None\n",
      "54           least  None\n",
      "55          least2     2\n",
      "56          least4     4\n",
      "57           leave  None\n",
      "58            make  None\n",
      "59          medium  None\n",
      "60            more  None\n",
      "61            next  None\n",
      "62              of  None\n",
      "63              on  None\n",
      "64             one     1\n",
      "65             per  None\n",
      "66            pork  None\n",
      "67           seven     7\n",
      "68         several  None\n",
      "69             six     6\n",
      "70           smoot  None\n",
      "71             the  None\n",
      "72           these  None\n",
      "73           three     3\n",
      "74             top  None\n",
      "75           tracy  None\n",
      "76          twelve    12\n",
      "77             two     2\n",
      "78             wit  None\n"
     ]
    }
   ],
   "source": [
    "s_dict = {\"one\": 1, \"two\": 2, \"three\": 3, \"four\": 4, \"five\": 5, \"six\": 6, \"seven\": 7, \"eight\": 8, \"nine\": 9, \"ten\": 10, \"eleven\": 11, \"twelve\": 12,\n",
    "              \"a\": 1, \"an\": 1, \"another\": 1, \"about\": 1, \"l\": 1, \"i\": 1, \"full\": 1, \"half\": 0.5}\n",
    "def standarize(value):\n",
    "    if type(value)==int or value.isnumeric():\n",
    "        return int(value)\n",
    "    elif any(i.isnumeric() for i in value):\n",
    "        return int([i for i in value if i.isnumeric()][-1])\n",
    "    elif value in s_dict.keys():\n",
    "        return int(s_dict[value])\n",
    "    else:\n",
    "        pass\n",
    "\n",
    "\n",
    "v = [standarize(value) for value in values]\n",
    "frame = pd.DataFrame([values, v]).transpose()\n",
    "\n",
    "with pd.option_context('display.max_rows', None, 'display.max_columns', None):  # more options can be specified also\n",
    "    print(frame)\n",
    "    \n",
    "# \"half an hour\"?"
   ]
  },
  {
   "cell_type": "code",
   "execution_count": 9,
   "id": "little-comedy",
   "metadata": {},
   "outputs": [],
   "source": [
    "hours = hours.apply(lambda x: sum([standarize(i) for i in x if standarize(i)])).replace(0, np.NaN)"
   ]
  },
  {
   "cell_type": "code",
   "execution_count": 10,
   "id": "beneficial-maldives",
   "metadata": {},
   "outputs": [],
   "source": [
    "train = pd.merge(train, hours, how='left', left_index=True, right_index=True)"
   ]
  },
  {
   "cell_type": "code",
   "execution_count": 24,
   "id": "bronze-terminology",
   "metadata": {},
   "outputs": [],
   "source": [
    "# svm\n",
    "from sklearn import svm\n",
    "sample = train.dropna().copy(deep=True)\n",
    "#.loc[:, ['duration_label', 'hours', 'n_verbs']]\n",
    "\n",
    "binary = {1: 0, 2: 0, 3: 1}\n",
    "sample['duration_label'] = sample['duration_label'].apply(lambda x: binary[x])"
   ]
  },
  {
   "cell_type": "code",
   "execution_count": 25,
   "id": "brave-norway",
   "metadata": {},
   "outputs": [],
   "source": [
    "X = sample.loc[:, ['hours', 'n_verbs', 'n_ingredients']]\n",
    "y = sample['duration_label']\n",
    "\n",
    "clf = svm.SVC(kernel='rbf', gamma='auto', C=1)\n",
    "clf.fit(X, y)\n",
    "y_hat = clf.predict(X)"
   ]
  },
  {
   "cell_type": "code",
   "execution_count": 26,
   "id": "combined-transition",
   "metadata": {},
   "outputs": [
    {
     "name": "stdout",
     "output_type": "stream",
     "text": [
      "0.9112845990063875\n",
      "     Precision    Recall   F_score\n",
      "1,2   0.931742  0.950714  0.941132\n",
      "3     0.846108  0.795531  0.820040\n",
      "\n",
      "Confusion matrix:\n",
      "      1,2     3\n",
      "1,2  4996   259\n",
      "3     366  1424\n",
      "\n"
     ]
    }
   ],
   "source": [
    "# evaluation\n",
    "\n",
    "from sklearn.metrics import accuracy_score\n",
    "from sklearn.metrics import recall_score\n",
    "from sklearn.metrics import precision_score\n",
    "from sklearn.metrics import f1_score\n",
    "from sklearn.metrics import confusion_matrix\n",
    "\n",
    "print(accuracy_score(y, y_hat))\n",
    "\n",
    "precision = precision_score(y, y_hat, average=None, zero_division=0)\n",
    "recall = recall_score(y, y_hat, average=None, zero_division=0)\n",
    "f1 = f1_score(y, y_hat, average=None, zero_division=0)\n",
    "\n",
    "score = pd.DataFrame({'Precision':precision, \"Recall\":recall, \"F_score\":f1}, index=['1,2', '3'])\n",
    "print(score)\n",
    "\n",
    "matrix = confusion_matrix(y, y_hat)\n",
    "matrix = pd.DataFrame(matrix, index=['1,2', '3'], columns=['1,2', '3'])\n",
    "print(\"\\nConfusion matrix:\")\n",
    "print(matrix, end='\\n\\n')"
   ]
  },
  {
   "cell_type": "code",
   "execution_count": 29,
   "id": "modular-heating",
   "metadata": {},
   "outputs": [
    {
     "data": {
      "text/plain": [
       "<matplotlib.collections.PathCollection at 0x1f4483f91d0>"
      ]
     },
     "execution_count": 29,
     "metadata": {},
     "output_type": "execute_result"
    },
    {
     "data": {
      "image/png": "[encoded data removed]",
      "text/plain": [
       "<Figure size 432x288 with 1 Axes>"
      ]
     },
     "metadata": {
      "needs_background": "light"
     },
     "output_type": "display_data"
    }
   ],
   "source": [
    "X = sample\n",
    "plt.scatter(X.loc[:,'hours'], X.loc[:,'n_verbs'], c=X['duration_label'], cmap=plt.cm.Set1, edgecolor='k')"
   ]
  },
  {
   "cell_type": "code",
   "execution_count": null,
   "id": "subjective-compound",
   "metadata": {},
   "outputs": [],
   "source": []
  }
 ],
 "metadata": {
  "kernelspec": {
   "display_name": "Python 3",
   "language": "python",
   "name": "python3"
  },
  "language_info": {
   "codemirror_mode": {
    "name": "ipython",
    "version": 3
   },
   "file_extension": ".py",
   "mimetype": "text/x-python",
   "name": "python",
   "nbconvert_exporter": "python",
   "pygments_lexer": "ipython3",
   "version": "3.6.8"
  }
 },
 "nbformat": 4,
 "nbformat_minor": 5
}
