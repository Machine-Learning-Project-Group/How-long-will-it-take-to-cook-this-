{
 "cells": [
  {
   "cell_type": "code",
   "execution_count": 4,
   "id": "gross-villa",
   "metadata": {},
   "outputs": [],
   "source": [
    "import string\n",
    "import pandas as pd\n",
    "import re\n",
    "from nltk.tokenize import RegexpTokenizer\n",
    "\n",
    "tokenizer = RegexpTokenizer(r'\\w+')\n",
    "train_file = \"data/train_small.csv\"\n",
    "test_file = \"data/test_small.csv\""
   ]
  },
  {
   "cell_type": "markdown",
   "id": "religious-reservoir",
   "metadata": {},
   "source": [
    "# Tokenize + extract list"
   ]
  },
  {
   "cell_type": "code",
   "execution_count": 15,
   "id": "announced-judge",
   "metadata": {},
   "outputs": [],
   "source": [
    "train = pd.read_csv(train_file, header=0)\n",
    "test = pd.read_csv(test_file, header=0)\n",
    "\n",
    "train['verbs'] = train['verbs'].apply(tokenizer.tokenize)\n",
    "test['verbs'] = test['verbs'].apply(tokenizer.tokenize)"
   ]
  },
  {
   "cell_type": "code",
   "execution_count": 26,
   "id": "indonesian-adams",
   "metadata": {},
   "outputs": [],
   "source": [
    "words = sorted(set([j for i in list(train['verbs']) for j in i]))"
   ]
  },
  {
   "cell_type": "markdown",
   "id": "removable-politics",
   "metadata": {},
   "source": [
    "# Construct matrix"
   ]
  },
  {
   "cell_type": "code",
   "execution_count": 55,
   "id": "worthy-identifier",
   "metadata": {},
   "outputs": [],
   "source": [
    "def word_count(data, words):\n",
    "    \"\"\"\n",
    "    return word cound matrix,\n",
    "    data: series of list of words,\n",
    "    words: list of sorted, unique words extracted from train dataset\n",
    "    \"\"\"\n",
    "    counts = pd.DataFrame(index=data.index, columns=words).fillna(0)\n",
    "    for index, verbs in data.iteritems():\n",
    "        for verb in verbs:\n",
    "            if verb in words:\n",
    "                counts.loc[index, verb] +=1\n",
    "    return counts"
   ]
  },
  {
   "cell_type": "code",
   "execution_count": 56,
   "id": "czech-zimbabwe",
   "metadata": {},
   "outputs": [],
   "source": [
    "train_count = word_count(train['verbs'], words)\n",
    "test_count = word_count(test['verbs'], words)"
   ]
  },
  {
   "cell_type": "markdown",
   "id": "spoken-verification",
   "metadata": {},
   "source": [
    "# PCA"
   ]
  },
  {
   "cell_type": "code",
   "execution_count": 57,
   "id": "fatty-state",
   "metadata": {},
   "outputs": [],
   "source": [
    "from sklearn import decomposition"
   ]
  },
  {
   "cell_type": "code",
   "execution_count": 134,
   "id": "wound-electricity",
   "metadata": {},
   "outputs": [],
   "source": [
    "pca = decomposition.PCA(n_components=50)\n",
    "pca.fit(train_count)\n",
    "X_train = pca.transform(train_count)\n",
    "X_test = pca.transform(test_count)"
   ]
  },
  {
   "cell_type": "markdown",
   "id": "optical-concert",
   "metadata": {},
   "source": [
    "# Log Predict"
   ]
  },
  {
   "cell_type": "code",
   "execution_count": 135,
   "id": "dramatic-summer",
   "metadata": {},
   "outputs": [],
   "source": [
    "from sklearn.linear_model import LogisticRegression"
   ]
  },
  {
   "cell_type": "code",
   "execution_count": 136,
   "id": "hundred-stupid",
   "metadata": {},
   "outputs": [],
   "source": [
    "y_train = train['duration_label']\n",
    "y_test = test['duration_label']"
   ]
  },
  {
   "cell_type": "code",
   "execution_count": 137,
   "id": "ceramic-health",
   "metadata": {},
   "outputs": [],
   "source": [
    "model = LogisticRegression(random_state=42, max_iter=2000).fit(X_train, y_train)\n",
    "y_hat = model.predict(X_test)"
   ]
  },
  {
   "cell_type": "code",
   "execution_count": 138,
   "id": "unsigned-spine",
   "metadata": {},
   "outputs": [],
   "source": [
    "from sklearn.metrics import accuracy_score\n",
    "from sklearn.metrics import recall_score\n",
    "from sklearn.metrics import precision_score\n",
    "from sklearn.metrics import f1_score\n",
    "from sklearn.metrics import confusion_matrix"
   ]
  },
  {
   "cell_type": "code",
   "execution_count": 139,
   "id": "geological-mother",
   "metadata": {},
   "outputs": [
    {
     "name": "stdout",
     "output_type": "stream",
     "text": [
      "0.7025\n",
      "   Precision    Recall   F_score\n",
      "1   0.694301  0.732240  0.712766\n",
      "2   0.725806  0.703125  0.714286\n",
      "3   0.571429  0.480000  0.521739\n",
      "\n",
      "Confusion matrix:\n",
      "     1    2   3\n",
      "1  134   45   4\n",
      "2   52  135   5\n",
      "3    7    6  12\n",
      "\n"
     ]
    }
   ],
   "source": [
    "print(accuracy_score(y_test, y_hat))\n",
    "\n",
    "precision = precision_score(y_test, y_hat, average=None, zero_division=0)\n",
    "recall = recall_score(y_test, y_hat, average=None, zero_division=0)\n",
    "f1 = f1_score(y_test, y_hat, average=None, zero_division=0)\n",
    "\n",
    "score = pd.DataFrame({'Precision':precision, \"Recall\":recall, \"F_score\":f1}, index=[1,2,3])\n",
    "print(score)\n",
    "\n",
    "matrix = confusion_matrix(y_test, y_hat)\n",
    "matrix = pd.DataFrame(matrix, index=[1,2,3], columns=[1,2,3])\n",
    "print(\"\\nConfusion matrix:\")\n",
    "print(matrix, end='\\n\\n')"
   ]
  },
  {
   "cell_type": "code",
   "execution_count": null,
   "id": "fifth-frost",
   "metadata": {},
   "outputs": [],
   "source": []
  }
 ],
 "metadata": {
  "kernelspec": {
   "display_name": "Python 3",
   "language": "python",
   "name": "python3"
  },
  "language_info": {
   "codemirror_mode": {
    "name": "ipython",
    "version": 3
   },
   "file_extension": ".py",
   "mimetype": "text/x-python",
   "name": "python",
   "nbconvert_exporter": "python",
   "pygments_lexer": "ipython3",
   "version": "3.6.8"
  }
 },
 "nbformat": 4,
 "nbformat_minor": 5
}
