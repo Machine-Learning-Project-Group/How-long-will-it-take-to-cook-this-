{
 "cells": [
  {
   "cell_type": "code",
   "execution_count": 1,
   "id": "embedded-variable",
   "metadata": {},
   "outputs": [],
   "source": [
    "import string\n",
    "import pandas as pd\n",
    "import re\n",
    "from nltk.tokenize import RegexpTokenizer\n",
    "\n",
    "tokenizer = RegexpTokenizer(r'\\w+')\n",
    "train_file = \"data/train_small.csv\"\n",
    "test_file = \"data/test_small.csv\""
   ]
  },
  {
   "cell_type": "markdown",
   "id": "structured-techno",
   "metadata": {},
   "source": [
    "# Tokenize + extract list"
   ]
  },
  {
   "cell_type": "code",
   "execution_count": 2,
   "id": "incoming-colombia",
   "metadata": {},
   "outputs": [],
   "source": [
    "train = pd.read_csv(train_file, header=0)\n",
    "test = pd.read_csv(test_file, header=0)\n",
    "\n",
    "train['verbs'] = train['verbs'].apply(tokenizer.tokenize)\n",
    "test['verbs'] = test['verbs'].apply(tokenizer.tokenize)"
   ]
  },
  {
   "cell_type": "code",
   "execution_count": 3,
   "id": "previous-immigration",
   "metadata": {},
   "outputs": [],
   "source": [
    "words = sorted(set([j for i in list(train['verbs']) for j in i]))"
   ]
  },
  {
   "cell_type": "markdown",
   "id": "artistic-mobile",
   "metadata": {},
   "source": [
    "# Construct matrix"
   ]
  },
  {
   "cell_type": "code",
   "execution_count": 4,
   "id": "statewide-composer",
   "metadata": {},
   "outputs": [],
   "source": [
    "def word_count(data, words):\n",
    "    \"\"\"\n",
    "    return word cound matrix,\n",
    "    data: series of list of words,\n",
    "    words: list of sorted, unique words extracted from train dataset\n",
    "    \"\"\"\n",
    "    counts = pd.DataFrame(index=data.index, columns=words).fillna(0)\n",
    "    for index, verbs in data.iteritems():\n",
    "        for verb in verbs:\n",
    "            if verb in words:\n",
    "                counts.loc[index, verb] +=1\n",
    "    return counts"
   ]
  },
  {
   "cell_type": "code",
   "execution_count": 5,
   "id": "angry-clothing",
   "metadata": {},
   "outputs": [],
   "source": [
    "train_count = word_count(train['verbs'], words)\n",
    "test_count = word_count(test['verbs'], words)"
   ]
  },
  {
   "cell_type": "code",
   "execution_count": 16,
   "id": "minor-terry",
   "metadata": {},
   "outputs": [
    {
     "name": "stdout",
     "output_type": "stream",
     "text": [
      "Index(['absorb', 'accommodate', 'accompany', 'accord', 'accumulate', 'achieve',\n",
      "       'add', 'adhere', 'adjust', 'advance',\n",
      "       ...\n",
      "       'wire', 'wish', 'work', 'worry', 'wrap', 'wrinkle', 'write', 'yellow',\n",
      "       'yield', 'zest'],\n",
      "      dtype='object', length=978)\n"
     ]
    }
   ],
   "source": [
    "#train_count.sum(axis=0)\n",
    "a = train_count.drop([col for col, val in train_count.sum().iteritems() if val < 10], axis=1)\n",
    "b = test_count.drop([col for col, val in train_count.sum().iteritems() if val < 10], axis=1)\n",
    "print(a.columns)"
   ]
  },
  {
   "cell_type": "code",
   "execution_count": 59,
   "id": "recreational-standing",
   "metadata": {},
   "outputs": [],
   "source": [
    "from sklearn import svm\n",
    "from sklearn.linear_model import LogisticRegression\n",
    "from sklearn.metrics import accuracy_score, recall_score, precision_score, f1_score, confusion_matrix\n",
    "from sklearn.feature_selection import SelectKBest, f_classif, mutual_info_classif\n",
    "\n",
    "clf = svm.LinearSVC(C=1, max_iter=1000)\n",
    "clf2 = LogisticRegression(random_state=42, max_iter=1000)\n",
    "\n",
    "y = train['duration_label']\n",
    "y_t = test['duration_label']"
   ]
  },
  {
   "cell_type": "code",
   "execution_count": 36,
   "id": "phantom-puzzle",
   "metadata": {},
   "outputs": [
    {
     "name": "stdout",
     "output_type": "stream",
     "text": [
      "--------80--------\n",
      "Index(['absorb', 'accord', 'achieve', 'add', 'adjust', 'air', 'allow',\n",
      "       'alternate', 'amount', 'appear',\n",
      "       ...\n",
      "       'wine', 'wipe', 'wire', 'wish', 'work', 'worry', 'wrap', 'yellow',\n",
      "       'yield', 'zest'],\n",
      "      dtype='object', length=530)\n"
     ]
    },
    {
     "name": "stderr",
     "output_type": "stream",
     "text": [
      "c:\\users\\25791\\appdata\\local\\programs\\python\\python36\\lib\\site-packages\\sklearn\\svm\\_base.py:986: ConvergenceWarning: Liblinear failed to converge, increase the number of iterations.\n",
      "  \"the number of iterations.\", ConvergenceWarning)\n"
     ]
    },
    {
     "name": "stdout",
     "output_type": "stream",
     "text": [
      "----------------------SVM\n",
      "Accuracy : 73.06%\n",
      "   Precision    Recall   F_score\n",
      "1   0.697815  0.752270  0.724020\n",
      "2   0.758162  0.741769  0.749876\n",
      "3   0.799087  0.431034  0.560000\n",
      "\n",
      "Confusion matrix:\n",
      "      1     2    3\n",
      "1  2651   851   22\n",
      "2  1029  3019   22\n",
      "3   119   112  175\n",
      "----------------------Log\n",
      "Accuracy : 72.95%\n",
      "   Precision    Recall   F_score\n",
      "1   0.706663  0.740352  0.723115\n",
      "2   0.753404  0.747666  0.750524\n",
      "3   0.684015  0.453202  0.545185\n",
      "\n",
      "Confusion matrix:\n",
      "      1     2    3\n",
      "1  2609   881   34\n",
      "2   976  3043   51\n",
      "3   107   115  184\n",
      "\n",
      "--------85--------\n",
      "Index(['absorb', 'accord', 'achieve', 'add', 'adjust', 'air', 'allow',\n",
      "       'alternate', 'amount', 'appear',\n",
      "       ...\n",
      "       'wine', 'wipe', 'wire', 'wish', 'work', 'worry', 'wrap', 'yellow',\n",
      "       'yield', 'zest'],\n",
      "      dtype='object', length=519)\n"
     ]
    },
    {
     "name": "stderr",
     "output_type": "stream",
     "text": [
      "c:\\users\\25791\\appdata\\local\\programs\\python\\python36\\lib\\site-packages\\sklearn\\svm\\_base.py:986: ConvergenceWarning: Liblinear failed to converge, increase the number of iterations.\n",
      "  \"the number of iterations.\", ConvergenceWarning)\n"
     ]
    },
    {
     "name": "stdout",
     "output_type": "stream",
     "text": [
      "----------------------SVM\n",
      "Accuracy : 73.20%\n",
      "   Precision    Recall   F_score\n",
      "1   0.698947  0.753689  0.725287\n",
      "2   0.760050  0.743243  0.751553\n",
      "3   0.795455  0.431034  0.559105\n",
      "\n",
      "Confusion matrix:\n",
      "      1     2    3\n",
      "1  2656   846   22\n",
      "2  1022  3025   23\n",
      "3   122   109  175\n",
      "----------------------Log\n",
      "Accuracy : 72.99%\n",
      "   Precision    Recall   F_score\n",
      "1   0.706519  0.741203  0.723446\n",
      "2   0.754090  0.747420  0.750740\n",
      "3   0.687732  0.455665  0.548148\n",
      "\n",
      "Confusion matrix:\n",
      "      1     2    3\n",
      "1  2612   878   34\n",
      "2   978  3042   50\n",
      "3   107   114  185\n",
      "\n",
      "--------90--------\n",
      "Index(['absorb', 'accord', 'achieve', 'add', 'adjust', 'air', 'allow',\n",
      "       'alternate', 'amount', 'appear',\n",
      "       ...\n",
      "       'wine', 'wipe', 'wire', 'wish', 'work', 'worry', 'wrap', 'yellow',\n",
      "       'yield', 'zest'],\n",
      "      dtype='object', length=507)\n"
     ]
    },
    {
     "name": "stderr",
     "output_type": "stream",
     "text": [
      "c:\\users\\25791\\appdata\\local\\programs\\python\\python36\\lib\\site-packages\\sklearn\\svm\\_base.py:986: ConvergenceWarning: Liblinear failed to converge, increase the number of iterations.\n",
      "  \"the number of iterations.\", ConvergenceWarning)\n"
     ]
    },
    {
     "name": "stdout",
     "output_type": "stream",
     "text": [
      "----------------------SVM\n",
      "Accuracy : 73.02%\n",
      "   Precision    Recall   F_score\n",
      "1   0.697002  0.751986  0.723451\n",
      "2   0.758421  0.741278  0.749751\n",
      "3   0.795455  0.431034  0.559105\n",
      "\n",
      "Confusion matrix:\n",
      "      1     2    3\n",
      "1  2650   852   22\n",
      "2  1030  3017   23\n",
      "3   122   109  175\n",
      "----------------------Log\n",
      "Accuracy : 73.02%\n",
      "   Precision    Recall   F_score\n",
      "1   0.705914  0.741771  0.723398\n",
      "2   0.754900  0.747666  0.751265\n",
      "3   0.695489  0.455665  0.550595\n",
      "\n",
      "Confusion matrix:\n",
      "      1     2    3\n",
      "1  2614   877   33\n",
      "2   979  3043   48\n",
      "3   110   111  185\n",
      "\n",
      "--------95--------\n",
      "Index(['absorb', 'accord', 'achieve', 'add', 'adjust', 'air', 'allow',\n",
      "       'alternate', 'amount', 'appear',\n",
      "       ...\n",
      "       'wine', 'wipe', 'wire', 'wish', 'work', 'worry', 'wrap', 'yellow',\n",
      "       'yield', 'zest'],\n",
      "      dtype='object', length=498)\n"
     ]
    },
    {
     "name": "stderr",
     "output_type": "stream",
     "text": [
      "c:\\users\\25791\\appdata\\local\\programs\\python\\python36\\lib\\site-packages\\sklearn\\svm\\_base.py:986: ConvergenceWarning: Liblinear failed to converge, increase the number of iterations.\n",
      "  \"the number of iterations.\", ConvergenceWarning)\n"
     ]
    },
    {
     "name": "stdout",
     "output_type": "stream",
     "text": [
      "----------------------SVM\n",
      "Accuracy : 72.97%\n",
      "   Precision    Recall   F_score\n",
      "1   0.696372  0.751703  0.722980\n",
      "2   0.757858  0.740541  0.749099\n",
      "3   0.799087  0.431034  0.560000\n",
      "\n",
      "Confusion matrix:\n",
      "      1     2    3\n",
      "1  2649   853   22\n",
      "2  1034  3014   22\n",
      "3   121   110  175\n",
      "----------------------Log\n",
      "Accuracy : 72.99%\n",
      "   Precision    Recall   F_score\n",
      "1   0.704772  0.741771  0.722798\n",
      "2   0.754656  0.746683  0.750648\n",
      "3   0.704545  0.458128  0.555224\n",
      "\n",
      "Confusion matrix:\n",
      "      1     2    3\n",
      "1  2614   877   33\n",
      "2   986  3039   45\n",
      "3   109   111  186\n",
      "\n",
      "--------100--------\n",
      "Index(['absorb', 'accord', 'achieve', 'add', 'adjust', 'air', 'allow',\n",
      "       'alternate', 'amount', 'appear',\n",
      "       ...\n",
      "       'wine', 'wipe', 'wire', 'wish', 'work', 'worry', 'wrap', 'yellow',\n",
      "       'yield', 'zest'],\n",
      "      dtype='object', length=490)\n"
     ]
    },
    {
     "name": "stderr",
     "output_type": "stream",
     "text": [
      "c:\\users\\25791\\appdata\\local\\programs\\python\\python36\\lib\\site-packages\\sklearn\\svm\\_base.py:986: ConvergenceWarning: Liblinear failed to converge, increase the number of iterations.\n",
      "  \"the number of iterations.\", ConvergenceWarning)\n"
     ]
    },
    {
     "name": "stdout",
     "output_type": "stream",
     "text": [
      "----------------------SVM\n",
      "Accuracy : 73.04%\n",
      "   Precision    Recall   F_score\n",
      "1   0.696954  0.753121  0.723950\n",
      "2   0.758812  0.740541  0.749565\n",
      "3   0.795455  0.431034  0.559105\n",
      "\n",
      "Confusion matrix:\n",
      "      1     2    3\n",
      "1  2654   849   21\n",
      "2  1032  3014   24\n",
      "3   122   109  175\n",
      "----------------------Log\n",
      "Accuracy : 73.02%\n",
      "   Precision    Recall   F_score\n",
      "1   0.705644  0.741487  0.723122\n",
      "2   0.755026  0.747420  0.751204\n",
      "3   0.697761  0.460591  0.554896\n",
      "\n",
      "Confusion matrix:\n",
      "      1     2    3\n",
      "1  2613   878   33\n",
      "2   980  3042   48\n",
      "3   110   109  187\n",
      "\n",
      "--------105--------\n",
      "Index(['absorb', 'accord', 'achieve', 'add', 'adjust', 'air', 'allow',\n",
      "       'alternate', 'amount', 'appear',\n",
      "       ...\n",
      "       'wine', 'wipe', 'wire', 'wish', 'work', 'worry', 'wrap', 'yellow',\n",
      "       'yield', 'zest'],\n",
      "      dtype='object', length=477)\n"
     ]
    },
    {
     "name": "stderr",
     "output_type": "stream",
     "text": [
      "c:\\users\\25791\\appdata\\local\\programs\\python\\python36\\lib\\site-packages\\sklearn\\svm\\_base.py:986: ConvergenceWarning: Liblinear failed to converge, increase the number of iterations.\n",
      "  \"the number of iterations.\", ConvergenceWarning)\n"
     ]
    },
    {
     "name": "stdout",
     "output_type": "stream",
     "text": [
      "----------------------SVM\n",
      "Accuracy : 73.04%\n",
      "   Precision    Recall   F_score\n",
      "1   0.696954  0.753121  0.723950\n",
      "2   0.758812  0.740541  0.749565\n",
      "3   0.795455  0.431034  0.559105\n",
      "\n",
      "Confusion matrix:\n",
      "      1     2    3\n",
      "1  2654   848   22\n",
      "2  1033  3014   23\n",
      "3   121   110  175\n",
      "----------------------Log\n",
      "Accuracy : 72.96%\n",
      "   Precision    Recall   F_score\n",
      "1   0.705246  0.740068  0.722238\n",
      "2   0.753778  0.747666  0.750709\n",
      "3   0.701887  0.458128  0.554396\n",
      "\n",
      "Confusion matrix:\n",
      "      1     2    3\n",
      "1  2608   882   34\n",
      "2   982  3043   45\n",
      "3   108   112  186\n",
      "\n",
      "--------110--------\n",
      "Index(['absorb', 'accord', 'add', 'adjust', 'air', 'allow', 'alternate',\n",
      "       'amount', 'appear', 'arrange',\n",
      "       ...\n",
      "       'win', 'wine', 'wipe', 'wire', 'wish', 'work', 'wrap', 'yellow',\n",
      "       'yield', 'zest'],\n",
      "      dtype='object', length=469)\n"
     ]
    },
    {
     "name": "stderr",
     "output_type": "stream",
     "text": [
      "c:\\users\\25791\\appdata\\local\\programs\\python\\python36\\lib\\site-packages\\sklearn\\svm\\_base.py:986: ConvergenceWarning: Liblinear failed to converge, increase the number of iterations.\n",
      "  \"the number of iterations.\", ConvergenceWarning)\n"
     ]
    },
    {
     "name": "stdout",
     "output_type": "stream",
     "text": [
      "----------------------SVM\n",
      "Accuracy : 73.06%\n",
      "   Precision    Recall   F_score\n",
      "1   0.697448  0.752270  0.723823\n",
      "2   0.758673  0.741523  0.750000\n",
      "3   0.796380  0.433498  0.561404\n",
      "\n",
      "Confusion matrix:\n",
      "      1     2    3\n",
      "1  2651   851   22\n",
      "2  1029  3018   23\n",
      "3   121   109  176\n",
      "----------------------Log\n",
      "Accuracy : 72.97%\n",
      "   Precision    Recall   F_score\n",
      "1   0.706042  0.739501  0.722384\n",
      "2   0.753526  0.748157  0.750832\n",
      "3   0.697761  0.460591  0.554896\n",
      "\n",
      "Confusion matrix:\n",
      "      1     2    3\n",
      "1  2606   885   33\n",
      "2   977  3045   48\n",
      "3   108   111  187\n",
      "\n",
      "--------115--------\n",
      "Index(['absorb', 'accord', 'add', 'adjust', 'air', 'allow', 'alternate',\n",
      "       'amount', 'appear', 'arrange',\n",
      "       ...\n",
      "       'win', 'wine', 'wipe', 'wire', 'wish', 'work', 'wrap', 'yellow',\n",
      "       'yield', 'zest'],\n",
      "      dtype='object', length=463)\n"
     ]
    },
    {
     "name": "stderr",
     "output_type": "stream",
     "text": [
      "c:\\users\\25791\\appdata\\local\\programs\\python\\python36\\lib\\site-packages\\sklearn\\svm\\_base.py:986: ConvergenceWarning: Liblinear failed to converge, increase the number of iterations.\n",
      "  \"the number of iterations.\", ConvergenceWarning)\n"
     ]
    },
    {
     "name": "stdout",
     "output_type": "stream",
     "text": [
      "----------------------SVM\n",
      "Accuracy : 72.99%\n",
      "   Precision    Recall   F_score\n",
      "1   0.696555  0.751703  0.723079\n",
      "2   0.757858  0.740541  0.749099\n",
      "3   0.800000  0.433498  0.562300\n",
      "\n",
      "Confusion matrix:\n",
      "      1     2    3\n",
      "1  2649   853   22\n",
      "2  1034  3014   22\n",
      "3   120   110  176\n",
      "----------------------Log\n",
      "Accuracy : 72.96%\n",
      "   Precision    Recall   F_score\n",
      "1   0.705357  0.739784  0.722161\n",
      "2   0.753591  0.747666  0.750617\n",
      "3   0.703008  0.460591  0.556548\n",
      "\n",
      "Confusion matrix:\n",
      "      1     2    3\n",
      "1  2607   884   33\n",
      "2   981  3043   46\n",
      "3   108   111  187\n",
      "\n",
      "--------120--------\n",
      "Index(['absorb', 'accord', 'add', 'adjust', 'air', 'allow', 'alternate',\n",
      "       'amount', 'appear', 'arrange',\n",
      "       ...\n",
      "       'wilt', 'win', 'wipe', 'wire', 'wish', 'work', 'wrap', 'yellow',\n",
      "       'yield', 'zest'],\n",
      "      dtype='object', length=455)\n"
     ]
    },
    {
     "ename": "KeyboardInterrupt",
     "evalue": "",
     "output_type": "error",
     "traceback": [
      "\u001b[1;31m---------------------------------------------------------------------------\u001b[0m",
      "\u001b[1;31mKeyboardInterrupt\u001b[0m                         Traceback (most recent call last)",
      "\u001b[1;32m<ipython-input-36-55a184e9ccb7>\u001b[0m in \u001b[0;36m<module>\u001b[1;34m\u001b[0m\n\u001b[0;32m      7\u001b[0m     \u001b[0my\u001b[0m \u001b[1;33m=\u001b[0m \u001b[0mtrain\u001b[0m\u001b[1;33m[\u001b[0m\u001b[1;34m'duration_label'\u001b[0m\u001b[1;33m]\u001b[0m\u001b[1;33m\u001b[0m\u001b[1;33m\u001b[0m\u001b[0m\n\u001b[0;32m      8\u001b[0m     \u001b[0my_t\u001b[0m \u001b[1;33m=\u001b[0m \u001b[0mtest\u001b[0m\u001b[1;33m[\u001b[0m\u001b[1;34m'duration_label'\u001b[0m\u001b[1;33m]\u001b[0m\u001b[1;33m\u001b[0m\u001b[1;33m\u001b[0m\u001b[0m\n\u001b[1;32m----> 9\u001b[1;33m     \u001b[0mclf\u001b[0m\u001b[1;33m.\u001b[0m\u001b[0mfit\u001b[0m\u001b[1;33m(\u001b[0m\u001b[0ma\u001b[0m\u001b[1;33m,\u001b[0m \u001b[0my\u001b[0m\u001b[1;33m)\u001b[0m\u001b[1;33m\u001b[0m\u001b[1;33m\u001b[0m\u001b[0m\n\u001b[0m\u001b[0;32m     10\u001b[0m     \u001b[0mclf2\u001b[0m\u001b[1;33m.\u001b[0m\u001b[0mfit\u001b[0m\u001b[1;33m(\u001b[0m\u001b[0ma\u001b[0m\u001b[1;33m,\u001b[0m \u001b[0my\u001b[0m\u001b[1;33m)\u001b[0m\u001b[1;33m\u001b[0m\u001b[1;33m\u001b[0m\u001b[0m\n\u001b[0;32m     11\u001b[0m \u001b[1;33m\u001b[0m\u001b[0m\n",
      "\u001b[1;32mc:\\users\\25791\\appdata\\local\\programs\\python\\python36\\lib\\site-packages\\sklearn\\svm\\_classes.py\u001b[0m in \u001b[0;36mfit\u001b[1;34m(self, X, y, sample_weight)\u001b[0m\n\u001b[0;32m    236\u001b[0m             \u001b[0mself\u001b[0m\u001b[1;33m.\u001b[0m\u001b[0mclass_weight\u001b[0m\u001b[1;33m,\u001b[0m \u001b[0mself\u001b[0m\u001b[1;33m.\u001b[0m\u001b[0mpenalty\u001b[0m\u001b[1;33m,\u001b[0m \u001b[0mself\u001b[0m\u001b[1;33m.\u001b[0m\u001b[0mdual\u001b[0m\u001b[1;33m,\u001b[0m \u001b[0mself\u001b[0m\u001b[1;33m.\u001b[0m\u001b[0mverbose\u001b[0m\u001b[1;33m,\u001b[0m\u001b[1;33m\u001b[0m\u001b[1;33m\u001b[0m\u001b[0m\n\u001b[0;32m    237\u001b[0m             \u001b[0mself\u001b[0m\u001b[1;33m.\u001b[0m\u001b[0mmax_iter\u001b[0m\u001b[1;33m,\u001b[0m \u001b[0mself\u001b[0m\u001b[1;33m.\u001b[0m\u001b[0mtol\u001b[0m\u001b[1;33m,\u001b[0m \u001b[0mself\u001b[0m\u001b[1;33m.\u001b[0m\u001b[0mrandom_state\u001b[0m\u001b[1;33m,\u001b[0m \u001b[0mself\u001b[0m\u001b[1;33m.\u001b[0m\u001b[0mmulti_class\u001b[0m\u001b[1;33m,\u001b[0m\u001b[1;33m\u001b[0m\u001b[1;33m\u001b[0m\u001b[0m\n\u001b[1;32m--> 238\u001b[1;33m             self.loss, sample_weight=sample_weight)\n\u001b[0m\u001b[0;32m    239\u001b[0m \u001b[1;33m\u001b[0m\u001b[0m\n\u001b[0;32m    240\u001b[0m         \u001b[1;32mif\u001b[0m \u001b[0mself\u001b[0m\u001b[1;33m.\u001b[0m\u001b[0mmulti_class\u001b[0m \u001b[1;33m==\u001b[0m \u001b[1;34m\"crammer_singer\"\u001b[0m \u001b[1;32mand\u001b[0m \u001b[0mlen\u001b[0m\u001b[1;33m(\u001b[0m\u001b[0mself\u001b[0m\u001b[1;33m.\u001b[0m\u001b[0mclasses_\u001b[0m\u001b[1;33m)\u001b[0m \u001b[1;33m==\u001b[0m \u001b[1;36m2\u001b[0m\u001b[1;33m:\u001b[0m\u001b[1;33m\u001b[0m\u001b[1;33m\u001b[0m\u001b[0m\n",
      "\u001b[1;32mc:\\users\\25791\\appdata\\local\\programs\\python\\python36\\lib\\site-packages\\sklearn\\svm\\_base.py\u001b[0m in \u001b[0;36m_fit_liblinear\u001b[1;34m(X, y, C, fit_intercept, intercept_scaling, class_weight, penalty, dual, verbose, max_iter, tol, random_state, multi_class, loss, epsilon, sample_weight)\u001b[0m\n\u001b[0;32m    976\u001b[0m         \u001b[0mX\u001b[0m\u001b[1;33m,\u001b[0m \u001b[0my_ind\u001b[0m\u001b[1;33m,\u001b[0m \u001b[0msp\u001b[0m\u001b[1;33m.\u001b[0m\u001b[0misspmatrix\u001b[0m\u001b[1;33m(\u001b[0m\u001b[0mX\u001b[0m\u001b[1;33m)\u001b[0m\u001b[1;33m,\u001b[0m \u001b[0msolver_type\u001b[0m\u001b[1;33m,\u001b[0m \u001b[0mtol\u001b[0m\u001b[1;33m,\u001b[0m \u001b[0mbias\u001b[0m\u001b[1;33m,\u001b[0m \u001b[0mC\u001b[0m\u001b[1;33m,\u001b[0m\u001b[1;33m\u001b[0m\u001b[1;33m\u001b[0m\u001b[0m\n\u001b[0;32m    977\u001b[0m         \u001b[0mclass_weight_\u001b[0m\u001b[1;33m,\u001b[0m \u001b[0mmax_iter\u001b[0m\u001b[1;33m,\u001b[0m \u001b[0mrnd\u001b[0m\u001b[1;33m.\u001b[0m\u001b[0mrandint\u001b[0m\u001b[1;33m(\u001b[0m\u001b[0mnp\u001b[0m\u001b[1;33m.\u001b[0m\u001b[0miinfo\u001b[0m\u001b[1;33m(\u001b[0m\u001b[1;34m'i'\u001b[0m\u001b[1;33m)\u001b[0m\u001b[1;33m.\u001b[0m\u001b[0mmax\u001b[0m\u001b[1;33m)\u001b[0m\u001b[1;33m,\u001b[0m\u001b[1;33m\u001b[0m\u001b[1;33m\u001b[0m\u001b[0m\n\u001b[1;32m--> 978\u001b[1;33m         epsilon, sample_weight)\n\u001b[0m\u001b[0;32m    979\u001b[0m     \u001b[1;31m# Regarding rnd.randint(..) in the above signature:\u001b[0m\u001b[1;33m\u001b[0m\u001b[1;33m\u001b[0m\u001b[1;33m\u001b[0m\u001b[0m\n\u001b[0;32m    980\u001b[0m     \u001b[1;31m# seed for srand in range [0..INT_MAX); due to limitations in Numpy\u001b[0m\u001b[1;33m\u001b[0m\u001b[1;33m\u001b[0m\u001b[1;33m\u001b[0m\u001b[0m\n",
      "\u001b[1;31mKeyboardInterrupt\u001b[0m: "
     ]
    }
   ],
   "source": [
    "for i in range(80, 200, 5):\n",
    "    print(f\"--------{i}--------\")\n",
    "    a = train_count.drop([col for col, val in train_count.sum().iteritems() if val < i], axis=1)\n",
    "    b = test_count.drop([col for col, val in train_count.sum().iteritems() if val < i], axis=1)\n",
    "    print(a.columns)\n",
    "\n",
    "    y = train['duration_label']\n",
    "    y_t = test['duration_label']\n",
    "    clf.fit(a, y)\n",
    "    clf2.fit(a, y)\n",
    "    \n",
    "    pre1 = clf.predict(b)\n",
    "    pre2 = clf2.predict(b)\n",
    "    \n",
    "    print(\"----------------------SVM\")\n",
    "    score = accuracy_score(y_t, pre1)\n",
    "    print(f\"Accuracy : {(score*100):.2f}%\")\n",
    "\n",
    "    precision = precision_score(y_t, pre1, average=None, zero_division=0)\n",
    "    recall = recall_score(y_t, pre1, average=None, zero_division=0)\n",
    "    f1 = f1_score(y_t, pre1, average=None, zero_division=0)\n",
    "\n",
    "    score = pd.DataFrame({'Precision':precision, \"Recall\":recall, \"F_score\":f1}, index=[1,2,3])\n",
    "    print(score)\n",
    "\n",
    "    matrix = confusion_matrix(y_t, pre1)\n",
    "    matrix = pd.DataFrame(matrix, index=[1,2,3], columns=[1,2,3])\n",
    "    print(\"\\nConfusion matrix:\")\n",
    "    print(matrix, end='\\n')\n",
    "    print(\"----------------------Log\")\n",
    "    score = accuracy_score(y_t, pre2)\n",
    "    print(f\"Accuracy : {(score*100):.2f}%\")\n",
    "\n",
    "    precision = precision_score(y_t, pre2, average=None, zero_division=0)\n",
    "    recall = recall_score(y_t, pre2, average=None, zero_division=0)\n",
    "    f1 = f1_score(y_t, pre2, average=None, zero_division=0)\n",
    "\n",
    "    score = pd.DataFrame({'Precision':precision, \"Recall\":recall, \"F_score\":f1}, index=[1,2,3])\n",
    "    print(score)\n",
    "\n",
    "    matrix = confusion_matrix(y_t, pre2)\n",
    "    matrix = pd.DataFrame(matrix, index=[1,2,3], columns=[1,2,3])\n",
    "    print(\"\\nConfusion matrix:\")\n",
    "    print(matrix, end='\\n\\n')"
   ]
  },
  {
   "cell_type": "markdown",
   "id": "engaging-controversy",
   "metadata": {},
   "source": [
    "# PCA"
   ]
  },
  {
   "cell_type": "code",
   "execution_count": 40,
   "id": "rising-motion",
   "metadata": {},
   "outputs": [],
   "source": [
    "from sklearn import decomposition"
   ]
  },
  {
   "cell_type": "code",
   "execution_count": 49,
   "id": "global-panel",
   "metadata": {},
   "outputs": [],
   "source": [
    "pca = decomposition.PCA(n_components=100)\n",
    "pca.fit(a)\n",
    "X_train = pca.transform(a)\n",
    "X_test = pca.transform(b)"
   ]
  },
  {
   "cell_type": "markdown",
   "id": "literary-slovak",
   "metadata": {},
   "source": [
    "# Log Predict"
   ]
  },
  {
   "cell_type": "code",
   "execution_count": 50,
   "id": "whole-peter",
   "metadata": {},
   "outputs": [],
   "source": [
    "from sklearn.linear_model import LogisticRegression\n",
    "from sklearn.metrics import accuracy_score, recall_score, precision_score, f1_score, confusion_matrix"
   ]
  },
  {
   "cell_type": "code",
   "execution_count": 51,
   "id": "irish-paste",
   "metadata": {},
   "outputs": [],
   "source": [
    "y_train = train['duration_label']\n",
    "y_test = test['duration_label']"
   ]
  },
  {
   "cell_type": "code",
   "execution_count": 52,
   "id": "activated-wellington",
   "metadata": {},
   "outputs": [],
   "source": [
    "model = LogisticRegression(random_state=42, max_iter=2000).fit(X_train, y_train)\n",
    "y_hat = model.predict(X_test)"
   ]
  },
  {
   "cell_type": "code",
   "execution_count": 54,
   "id": "seasonal-soccer",
   "metadata": {},
   "outputs": [
    {
     "name": "stdout",
     "output_type": "stream",
     "text": [
      "0.714125\n",
      "   Precision    Recall   F_score\n",
      "1   0.684765  0.737230  0.710030\n",
      "2   0.744129  0.739558  0.741836\n",
      "3   0.652174  0.258621  0.370370\n",
      "\n",
      "Confusion matrix:\n",
      "      1     2    3\n",
      "1  2598   903   23\n",
      "2  1027  3010   33\n",
      "3   169   132  105\n",
      "\n"
     ]
    }
   ],
   "source": [
    "print(accuracy_score(y_test, y_hat))\n",
    "\n",
    "precision = precision_score(y_test, y_hat, average=None, zero_division=0)\n",
    "recall = recall_score(y_test, y_hat, average=None, zero_division=0)\n",
    "f1 = f1_score(y_test, y_hat, average=None, zero_division=0)\n",
    "\n",
    "score = pd.DataFrame({'Precision':precision, \"Recall\":recall, \"F_score\":f1}, index=[1,2,3])\n",
    "print(score)\n",
    "\n",
    "matrix = confusion_matrix(y_test, y_hat)\n",
    "matrix = pd.DataFrame(matrix, index=[1,2,3], columns=[1,2,3])\n",
    "print(\"\\nConfusion matrix:\")\n",
    "print(matrix, end='\\n\\n')"
   ]
  },
  {
   "cell_type": "code",
   "execution_count": null,
   "id": "structured-belarus",
   "metadata": {},
   "outputs": [],
   "source": []
  }
 ],
 "metadata": {
  "kernelspec": {
   "display_name": "Python 3",
   "language": "python",
   "name": "python3"
  },
  "language_info": {
   "codemirror_mode": {
    "name": "ipython",
    "version": 3
   },
   "file_extension": ".py",
   "mimetype": "text/x-python",
   "name": "python",
   "nbconvert_exporter": "python",
   "pygments_lexer": "ipython3",
   "version": "3.6.8"
  }
 },
 "nbformat": 4,
 "nbformat_minor": 5
}
